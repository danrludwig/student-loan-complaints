{
 "cells": [
  {
   "cell_type": "code",
   "execution_count": 2,
   "metadata": {},
   "outputs": [],
   "source": [
    "# Import libraries for data manipulation and visualization.\n",
    "import pandas as pd\n",
    "import seaborn as sns\n",
    "import matplotlib.pyplot as plt\n",
    "import numpy as np"
   ]
  },
  {
   "cell_type": "code",
   "execution_count": 3,
   "metadata": {},
   "outputs": [
    {
     "name": "stdout",
     "output_type": "stream",
     "text": [
      "<class 'pandas.core.frame.DataFrame'>\n",
      "RangeIndex: 59155 entries, 0 to 59154\n",
      "Data columns (total 18 columns):\n",
      " #   Column                        Non-Null Count  Dtype \n",
      "---  ------                        --------------  ----- \n",
      " 0   Date received                 59155 non-null  object\n",
      " 1   Product                       59155 non-null  object\n",
      " 2   Sub-product                   59155 non-null  object\n",
      " 3   Issue                         59155 non-null  object\n",
      " 4   Sub-issue                     59155 non-null  object\n",
      " 5   Consumer complaint narrative  26854 non-null  object\n",
      " 6   Company public response       59155 non-null  object\n",
      " 7   Company                       59155 non-null  object\n",
      " 8   State                         59155 non-null  object\n",
      " 9   ZIP code                      59155 non-null  object\n",
      " 10  Tags                          59155 non-null  object\n",
      " 11  Consumer consent provided?    43030 non-null  object\n",
      " 12  Submitted via                 59155 non-null  object\n",
      " 13  Date sent to company          59155 non-null  object\n",
      " 14  Company response to consumer  59155 non-null  object\n",
      " 15  Timely response?              59155 non-null  object\n",
      " 16  Consumer disputed?            32537 non-null  object\n",
      " 17  Complaint ID                  59155 non-null  int64 \n",
      "dtypes: int64(1), object(17)\n",
      "memory usage: 8.1+ MB\n"
     ]
    }
   ],
   "source": [
    "# Retrieve data from csv and review data information to get aquainted with it\n",
    "data = pd.read_csv('../data/complaints-2020-09-14_15_39.csv')\n",
    "data.info()"
   ]
  },
  {
   "cell_type": "code",
   "execution_count": 4,
   "metadata": {},
   "outputs": [
    {
     "data": {
      "text/html": [
       "<div>\n",
       "<style scoped>\n",
       "    .dataframe tbody tr th:only-of-type {\n",
       "        vertical-align: middle;\n",
       "    }\n",
       "\n",
       "    .dataframe tbody tr th {\n",
       "        vertical-align: top;\n",
       "    }\n",
       "\n",
       "    .dataframe thead th {\n",
       "        text-align: right;\n",
       "    }\n",
       "</style>\n",
       "<table border=\"1\" class=\"dataframe\">\n",
       "  <thead>\n",
       "    <tr style=\"text-align: right;\">\n",
       "      <th></th>\n",
       "      <th>Date received</th>\n",
       "      <th>Product</th>\n",
       "      <th>Sub-product</th>\n",
       "      <th>Issue</th>\n",
       "      <th>Sub-issue</th>\n",
       "      <th>Consumer complaint narrative</th>\n",
       "      <th>Company public response</th>\n",
       "      <th>Company</th>\n",
       "      <th>State</th>\n",
       "      <th>ZIP code</th>\n",
       "      <th>Tags</th>\n",
       "      <th>Consumer consent provided?</th>\n",
       "      <th>Submitted via</th>\n",
       "      <th>Date sent to company</th>\n",
       "      <th>Company response to consumer</th>\n",
       "      <th>Timely response?</th>\n",
       "      <th>Consumer disputed?</th>\n",
       "      <th>Complaint ID</th>\n",
       "    </tr>\n",
       "  </thead>\n",
       "  <tbody>\n",
       "    <tr>\n",
       "      <th>0</th>\n",
       "      <td>05/19/20</td>\n",
       "      <td>Student loan</td>\n",
       "      <td>Private student loan</td>\n",
       "      <td>Dealing with your lender or servicer</td>\n",
       "      <td>Received bad information about your loan</td>\n",
       "      <td>When I was applying for my loan my XXXX accoun...</td>\n",
       "      <td>None</td>\n",
       "      <td>Figure Technologies, Inc</td>\n",
       "      <td>NJ</td>\n",
       "      <td>None</td>\n",
       "      <td>None</td>\n",
       "      <td>Consent provided</td>\n",
       "      <td>Web</td>\n",
       "      <td>05/19/20</td>\n",
       "      <td>Closed with explanation</td>\n",
       "      <td>Yes</td>\n",
       "      <td>NaN</td>\n",
       "      <td>3660074</td>\n",
       "    </tr>\n",
       "    <tr>\n",
       "      <th>1</th>\n",
       "      <td>01/11/20</td>\n",
       "      <td>Student loan</td>\n",
       "      <td>Federal student loan servicing</td>\n",
       "      <td>Dealing with your lender or servicer</td>\n",
       "      <td>Trouble with how payments are being handled</td>\n",
       "      <td>NaN</td>\n",
       "      <td>None</td>\n",
       "      <td>AES/PHEAA</td>\n",
       "      <td>MN</td>\n",
       "      <td>553XX</td>\n",
       "      <td>None</td>\n",
       "      <td>Consent not provided</td>\n",
       "      <td>Web</td>\n",
       "      <td>01/11/20</td>\n",
       "      <td>Closed with monetary relief</td>\n",
       "      <td>Yes</td>\n",
       "      <td>NaN</td>\n",
       "      <td>3492778</td>\n",
       "    </tr>\n",
       "    <tr>\n",
       "      <th>2</th>\n",
       "      <td>02/06/20</td>\n",
       "      <td>Student loan</td>\n",
       "      <td>Federal student loan servicing</td>\n",
       "      <td>Incorrect information on your report</td>\n",
       "      <td>Account status incorrect</td>\n",
       "      <td>I'm on a deferred payment plan t never ; late</td>\n",
       "      <td>None</td>\n",
       "      <td>Nelnet, Inc.</td>\n",
       "      <td>TX</td>\n",
       "      <td>770XX</td>\n",
       "      <td>None</td>\n",
       "      <td>Consent provided</td>\n",
       "      <td>Web</td>\n",
       "      <td>02/10/20</td>\n",
       "      <td>Closed with explanation</td>\n",
       "      <td>Yes</td>\n",
       "      <td>NaN</td>\n",
       "      <td>3522975</td>\n",
       "    </tr>\n",
       "    <tr>\n",
       "      <th>3</th>\n",
       "      <td>02/08/20</td>\n",
       "      <td>Student loan</td>\n",
       "      <td>Federal student loan servicing</td>\n",
       "      <td>Dealing with your lender or servicer</td>\n",
       "      <td>Problem with customer service</td>\n",
       "      <td>I have attempted multiple times to contact FED...</td>\n",
       "      <td>None</td>\n",
       "      <td>AES/PHEAA</td>\n",
       "      <td>KY</td>\n",
       "      <td>407XX</td>\n",
       "      <td>None</td>\n",
       "      <td>Consent provided</td>\n",
       "      <td>Web</td>\n",
       "      <td>02/08/20</td>\n",
       "      <td>Closed with non-monetary relief</td>\n",
       "      <td>Yes</td>\n",
       "      <td>NaN</td>\n",
       "      <td>3524942</td>\n",
       "    </tr>\n",
       "    <tr>\n",
       "      <th>4</th>\n",
       "      <td>01/21/20</td>\n",
       "      <td>Student loan</td>\n",
       "      <td>Federal student loan servicing</td>\n",
       "      <td>Dealing with your lender or servicer</td>\n",
       "      <td>Trouble with how payments are being handled</td>\n",
       "      <td>I was divorced in 2004 and I agreed to take th...</td>\n",
       "      <td>None</td>\n",
       "      <td>AES/PHEAA</td>\n",
       "      <td>OK</td>\n",
       "      <td>731XX</td>\n",
       "      <td>None</td>\n",
       "      <td>Consent provided</td>\n",
       "      <td>Web</td>\n",
       "      <td>01/21/20</td>\n",
       "      <td>Closed with explanation</td>\n",
       "      <td>Yes</td>\n",
       "      <td>NaN</td>\n",
       "      <td>3503232</td>\n",
       "    </tr>\n",
       "  </tbody>\n",
       "</table>\n",
       "</div>"
      ],
      "text/plain": [
       "  Date received       Product                     Sub-product  \\\n",
       "0      05/19/20  Student loan            Private student loan   \n",
       "1      01/11/20  Student loan  Federal student loan servicing   \n",
       "2      02/06/20  Student loan  Federal student loan servicing   \n",
       "3      02/08/20  Student loan  Federal student loan servicing   \n",
       "4      01/21/20  Student loan  Federal student loan servicing   \n",
       "\n",
       "                                  Issue  \\\n",
       "0  Dealing with your lender or servicer   \n",
       "1  Dealing with your lender or servicer   \n",
       "2  Incorrect information on your report   \n",
       "3  Dealing with your lender or servicer   \n",
       "4  Dealing with your lender or servicer   \n",
       "\n",
       "                                     Sub-issue  \\\n",
       "0     Received bad information about your loan   \n",
       "1  Trouble with how payments are being handled   \n",
       "2                     Account status incorrect   \n",
       "3                Problem with customer service   \n",
       "4  Trouble with how payments are being handled   \n",
       "\n",
       "                        Consumer complaint narrative Company public response  \\\n",
       "0  When I was applying for my loan my XXXX accoun...                    None   \n",
       "1                                                NaN                    None   \n",
       "2      I'm on a deferred payment plan t never ; late                    None   \n",
       "3  I have attempted multiple times to contact FED...                    None   \n",
       "4  I was divorced in 2004 and I agreed to take th...                    None   \n",
       "\n",
       "                    Company State ZIP code  Tags Consumer consent provided?  \\\n",
       "0  Figure Technologies, Inc    NJ     None  None           Consent provided   \n",
       "1                 AES/PHEAA    MN    553XX  None       Consent not provided   \n",
       "2              Nelnet, Inc.    TX    770XX  None           Consent provided   \n",
       "3                 AES/PHEAA    KY    407XX  None           Consent provided   \n",
       "4                 AES/PHEAA    OK    731XX  None           Consent provided   \n",
       "\n",
       "  Submitted via Date sent to company     Company response to consumer  \\\n",
       "0           Web             05/19/20          Closed with explanation   \n",
       "1           Web             01/11/20      Closed with monetary relief   \n",
       "2           Web             02/10/20          Closed with explanation   \n",
       "3           Web             02/08/20  Closed with non-monetary relief   \n",
       "4           Web             01/21/20          Closed with explanation   \n",
       "\n",
       "  Timely response? Consumer disputed?  Complaint ID  \n",
       "0              Yes                NaN       3660074  \n",
       "1              Yes                NaN       3492778  \n",
       "2              Yes                NaN       3522975  \n",
       "3              Yes                NaN       3524942  \n",
       "4              Yes                NaN       3503232  "
      ]
     },
     "execution_count": 4,
     "metadata": {},
     "output_type": "execute_result"
    }
   ],
   "source": [
    "data.head()"
   ]
  },
  {
   "cell_type": "code",
   "execution_count": 5,
   "metadata": {},
   "outputs": [
    {
     "data": {
      "text/html": [
       "<div>\n",
       "<style scoped>\n",
       "    .dataframe tbody tr th:only-of-type {\n",
       "        vertical-align: middle;\n",
       "    }\n",
       "\n",
       "    .dataframe tbody tr th {\n",
       "        vertical-align: top;\n",
       "    }\n",
       "\n",
       "    .dataframe thead th {\n",
       "        text-align: right;\n",
       "    }\n",
       "</style>\n",
       "<table border=\"1\" class=\"dataframe\">\n",
       "  <thead>\n",
       "    <tr style=\"text-align: right;\">\n",
       "      <th></th>\n",
       "      <th>Complaint ID</th>\n",
       "    </tr>\n",
       "  </thead>\n",
       "  <tbody>\n",
       "    <tr>\n",
       "      <th>count</th>\n",
       "      <td>5.915500e+04</td>\n",
       "    </tr>\n",
       "    <tr>\n",
       "      <th>mean</th>\n",
       "      <td>2.229264e+06</td>\n",
       "    </tr>\n",
       "    <tr>\n",
       "      <th>std</th>\n",
       "      <td>9.493948e+05</td>\n",
       "    </tr>\n",
       "    <tr>\n",
       "      <th>min</th>\n",
       "      <td>8.200000e+01</td>\n",
       "    </tr>\n",
       "    <tr>\n",
       "      <th>25%</th>\n",
       "      <td>1.746459e+06</td>\n",
       "    </tr>\n",
       "    <tr>\n",
       "      <th>50%</th>\n",
       "      <td>2.363585e+06</td>\n",
       "    </tr>\n",
       "    <tr>\n",
       "      <th>75%</th>\n",
       "      <td>2.942010e+06</td>\n",
       "    </tr>\n",
       "    <tr>\n",
       "      <th>max</th>\n",
       "      <td>3.836492e+06</td>\n",
       "    </tr>\n",
       "  </tbody>\n",
       "</table>\n",
       "</div>"
      ],
      "text/plain": [
       "       Complaint ID\n",
       "count  5.915500e+04\n",
       "mean   2.229264e+06\n",
       "std    9.493948e+05\n",
       "min    8.200000e+01\n",
       "25%    1.746459e+06\n",
       "50%    2.363585e+06\n",
       "75%    2.942010e+06\n",
       "max    3.836492e+06"
      ]
     },
     "execution_count": 5,
     "metadata": {},
     "output_type": "execute_result"
    }
   ],
   "source": [
    "data.describe()"
   ]
  },
  {
   "cell_type": "code",
   "execution_count": 6,
   "metadata": {},
   "outputs": [
    {
     "data": {
      "text/plain": [
       "No     26601\n",
       "Yes     5936\n",
       "Name: Consumer disputed?, dtype: int64"
      ]
     },
     "execution_count": 6,
     "metadata": {},
     "output_type": "execute_result"
    }
   ],
   "source": [
    "data['Consumer disputed?'].value_counts()"
   ]
  },
  {
   "cell_type": "markdown",
   "metadata": {},
   "source": [
    "The only numerical column is [Consumer disputed?], but doesn't have any values. Usually we would try to fix this issue, but since I don't own the data I can't fix it or retrieve the proper information."
   ]
  },
  {
   "cell_type": "code",
   "execution_count": 7,
   "metadata": {},
   "outputs": [
    {
     "data": {
      "text/plain": [
       "Student loan    59155\n",
       "Name: Product, dtype: int64"
      ]
     },
     "execution_count": 7,
     "metadata": {},
     "output_type": "execute_result"
    }
   ],
   "source": [
    "data['Product'].value_counts()"
   ]
  },
  {
   "cell_type": "markdown",
   "metadata": {},
   "source": [
    "[Product] only has one value because I've already filtered this data down to only student loan data."
   ]
  },
  {
   "cell_type": "code",
   "execution_count": 8,
   "metadata": {},
   "outputs": [
    {
     "data": {
      "text/plain": [
       "'12/31/19'"
      ]
     },
     "execution_count": 8,
     "metadata": {},
     "output_type": "execute_result"
    }
   ],
   "source": [
    "data['Date received'].max()"
   ]
  },
  {
   "cell_type": "code",
   "execution_count": 9,
   "metadata": {},
   "outputs": [
    {
     "data": {
      "text/plain": [
       "7560     12/31/19\n",
       "1337     12/31/19\n",
       "16907    12/31/19\n",
       "1213     12/31/19\n",
       "28463    12/31/19\n",
       "           ...   \n",
       "20534    01/01/13\n",
       "37106    01/01/13\n",
       "52624    01/01/13\n",
       "58166    01/01/13\n",
       "49867    01/01/13\n",
       "Name: Date received, Length: 59155, dtype: object"
      ]
     },
     "execution_count": 9,
     "metadata": {},
     "output_type": "execute_result"
    }
   ],
   "source": [
    "data['Date received'].sort_values(ascending=False)"
   ]
  },
  {
   "cell_type": "code",
   "execution_count": 10,
   "metadata": {},
   "outputs": [
    {
     "data": {
      "text/plain": [
       "'01/01/13'"
      ]
     },
     "execution_count": 10,
     "metadata": {},
     "output_type": "execute_result"
    }
   ],
   "source": [
    "data['Date received'].min()"
   ]
  },
  {
   "cell_type": "markdown",
   "metadata": {},
   "source": [
    "It looks like the data spans from January 01, 2013 through December 31, 2019 (8 years of data). There hasn't been an update at all during 2020 so my guess would be the dataset gets updated yearly."
   ]
  },
  {
   "cell_type": "code",
   "execution_count": 11,
   "metadata": {},
   "outputs": [],
   "source": [
    "data['Date received'] = pd.to_datetime(data['Date received'])\n",
    "data['month'] = data['Date received'].dt.month\n",
    "data['year'] = data['Date received'].dt.year"
   ]
  },
  {
   "cell_type": "code",
   "execution_count": 12,
   "metadata": {},
   "outputs": [
    {
     "data": {
      "text/plain": [
       "0        2020\n",
       "1        2020\n",
       "2        2020\n",
       "3        2020\n",
       "4        2020\n",
       "         ... \n",
       "59150    2019\n",
       "59151    2017\n",
       "59152    2017\n",
       "59153    2017\n",
       "59154    2017\n",
       "Name: year, Length: 59155, dtype: int64"
      ]
     },
     "execution_count": 12,
     "metadata": {},
     "output_type": "execute_result"
    }
   ],
   "source": [
    "data['year']"
   ]
  },
  {
   "cell_type": "code",
   "execution_count": 18,
   "metadata": {},
   "outputs": [
    {
     "data": {
      "text/plain": [
       "2012"
      ]
     },
     "execution_count": 18,
     "metadata": {},
     "output_type": "execute_result"
    }
   ],
   "source": [
    "data['year'].min()"
   ]
  },
  {
   "cell_type": "markdown",
   "metadata": {},
   "source": [
    "Interesting enough when I pull the year I can see that 2012 is actually the lowest value. Lets take a look deeper into this. "
   ]
  },
  {
   "cell_type": "code",
   "execution_count": 14,
   "metadata": {},
   "outputs": [
    {
     "data": {
      "text/plain": [
       "<matplotlib.axes._subplots.AxesSubplot at 0x200bb580358>"
      ]
     },
     "execution_count": 14,
     "metadata": {},
     "output_type": "execute_result"
    },
    {
     "data": {
      "image/png": "[encoded data removed]",
      "text/plain": [
       "<Figure size 432x288 with 1 Axes>"
      ]
     },
     "metadata": {
      "needs_background": "light"
     },
     "output_type": "display_data"
    }
   ],
   "source": [
    "data['year'].value_counts().plot(kind='barh')"
   ]
  },
  {
   "cell_type": "code",
   "execution_count": 19,
   "metadata": {},
   "outputs": [
    {
     "data": {
      "text/plain": [
       "2020"
      ]
     },
     "execution_count": 19,
     "metadata": {},
     "output_type": "execute_result"
    }
   ],
   "source": [
    "data['year'].max()"
   ]
  },
  {
   "cell_type": "code",
   "execution_count": 20,
   "metadata": {},
   "outputs": [
    {
     "data": {
      "text/plain": [
       "Timestamp('2020-09-08 00:00:00')"
      ]
     },
     "execution_count": 20,
     "metadata": {},
     "output_type": "execute_result"
    }
   ],
   "source": [
    "data['Date received'].max()"
   ]
  },
  {
   "cell_type": "code",
   "execution_count": 21,
   "metadata": {},
   "outputs": [
    {
     "data": {
      "text/html": [
       "<div>\n",
       "<style scoped>\n",
       "    .dataframe tbody tr th:only-of-type {\n",
       "        vertical-align: middle;\n",
       "    }\n",
       "\n",
       "    .dataframe tbody tr th {\n",
       "        vertical-align: top;\n",
       "    }\n",
       "\n",
       "    .dataframe thead th {\n",
       "        text-align: right;\n",
       "    }\n",
       "</style>\n",
       "<table border=\"1\" class=\"dataframe\">\n",
       "  <thead>\n",
       "    <tr style=\"text-align: right;\">\n",
       "      <th></th>\n",
       "      <th>Date received</th>\n",
       "      <th>Product</th>\n",
       "      <th>Sub-product</th>\n",
       "      <th>Issue</th>\n",
       "      <th>Sub-issue</th>\n",
       "      <th>Consumer complaint narrative</th>\n",
       "      <th>Company public response</th>\n",
       "      <th>Company</th>\n",
       "      <th>State</th>\n",
       "      <th>ZIP code</th>\n",
       "      <th>Tags</th>\n",
       "      <th>Consumer consent provided?</th>\n",
       "      <th>Submitted via</th>\n",
       "      <th>Date sent to company</th>\n",
       "      <th>Company response to consumer</th>\n",
       "      <th>Timely response?</th>\n",
       "      <th>Consumer disputed?</th>\n",
       "      <th>Complaint ID</th>\n",
       "      <th>month</th>\n",
       "      <th>year</th>\n",
       "    </tr>\n",
       "  </thead>\n",
       "  <tbody>\n",
       "    <tr>\n",
       "      <th>9623</th>\n",
       "      <td>2020-09-08</td>\n",
       "      <td>Student loan</td>\n",
       "      <td>Federal student loan servicing</td>\n",
       "      <td>Dealing with your lender or servicer</td>\n",
       "      <td>Trouble with how payments are being handled</td>\n",
       "      <td>NaN</td>\n",
       "      <td>None</td>\n",
       "      <td>Navient Solutions, LLC.</td>\n",
       "      <td>FL</td>\n",
       "      <td>34609</td>\n",
       "      <td>Older American</td>\n",
       "      <td>None</td>\n",
       "      <td>Web</td>\n",
       "      <td>09/08/20</td>\n",
       "      <td>Closed with explanation</td>\n",
       "      <td>Yes</td>\n",
       "      <td>NaN</td>\n",
       "      <td>3836492</td>\n",
       "      <td>9</td>\n",
       "      <td>2020</td>\n",
       "    </tr>\n",
       "  </tbody>\n",
       "</table>\n",
       "</div>"
      ],
      "text/plain": [
       "     Date received       Product                     Sub-product  \\\n",
       "9623    2020-09-08  Student loan  Federal student loan servicing   \n",
       "\n",
       "                                     Issue  \\\n",
       "9623  Dealing with your lender or servicer   \n",
       "\n",
       "                                        Sub-issue  \\\n",
       "9623  Trouble with how payments are being handled   \n",
       "\n",
       "     Consumer complaint narrative Company public response  \\\n",
       "9623                          NaN                    None   \n",
       "\n",
       "                      Company State ZIP code            Tags  \\\n",
       "9623  Navient Solutions, LLC.    FL    34609  Older American   \n",
       "\n",
       "     Consumer consent provided? Submitted via Date sent to company  \\\n",
       "9623                       None           Web             09/08/20   \n",
       "\n",
       "     Company response to consumer Timely response? Consumer disputed?  \\\n",
       "9623      Closed with explanation              Yes                NaN   \n",
       "\n",
       "      Complaint ID  month  year  \n",
       "9623       3836492      9  2020  "
      ]
     },
     "execution_count": 21,
     "metadata": {},
     "output_type": "execute_result"
    }
   ],
   "source": [
    "data.loc[data['Date received'] == data['Date received'].max()]"
   ]
  },
  {
   "cell_type": "markdown",
   "metadata": {},
   "source": [
    "The logic might've been off when I checked out the min and max data, as we can see here there actaully is data from 2020, so I'm going to pull and look at all the information for 2020, then I will do for the minimum year as well, which I think is 2012 (but we will find out)."
   ]
  },
  {
   "cell_type": "code",
   "execution_count": 39,
   "metadata": {},
   "outputs": [
    {
     "name": "stdout",
     "output_type": "stream",
     "text": [
      "Count of 2020 instances: 3278\n",
      "Count of 2011 instances: 0\n",
      "Count of 2012 instances: 2840\n"
     ]
    }
   ],
   "source": [
    "def dataframeSize(dataframe):\n",
    "    return dataframe.shape[0]\n",
    "\n",
    "data_2020 = data.loc[data['year'] == 2020]\n",
    "print(\"Count of 2020 instances:\", dataframeSize(data_2020))\n",
    "\n",
    "# Here I'm just making sure there aren't any complaints from 2011.\n",
    "data_2011 = data.loc[data['year'] == 2011]\n",
    "print(\"Count of 2011 instances:\", dataframeSize(data_2011))\n",
    "\n",
    "data_2012 = data.loc[data['year'] == 2012]\n",
    "print(\"Count of 2012 instances:\", dataframeSize(data_2012))"
   ]
  },
  {
   "cell_type": "markdown",
   "metadata": {},
   "source": [
    "Thus we see there aren't any instances in 2011, but there are instances in 2012. "
   ]
  },
  {
   "cell_type": "markdown",
   "metadata": {},
   "source": [
    "One thing we learned a few lines of code back was there aren't consumer complaint narratives for ever instance. Since this project will be on working with text analytics that's not something we want. So, we are going to explore that and see what data is missing the complaint narrative (approxamitely 55% of the data is missing the narratives)."
   ]
  },
  {
   "cell_type": "code",
   "execution_count": 40,
   "metadata": {},
   "outputs": [
    {
     "data": {
      "text/html": [
       "<div>\n",
       "<style scoped>\n",
       "    .dataframe tbody tr th:only-of-type {\n",
       "        vertical-align: middle;\n",
       "    }\n",
       "\n",
       "    .dataframe tbody tr th {\n",
       "        vertical-align: top;\n",
       "    }\n",
       "\n",
       "    .dataframe thead th {\n",
       "        text-align: right;\n",
       "    }\n",
       "</style>\n",
       "<table border=\"1\" class=\"dataframe\">\n",
       "  <thead>\n",
       "    <tr style=\"text-align: right;\">\n",
       "      <th>year</th>\n",
       "      <th>2012</th>\n",
       "      <th>2013</th>\n",
       "      <th>2014</th>\n",
       "      <th>2015</th>\n",
       "      <th>2016</th>\n",
       "      <th>2017</th>\n",
       "      <th>2018</th>\n",
       "      <th>2019</th>\n",
       "      <th>2020</th>\n",
       "    </tr>\n",
       "  </thead>\n",
       "  <tbody>\n",
       "    <tr>\n",
       "      <th>Company</th>\n",
       "      <td>2840</td>\n",
       "      <td>3005</td>\n",
       "      <td>4283</td>\n",
       "      <td>4501</td>\n",
       "      <td>8087</td>\n",
       "      <td>17173</td>\n",
       "      <td>8776</td>\n",
       "      <td>7212</td>\n",
       "      <td>3278</td>\n",
       "    </tr>\n",
       "    <tr>\n",
       "      <th>Company public response</th>\n",
       "      <td>2840</td>\n",
       "      <td>3005</td>\n",
       "      <td>4283</td>\n",
       "      <td>4501</td>\n",
       "      <td>8087</td>\n",
       "      <td>17173</td>\n",
       "      <td>8776</td>\n",
       "      <td>7212</td>\n",
       "      <td>3278</td>\n",
       "    </tr>\n",
       "    <tr>\n",
       "      <th>Company response to consumer</th>\n",
       "      <td>2840</td>\n",
       "      <td>3005</td>\n",
       "      <td>4283</td>\n",
       "      <td>4501</td>\n",
       "      <td>8087</td>\n",
       "      <td>17173</td>\n",
       "      <td>8776</td>\n",
       "      <td>7212</td>\n",
       "      <td>3278</td>\n",
       "    </tr>\n",
       "    <tr>\n",
       "      <th>Complaint ID</th>\n",
       "      <td>2840</td>\n",
       "      <td>3005</td>\n",
       "      <td>4283</td>\n",
       "      <td>4501</td>\n",
       "      <td>8087</td>\n",
       "      <td>17173</td>\n",
       "      <td>8776</td>\n",
       "      <td>7212</td>\n",
       "      <td>3278</td>\n",
       "    </tr>\n",
       "    <tr>\n",
       "      <th>Consumer complaint narrative</th>\n",
       "      <td>0</td>\n",
       "      <td>0</td>\n",
       "      <td>0</td>\n",
       "      <td>1805</td>\n",
       "      <td>4179</td>\n",
       "      <td>9642</td>\n",
       "      <td>5291</td>\n",
       "      <td>4282</td>\n",
       "      <td>1655</td>\n",
       "    </tr>\n",
       "    <tr>\n",
       "      <th>Consumer consent provided?</th>\n",
       "      <td>0</td>\n",
       "      <td>0</td>\n",
       "      <td>0</td>\n",
       "      <td>3122</td>\n",
       "      <td>6990</td>\n",
       "      <td>15761</td>\n",
       "      <td>7916</td>\n",
       "      <td>6366</td>\n",
       "      <td>2875</td>\n",
       "    </tr>\n",
       "    <tr>\n",
       "      <th>Consumer disputed?</th>\n",
       "      <td>2840</td>\n",
       "      <td>3005</td>\n",
       "      <td>4283</td>\n",
       "      <td>4501</td>\n",
       "      <td>8087</td>\n",
       "      <td>9821</td>\n",
       "      <td>0</td>\n",
       "      <td>0</td>\n",
       "      <td>0</td>\n",
       "    </tr>\n",
       "    <tr>\n",
       "      <th>Date received</th>\n",
       "      <td>2840</td>\n",
       "      <td>3005</td>\n",
       "      <td>4283</td>\n",
       "      <td>4501</td>\n",
       "      <td>8087</td>\n",
       "      <td>17173</td>\n",
       "      <td>8776</td>\n",
       "      <td>7212</td>\n",
       "      <td>3278</td>\n",
       "    </tr>\n",
       "    <tr>\n",
       "      <th>Date sent to company</th>\n",
       "      <td>2840</td>\n",
       "      <td>3005</td>\n",
       "      <td>4283</td>\n",
       "      <td>4501</td>\n",
       "      <td>8087</td>\n",
       "      <td>17173</td>\n",
       "      <td>8776</td>\n",
       "      <td>7212</td>\n",
       "      <td>3278</td>\n",
       "    </tr>\n",
       "    <tr>\n",
       "      <th>Issue</th>\n",
       "      <td>2840</td>\n",
       "      <td>3005</td>\n",
       "      <td>4283</td>\n",
       "      <td>4501</td>\n",
       "      <td>8087</td>\n",
       "      <td>17173</td>\n",
       "      <td>8776</td>\n",
       "      <td>7212</td>\n",
       "      <td>3278</td>\n",
       "    </tr>\n",
       "    <tr>\n",
       "      <th>Product</th>\n",
       "      <td>2840</td>\n",
       "      <td>3005</td>\n",
       "      <td>4283</td>\n",
       "      <td>4501</td>\n",
       "      <td>8087</td>\n",
       "      <td>17173</td>\n",
       "      <td>8776</td>\n",
       "      <td>7212</td>\n",
       "      <td>3278</td>\n",
       "    </tr>\n",
       "    <tr>\n",
       "      <th>State</th>\n",
       "      <td>2840</td>\n",
       "      <td>3005</td>\n",
       "      <td>4283</td>\n",
       "      <td>4501</td>\n",
       "      <td>8087</td>\n",
       "      <td>17173</td>\n",
       "      <td>8776</td>\n",
       "      <td>7212</td>\n",
       "      <td>3278</td>\n",
       "    </tr>\n",
       "    <tr>\n",
       "      <th>Sub-issue</th>\n",
       "      <td>2840</td>\n",
       "      <td>3005</td>\n",
       "      <td>4283</td>\n",
       "      <td>4501</td>\n",
       "      <td>8087</td>\n",
       "      <td>17173</td>\n",
       "      <td>8776</td>\n",
       "      <td>7212</td>\n",
       "      <td>3278</td>\n",
       "    </tr>\n",
       "    <tr>\n",
       "      <th>Sub-product</th>\n",
       "      <td>2840</td>\n",
       "      <td>3005</td>\n",
       "      <td>4283</td>\n",
       "      <td>4501</td>\n",
       "      <td>8087</td>\n",
       "      <td>17173</td>\n",
       "      <td>8776</td>\n",
       "      <td>7212</td>\n",
       "      <td>3278</td>\n",
       "    </tr>\n",
       "    <tr>\n",
       "      <th>Submitted via</th>\n",
       "      <td>2840</td>\n",
       "      <td>3005</td>\n",
       "      <td>4283</td>\n",
       "      <td>4501</td>\n",
       "      <td>8087</td>\n",
       "      <td>17173</td>\n",
       "      <td>8776</td>\n",
       "      <td>7212</td>\n",
       "      <td>3278</td>\n",
       "    </tr>\n",
       "    <tr>\n",
       "      <th>Tags</th>\n",
       "      <td>2840</td>\n",
       "      <td>3005</td>\n",
       "      <td>4283</td>\n",
       "      <td>4501</td>\n",
       "      <td>8087</td>\n",
       "      <td>17173</td>\n",
       "      <td>8776</td>\n",
       "      <td>7212</td>\n",
       "      <td>3278</td>\n",
       "    </tr>\n",
       "    <tr>\n",
       "      <th>Timely response?</th>\n",
       "      <td>2840</td>\n",
       "      <td>3005</td>\n",
       "      <td>4283</td>\n",
       "      <td>4501</td>\n",
       "      <td>8087</td>\n",
       "      <td>17173</td>\n",
       "      <td>8776</td>\n",
       "      <td>7212</td>\n",
       "      <td>3278</td>\n",
       "    </tr>\n",
       "    <tr>\n",
       "      <th>ZIP code</th>\n",
       "      <td>2840</td>\n",
       "      <td>3005</td>\n",
       "      <td>4283</td>\n",
       "      <td>4501</td>\n",
       "      <td>8087</td>\n",
       "      <td>17173</td>\n",
       "      <td>8776</td>\n",
       "      <td>7212</td>\n",
       "      <td>3278</td>\n",
       "    </tr>\n",
       "    <tr>\n",
       "      <th>month</th>\n",
       "      <td>2840</td>\n",
       "      <td>3005</td>\n",
       "      <td>4283</td>\n",
       "      <td>4501</td>\n",
       "      <td>8087</td>\n",
       "      <td>17173</td>\n",
       "      <td>8776</td>\n",
       "      <td>7212</td>\n",
       "      <td>3278</td>\n",
       "    </tr>\n",
       "  </tbody>\n",
       "</table>\n",
       "</div>"
      ],
      "text/plain": [
       "year                          2012  2013  2014  2015  2016   2017  2018  2019  \\\n",
       "Company                       2840  3005  4283  4501  8087  17173  8776  7212   \n",
       "Company public response       2840  3005  4283  4501  8087  17173  8776  7212   \n",
       "Company response to consumer  2840  3005  4283  4501  8087  17173  8776  7212   \n",
       "Complaint ID                  2840  3005  4283  4501  8087  17173  8776  7212   \n",
       "Consumer complaint narrative     0     0     0  1805  4179   9642  5291  4282   \n",
       "Consumer consent provided?       0     0     0  3122  6990  15761  7916  6366   \n",
       "Consumer disputed?            2840  3005  4283  4501  8087   9821     0     0   \n",
       "Date received                 2840  3005  4283  4501  8087  17173  8776  7212   \n",
       "Date sent to company          2840  3005  4283  4501  8087  17173  8776  7212   \n",
       "Issue                         2840  3005  4283  4501  8087  17173  8776  7212   \n",
       "Product                       2840  3005  4283  4501  8087  17173  8776  7212   \n",
       "State                         2840  3005  4283  4501  8087  17173  8776  7212   \n",
       "Sub-issue                     2840  3005  4283  4501  8087  17173  8776  7212   \n",
       "Sub-product                   2840  3005  4283  4501  8087  17173  8776  7212   \n",
       "Submitted via                 2840  3005  4283  4501  8087  17173  8776  7212   \n",
       "Tags                          2840  3005  4283  4501  8087  17173  8776  7212   \n",
       "Timely response?              2840  3005  4283  4501  8087  17173  8776  7212   \n",
       "ZIP code                      2840  3005  4283  4501  8087  17173  8776  7212   \n",
       "month                         2840  3005  4283  4501  8087  17173  8776  7212   \n",
       "\n",
       "year                          2020  \n",
       "Company                       3278  \n",
       "Company public response       3278  \n",
       "Company response to consumer  3278  \n",
       "Complaint ID                  3278  \n",
       "Consumer complaint narrative  1655  \n",
       "Consumer consent provided?    2875  \n",
       "Consumer disputed?               0  \n",
       "Date received                 3278  \n",
       "Date sent to company          3278  \n",
       "Issue                         3278  \n",
       "Product                       3278  \n",
       "State                         3278  \n",
       "Sub-issue                     3278  \n",
       "Sub-product                   3278  \n",
       "Submitted via                 3278  \n",
       "Tags                          3278  \n",
       "Timely response?              3278  \n",
       "ZIP code                      3278  \n",
       "month                         3278  "
      ]
     },
     "execution_count": 40,
     "metadata": {},
     "output_type": "execute_result"
    }
   ],
   "source": [
    "c"
   ]
  },
  {
   "cell_type": "code",
   "execution_count": 65,
   "metadata": {},
   "outputs": [
    {
     "data": {
      "text/html": [
       "<div>\n",
       "<style scoped>\n",
       "    .dataframe tbody tr th:only-of-type {\n",
       "        vertical-align: middle;\n",
       "    }\n",
       "\n",
       "    .dataframe tbody tr th {\n",
       "        vertical-align: top;\n",
       "    }\n",
       "\n",
       "    .dataframe thead th {\n",
       "        text-align: right;\n",
       "    }\n",
       "</style>\n",
       "<table border=\"1\" class=\"dataframe\">\n",
       "  <thead>\n",
       "    <tr style=\"text-align: right;\">\n",
       "      <th>year</th>\n",
       "      <th>2015</th>\n",
       "      <th>2016</th>\n",
       "      <th>2017</th>\n",
       "      <th>2018</th>\n",
       "      <th>2019</th>\n",
       "      <th>2020</th>\n",
       "    </tr>\n",
       "  </thead>\n",
       "  <tbody>\n",
       "    <tr>\n",
       "      <th>Company</th>\n",
       "      <td>1805</td>\n",
       "      <td>4179</td>\n",
       "      <td>9642</td>\n",
       "      <td>5291</td>\n",
       "      <td>4282</td>\n",
       "      <td>1655</td>\n",
       "    </tr>\n",
       "    <tr>\n",
       "      <th>Company public response</th>\n",
       "      <td>1805</td>\n",
       "      <td>4179</td>\n",
       "      <td>9642</td>\n",
       "      <td>5291</td>\n",
       "      <td>4282</td>\n",
       "      <td>1655</td>\n",
       "    </tr>\n",
       "    <tr>\n",
       "      <th>Company response to consumer</th>\n",
       "      <td>1805</td>\n",
       "      <td>4179</td>\n",
       "      <td>9642</td>\n",
       "      <td>5291</td>\n",
       "      <td>4282</td>\n",
       "      <td>1655</td>\n",
       "    </tr>\n",
       "    <tr>\n",
       "      <th>Complaint ID</th>\n",
       "      <td>1805</td>\n",
       "      <td>4179</td>\n",
       "      <td>9642</td>\n",
       "      <td>5291</td>\n",
       "      <td>4282</td>\n",
       "      <td>1655</td>\n",
       "    </tr>\n",
       "    <tr>\n",
       "      <th>Consumer complaint narrative</th>\n",
       "      <td>1805</td>\n",
       "      <td>4179</td>\n",
       "      <td>9642</td>\n",
       "      <td>5291</td>\n",
       "      <td>4282</td>\n",
       "      <td>1655</td>\n",
       "    </tr>\n",
       "    <tr>\n",
       "      <th>Consumer consent provided?</th>\n",
       "      <td>1805</td>\n",
       "      <td>4179</td>\n",
       "      <td>9642</td>\n",
       "      <td>5291</td>\n",
       "      <td>4282</td>\n",
       "      <td>1655</td>\n",
       "    </tr>\n",
       "    <tr>\n",
       "      <th>Consumer disputed?</th>\n",
       "      <td>1805</td>\n",
       "      <td>4179</td>\n",
       "      <td>5165</td>\n",
       "      <td>0</td>\n",
       "      <td>0</td>\n",
       "      <td>0</td>\n",
       "    </tr>\n",
       "    <tr>\n",
       "      <th>Date received</th>\n",
       "      <td>1805</td>\n",
       "      <td>4179</td>\n",
       "      <td>9642</td>\n",
       "      <td>5291</td>\n",
       "      <td>4282</td>\n",
       "      <td>1655</td>\n",
       "    </tr>\n",
       "    <tr>\n",
       "      <th>Date sent to company</th>\n",
       "      <td>1805</td>\n",
       "      <td>4179</td>\n",
       "      <td>9642</td>\n",
       "      <td>5291</td>\n",
       "      <td>4282</td>\n",
       "      <td>1655</td>\n",
       "    </tr>\n",
       "    <tr>\n",
       "      <th>Issue</th>\n",
       "      <td>1805</td>\n",
       "      <td>4179</td>\n",
       "      <td>9642</td>\n",
       "      <td>5291</td>\n",
       "      <td>4282</td>\n",
       "      <td>1655</td>\n",
       "    </tr>\n",
       "    <tr>\n",
       "      <th>Product</th>\n",
       "      <td>1805</td>\n",
       "      <td>4179</td>\n",
       "      <td>9642</td>\n",
       "      <td>5291</td>\n",
       "      <td>4282</td>\n",
       "      <td>1655</td>\n",
       "    </tr>\n",
       "    <tr>\n",
       "      <th>State</th>\n",
       "      <td>1805</td>\n",
       "      <td>4179</td>\n",
       "      <td>9642</td>\n",
       "      <td>5291</td>\n",
       "      <td>4282</td>\n",
       "      <td>1655</td>\n",
       "    </tr>\n",
       "    <tr>\n",
       "      <th>Sub-issue</th>\n",
       "      <td>1805</td>\n",
       "      <td>4179</td>\n",
       "      <td>9642</td>\n",
       "      <td>5291</td>\n",
       "      <td>4282</td>\n",
       "      <td>1655</td>\n",
       "    </tr>\n",
       "    <tr>\n",
       "      <th>Sub-product</th>\n",
       "      <td>1805</td>\n",
       "      <td>4179</td>\n",
       "      <td>9642</td>\n",
       "      <td>5291</td>\n",
       "      <td>4282</td>\n",
       "      <td>1655</td>\n",
       "    </tr>\n",
       "    <tr>\n",
       "      <th>Submitted via</th>\n",
       "      <td>1805</td>\n",
       "      <td>4179</td>\n",
       "      <td>9642</td>\n",
       "      <td>5291</td>\n",
       "      <td>4282</td>\n",
       "      <td>1655</td>\n",
       "    </tr>\n",
       "    <tr>\n",
       "      <th>Tags</th>\n",
       "      <td>1805</td>\n",
       "      <td>4179</td>\n",
       "      <td>9642</td>\n",
       "      <td>5291</td>\n",
       "      <td>4282</td>\n",
       "      <td>1655</td>\n",
       "    </tr>\n",
       "    <tr>\n",
       "      <th>Timely response?</th>\n",
       "      <td>1805</td>\n",
       "      <td>4179</td>\n",
       "      <td>9642</td>\n",
       "      <td>5291</td>\n",
       "      <td>4282</td>\n",
       "      <td>1655</td>\n",
       "    </tr>\n",
       "    <tr>\n",
       "      <th>ZIP code</th>\n",
       "      <td>1805</td>\n",
       "      <td>4179</td>\n",
       "      <td>9642</td>\n",
       "      <td>5291</td>\n",
       "      <td>4282</td>\n",
       "      <td>1655</td>\n",
       "    </tr>\n",
       "    <tr>\n",
       "      <th>month</th>\n",
       "      <td>1805</td>\n",
       "      <td>4179</td>\n",
       "      <td>9642</td>\n",
       "      <td>5291</td>\n",
       "      <td>4282</td>\n",
       "      <td>1655</td>\n",
       "    </tr>\n",
       "  </tbody>\n",
       "</table>\n",
       "</div>"
      ],
      "text/plain": [
       "year                          2015  2016  2017  2018  2019  2020\n",
       "Company                       1805  4179  9642  5291  4282  1655\n",
       "Company public response       1805  4179  9642  5291  4282  1655\n",
       "Company response to consumer  1805  4179  9642  5291  4282  1655\n",
       "Complaint ID                  1805  4179  9642  5291  4282  1655\n",
       "Consumer complaint narrative  1805  4179  9642  5291  4282  1655\n",
       "Consumer consent provided?    1805  4179  9642  5291  4282  1655\n",
       "Consumer disputed?            1805  4179  5165     0     0     0\n",
       "Date received                 1805  4179  9642  5291  4282  1655\n",
       "Date sent to company          1805  4179  9642  5291  4282  1655\n",
       "Issue                         1805  4179  9642  5291  4282  1655\n",
       "Product                       1805  4179  9642  5291  4282  1655\n",
       "State                         1805  4179  9642  5291  4282  1655\n",
       "Sub-issue                     1805  4179  9642  5291  4282  1655\n",
       "Sub-product                   1805  4179  9642  5291  4282  1655\n",
       "Submitted via                 1805  4179  9642  5291  4282  1655\n",
       "Tags                          1805  4179  9642  5291  4282  1655\n",
       "Timely response?              1805  4179  9642  5291  4282  1655\n",
       "ZIP code                      1805  4179  9642  5291  4282  1655\n",
       "month                         1805  4179  9642  5291  4282  1655"
      ]
     },
     "execution_count": 65,
     "metadata": {},
     "output_type": "execute_result"
    }
   ],
   "source": [
    "NaN = data.loc[data['year'] == 2012]['Consumer complaint narrative']\n",
    "text_data = data.loc[data['Consumer complaint narrative'].str.len() > 0]\n",
    "pivot_by_year_wout_text = pd.pivot_table(text_data, columns='year', aggfunc='count')\n",
    "pivot_by_year_wout_text"
   ]
  },
  {
   "cell_type": "code",
   "execution_count": 66,
   "metadata": {},
   "outputs": [
    {
     "name": "stdout",
     "output_type": "stream",
     "text": [
      "<class 'pandas.core.frame.DataFrame'>\n",
      "Int64Index: 26854 entries, 0 to 59154\n",
      "Data columns (total 20 columns):\n",
      " #   Column                        Non-Null Count  Dtype         \n",
      "---  ------                        --------------  -----         \n",
      " 0   Date received                 26854 non-null  datetime64[ns]\n",
      " 1   Product                       26854 non-null  object        \n",
      " 2   Sub-product                   26854 non-null  object        \n",
      " 3   Issue                         26854 non-null  object        \n",
      " 4   Sub-issue                     26854 non-null  object        \n",
      " 5   Consumer complaint narrative  26854 non-null  object        \n",
      " 6   Company public response       26854 non-null  object        \n",
      " 7   Company                       26854 non-null  object        \n",
      " 8   State                         26854 non-null  object        \n",
      " 9   ZIP code                      26854 non-null  object        \n",
      " 10  Tags                          26854 non-null  object        \n",
      " 11  Consumer consent provided?    26854 non-null  object        \n",
      " 12  Submitted via                 26854 non-null  object        \n",
      " 13  Date sent to company          26854 non-null  object        \n",
      " 14  Company response to consumer  26854 non-null  object        \n",
      " 15  Timely response?              26854 non-null  object        \n",
      " 16  Consumer disputed?            11149 non-null  object        \n",
      " 17  Complaint ID                  26854 non-null  int64         \n",
      " 18  month                         26854 non-null  int64         \n",
      " 19  year                          26854 non-null  int64         \n",
      "dtypes: datetime64[ns](1), int64(3), object(16)\n",
      "memory usage: 4.3+ MB\n"
     ]
    }
   ],
   "source": [
    "text_data.info()"
   ]
  },
  {
   "cell_type": "markdown",
   "metadata": {},
   "source": [
    "Now the dataframe text_data is only the data with consumer complaints narratives, which is what we are looking for in this project. There is a few columns that we don't really need, so we will get rid of these, let's just find out which ones."
   ]
  },
  {
   "cell_type": "code",
   "execution_count": 67,
   "metadata": {},
   "outputs": [
    {
     "data": {
      "text/html": [
       "<div>\n",
       "<style scoped>\n",
       "    .dataframe tbody tr th:only-of-type {\n",
       "        vertical-align: middle;\n",
       "    }\n",
       "\n",
       "    .dataframe tbody tr th {\n",
       "        vertical-align: top;\n",
       "    }\n",
       "\n",
       "    .dataframe thead th {\n",
       "        text-align: right;\n",
       "    }\n",
       "</style>\n",
       "<table border=\"1\" class=\"dataframe\">\n",
       "  <thead>\n",
       "    <tr style=\"text-align: right;\">\n",
       "      <th></th>\n",
       "      <th>Date received</th>\n",
       "      <th>Product</th>\n",
       "      <th>Sub-product</th>\n",
       "      <th>Issue</th>\n",
       "      <th>Sub-issue</th>\n",
       "      <th>Consumer complaint narrative</th>\n",
       "      <th>Company public response</th>\n",
       "      <th>Company</th>\n",
       "      <th>State</th>\n",
       "      <th>ZIP code</th>\n",
       "      <th>Tags</th>\n",
       "      <th>Consumer consent provided?</th>\n",
       "      <th>Submitted via</th>\n",
       "      <th>Date sent to company</th>\n",
       "      <th>Company response to consumer</th>\n",
       "      <th>Timely response?</th>\n",
       "      <th>Consumer disputed?</th>\n",
       "      <th>Complaint ID</th>\n",
       "      <th>month</th>\n",
       "      <th>year</th>\n",
       "    </tr>\n",
       "  </thead>\n",
       "  <tbody>\n",
       "    <tr>\n",
       "      <th>0</th>\n",
       "      <td>2020-05-19</td>\n",
       "      <td>Student loan</td>\n",
       "      <td>Private student loan</td>\n",
       "      <td>Dealing with your lender or servicer</td>\n",
       "      <td>Received bad information about your loan</td>\n",
       "      <td>When I was applying for my loan my XXXX accoun...</td>\n",
       "      <td>None</td>\n",
       "      <td>Figure Technologies, Inc</td>\n",
       "      <td>NJ</td>\n",
       "      <td>None</td>\n",
       "      <td>None</td>\n",
       "      <td>Consent provided</td>\n",
       "      <td>Web</td>\n",
       "      <td>05/19/20</td>\n",
       "      <td>Closed with explanation</td>\n",
       "      <td>Yes</td>\n",
       "      <td>NaN</td>\n",
       "      <td>3660074</td>\n",
       "      <td>5</td>\n",
       "      <td>2020</td>\n",
       "    </tr>\n",
       "    <tr>\n",
       "      <th>2</th>\n",
       "      <td>2020-02-06</td>\n",
       "      <td>Student loan</td>\n",
       "      <td>Federal student loan servicing</td>\n",
       "      <td>Incorrect information on your report</td>\n",
       "      <td>Account status incorrect</td>\n",
       "      <td>I'm on a deferred payment plan t never ; late</td>\n",
       "      <td>None</td>\n",
       "      <td>Nelnet, Inc.</td>\n",
       "      <td>TX</td>\n",
       "      <td>770XX</td>\n",
       "      <td>None</td>\n",
       "      <td>Consent provided</td>\n",
       "      <td>Web</td>\n",
       "      <td>02/10/20</td>\n",
       "      <td>Closed with explanation</td>\n",
       "      <td>Yes</td>\n",
       "      <td>NaN</td>\n",
       "      <td>3522975</td>\n",
       "      <td>2</td>\n",
       "      <td>2020</td>\n",
       "    </tr>\n",
       "    <tr>\n",
       "      <th>3</th>\n",
       "      <td>2020-02-08</td>\n",
       "      <td>Student loan</td>\n",
       "      <td>Federal student loan servicing</td>\n",
       "      <td>Dealing with your lender or servicer</td>\n",
       "      <td>Problem with customer service</td>\n",
       "      <td>I have attempted multiple times to contact FED...</td>\n",
       "      <td>None</td>\n",
       "      <td>AES/PHEAA</td>\n",
       "      <td>KY</td>\n",
       "      <td>407XX</td>\n",
       "      <td>None</td>\n",
       "      <td>Consent provided</td>\n",
       "      <td>Web</td>\n",
       "      <td>02/08/20</td>\n",
       "      <td>Closed with non-monetary relief</td>\n",
       "      <td>Yes</td>\n",
       "      <td>NaN</td>\n",
       "      <td>3524942</td>\n",
       "      <td>2</td>\n",
       "      <td>2020</td>\n",
       "    </tr>\n",
       "    <tr>\n",
       "      <th>4</th>\n",
       "      <td>2020-01-21</td>\n",
       "      <td>Student loan</td>\n",
       "      <td>Federal student loan servicing</td>\n",
       "      <td>Dealing with your lender or servicer</td>\n",
       "      <td>Trouble with how payments are being handled</td>\n",
       "      <td>I was divorced in 2004 and I agreed to take th...</td>\n",
       "      <td>None</td>\n",
       "      <td>AES/PHEAA</td>\n",
       "      <td>OK</td>\n",
       "      <td>731XX</td>\n",
       "      <td>None</td>\n",
       "      <td>Consent provided</td>\n",
       "      <td>Web</td>\n",
       "      <td>01/21/20</td>\n",
       "      <td>Closed with explanation</td>\n",
       "      <td>Yes</td>\n",
       "      <td>NaN</td>\n",
       "      <td>3503232</td>\n",
       "      <td>1</td>\n",
       "      <td>2020</td>\n",
       "    </tr>\n",
       "    <tr>\n",
       "      <th>5</th>\n",
       "      <td>2019-12-04</td>\n",
       "      <td>Student loan</td>\n",
       "      <td>Federal student loan servicing</td>\n",
       "      <td>Problem with a credit reporting company's inve...</td>\n",
       "      <td>Their investigation did not fix an error on yo...</td>\n",
       "      <td>This particular account situation that is late...</td>\n",
       "      <td>None</td>\n",
       "      <td>AES/PHEAA</td>\n",
       "      <td>FL</td>\n",
       "      <td>323XX</td>\n",
       "      <td>None</td>\n",
       "      <td>Consent provided</td>\n",
       "      <td>Web</td>\n",
       "      <td>12/04/19</td>\n",
       "      <td>Closed with explanation</td>\n",
       "      <td>Yes</td>\n",
       "      <td>NaN</td>\n",
       "      <td>3458781</td>\n",
       "      <td>12</td>\n",
       "      <td>2019</td>\n",
       "    </tr>\n",
       "  </tbody>\n",
       "</table>\n",
       "</div>"
      ],
      "text/plain": [
       "  Date received       Product                     Sub-product  \\\n",
       "0    2020-05-19  Student loan            Private student loan   \n",
       "2    2020-02-06  Student loan  Federal student loan servicing   \n",
       "3    2020-02-08  Student loan  Federal student loan servicing   \n",
       "4    2020-01-21  Student loan  Federal student loan servicing   \n",
       "5    2019-12-04  Student loan  Federal student loan servicing   \n",
       "\n",
       "                                               Issue  \\\n",
       "0               Dealing with your lender or servicer   \n",
       "2               Incorrect information on your report   \n",
       "3               Dealing with your lender or servicer   \n",
       "4               Dealing with your lender or servicer   \n",
       "5  Problem with a credit reporting company's inve...   \n",
       "\n",
       "                                           Sub-issue  \\\n",
       "0           Received bad information about your loan   \n",
       "2                           Account status incorrect   \n",
       "3                      Problem with customer service   \n",
       "4        Trouble with how payments are being handled   \n",
       "5  Their investigation did not fix an error on yo...   \n",
       "\n",
       "                        Consumer complaint narrative Company public response  \\\n",
       "0  When I was applying for my loan my XXXX accoun...                    None   \n",
       "2      I'm on a deferred payment plan t never ; late                    None   \n",
       "3  I have attempted multiple times to contact FED...                    None   \n",
       "4  I was divorced in 2004 and I agreed to take th...                    None   \n",
       "5  This particular account situation that is late...                    None   \n",
       "\n",
       "                    Company State ZIP code  Tags Consumer consent provided?  \\\n",
       "0  Figure Technologies, Inc    NJ     None  None           Consent provided   \n",
       "2              Nelnet, Inc.    TX    770XX  None           Consent provided   \n",
       "3                 AES/PHEAA    KY    407XX  None           Consent provided   \n",
       "4                 AES/PHEAA    OK    731XX  None           Consent provided   \n",
       "5                 AES/PHEAA    FL    323XX  None           Consent provided   \n",
       "\n",
       "  Submitted via Date sent to company     Company response to consumer  \\\n",
       "0           Web             05/19/20          Closed with explanation   \n",
       "2           Web             02/10/20          Closed with explanation   \n",
       "3           Web             02/08/20  Closed with non-monetary relief   \n",
       "4           Web             01/21/20          Closed with explanation   \n",
       "5           Web             12/04/19          Closed with explanation   \n",
       "\n",
       "  Timely response? Consumer disputed?  Complaint ID  month  year  \n",
       "0              Yes                NaN       3660074      5  2020  \n",
       "2              Yes                NaN       3522975      2  2020  \n",
       "3              Yes                NaN       3524942      2  2020  \n",
       "4              Yes                NaN       3503232      1  2020  \n",
       "5              Yes                NaN       3458781     12  2019  "
      ]
     },
     "execution_count": 67,
     "metadata": {},
     "output_type": "execute_result"
    }
   ],
   "source": [
    "text_data.head()"
   ]
  },
  {
   "cell_type": "code",
   "execution_count": 68,
   "metadata": {},
   "outputs": [
    {
     "data": {
      "text/plain": [
       "None                                                                                                                       22987\n",
       "Company believes it acted appropriately as authorized by contract or law                                                    1838\n",
       "Company has responded to the consumer and the CFPB and chooses not to provide a public response                             1285\n",
       "Company chooses not to provide a public response                                                                             219\n",
       "Company believes complaint caused principally by actions of third party outside the control or direction of the company      200\n",
       "Company believes complaint is the result of an isolated error                                                                134\n",
       "Company disputes the facts presented in the complaint                                                                         76\n",
       "Company believes the complaint is the result of a misunderstanding                                                            60\n",
       "Company believes complaint represents an opportunity for improvement to better serve consumers                                36\n",
       "Company can't verify or dispute the facts in the complaint                                                                    14\n",
       "Company believes complaint relates to a discontinued policy or procedure                                                       4\n",
       "Company believes the complaint provided an opportunity to answer consumer's questions                                          1\n",
       "Name: Company public response, dtype: int64"
      ]
     },
     "execution_count": 68,
     "metadata": {},
     "output_type": "execute_result"
    }
   ],
   "source": [
    "text_data['Company public response'].value_counts()"
   ]
  },
  {
   "cell_type": "code",
   "execution_count": 69,
   "metadata": {},
   "outputs": [
    {
     "data": {
      "text/plain": [
       "None                             23751\n",
       "Servicemember                     2304\n",
       "Older American                     679\n",
       "Older American, Servicemember      120\n",
       "Name: Tags, dtype: int64"
      ]
     },
     "execution_count": 69,
     "metadata": {},
     "output_type": "execute_result"
    }
   ],
   "source": [
    "text_data['Tags'].value_counts()"
   ]
  },
  {
   "cell_type": "code",
   "execution_count": 70,
   "metadata": {},
   "outputs": [
    {
     "data": {
      "text/plain": [
       "Consent provided    26854\n",
       "Name: Consumer consent provided?, dtype: int64"
      ]
     },
     "execution_count": 70,
     "metadata": {},
     "output_type": "execute_result"
    }
   ],
   "source": [
    "text_data['Consumer consent provided?'].value_counts()"
   ]
  },
  {
   "cell_type": "code",
   "execution_count": 71,
   "metadata": {},
   "outputs": [
    {
     "data": {
      "text/plain": [
       "Web    26854\n",
       "Name: Submitted via, dtype: int64"
      ]
     },
     "execution_count": 71,
     "metadata": {},
     "output_type": "execute_result"
    }
   ],
   "source": [
    "text_data['Submitted via'].value_counts()"
   ]
  },
  {
   "cell_type": "code",
   "execution_count": 80,
   "metadata": {},
   "outputs": [
    {
     "data": {
      "text/plain": [
       "5080"
      ]
     },
     "execution_count": 80,
     "metadata": {},
     "output_type": "execute_result"
    }
   ],
   "source": [
    "text_data.loc[text_data['Date received'] != \n",
    "              text_data['Date sent to company'] \\\n",
    "              .astype('datetime64[ns]')]['Date received'].count()"
   ]
  },
  {
   "cell_type": "markdown",
   "metadata": {},
   "source": [
    "There is two seperate dates here, one is date received and the other is date sent to company. Not all of the date's are identical but most of them are, so I will get rid of one. We will omit the date sent to company, because reading the documentation stated for this dataset the complaint is first sent to the CFPB (date received) and then the CFPB sends it to the company (date sent to company). The date the complaint was actually made was the date received, so that's the one we want to keep."
   ]
  },
  {
   "cell_type": "code",
   "execution_count": 81,
   "metadata": {},
   "outputs": [
    {
     "data": {
      "text/plain": [
       "Yes    26364\n",
       "No       490\n",
       "Name: Timely response?, dtype: int64"
      ]
     },
     "execution_count": 81,
     "metadata": {},
     "output_type": "execute_result"
    }
   ],
   "source": [
    "text_data['Timely response?'].value_counts()"
   ]
  },
  {
   "cell_type": "code",
   "execution_count": 83,
   "metadata": {},
   "outputs": [
    {
     "data": {
      "text/plain": [
       "No     9011\n",
       "Yes    2138\n",
       "Name: Consumer disputed?, dtype: int64"
      ]
     },
     "execution_count": 83,
     "metadata": {},
     "output_type": "execute_result"
    }
   ],
   "source": [
    "text_data['Consumer disputed?'].value_counts()"
   ]
  },
  {
   "cell_type": "code",
   "execution_count": 85,
   "metadata": {},
   "outputs": [
    {
     "data": {
      "text/plain": [
       "2951167    1\n",
       "2862718    1\n",
       "3383033    1\n",
       "3114746    1\n",
       "2395899    1\n",
       "          ..\n",
       "2097349    1\n",
       "2313212    1\n",
       "2311165    1\n",
       "2472962    1\n",
       "2563286    1\n",
       "Name: Complaint ID, Length: 26854, dtype: int64"
      ]
     },
     "execution_count": 85,
     "metadata": {},
     "output_type": "execute_result"
    }
   ],
   "source": [
    "text_data['Complaint ID'].value_counts()"
   ]
  },
  {
   "cell_type": "code",
   "execution_count": 97,
   "metadata": {},
   "outputs": [
    {
     "name": "stdout",
     "output_type": "stream",
     "text": [
      "ZIPCODE count:\n",
      "18256 items have incomplete zipcodes out of 26854\n",
      "Which is 67.98%\n"
     ]
    }
   ],
   "source": [
    "unknown_zipcode_count = text_data.loc[text_data['ZIP code'].str.get(4) == 'X']['ZIP code'].count()\n",
    "known_zipcode_count = text_data['ZIP code'].count()\n",
    "\n",
    "print(\"ZIPCODE count:\")\n",
    "print(unknown_zipcode_count, \"items have incomplete zipcodes out of\", known_zipcode_count)\n",
    "print(\"Which is {:.2%}\".format(unknown_zipcode_count / known_zipcode_count))"
   ]
  },
  {
   "cell_type": "markdown",
   "metadata": {},
   "source": [
    "Items to get rid of:\n",
    "\n",
    "    Product - All of them are the same because it's student loans\n",
    "    Company public response - Not enough data to really categorize well\n",
    "    Consumer consent provided - Everyone gave their consent\n",
    "    Submitted via - everyone sent it in via web\n",
    "    Date sent to company - as mentioned above we really just care about date received by CFPB\n",
    "    Complaint ID - unique identifiers of the data (don't need for this analysis)\n",
    "    ZIP code - 67.98% of people didn't give their consent for the ZIP code, so we will just use state to get \n",
    "                demographics."
   ]
  },
  {
   "cell_type": "code",
   "execution_count": 100,
   "metadata": {},
   "outputs": [],
   "source": [
    "narrowed_text_data = text_data.drop(['Product', 'Company public response', 'Consumer consent provided?', \n",
    "                                    'Submitted via', 'Date sent to company', 'Complaint ID', 'ZIP code'], \n",
    "                                    axis=1)"
   ]
  },
  {
   "cell_type": "code",
   "execution_count": 101,
   "metadata": {},
   "outputs": [
    {
     "name": "stdout",
     "output_type": "stream",
     "text": [
      "<class 'pandas.core.frame.DataFrame'>\n",
      "Int64Index: 26854 entries, 0 to 59154\n",
      "Data columns (total 13 columns):\n",
      " #   Column                        Non-Null Count  Dtype         \n",
      "---  ------                        --------------  -----         \n",
      " 0   Date received                 26854 non-null  datetime64[ns]\n",
      " 1   Sub-product                   26854 non-null  object        \n",
      " 2   Issue                         26854 non-null  object        \n",
      " 3   Sub-issue                     26854 non-null  object        \n",
      " 4   Consumer complaint narrative  26854 non-null  object        \n",
      " 5   Company                       26854 non-null  object        \n",
      " 6   State                         26854 non-null  object        \n",
      " 7   Tags                          26854 non-null  object        \n",
      " 8   Company response to consumer  26854 non-null  object        \n",
      " 9   Timely response?              26854 non-null  object        \n",
      " 10  Consumer disputed?            11149 non-null  object        \n",
      " 11  month                         26854 non-null  int64         \n",
      " 12  year                          26854 non-null  int64         \n",
      "dtypes: datetime64[ns](1), int64(2), object(10)\n",
      "memory usage: 4.1+ MB\n"
     ]
    }
   ],
   "source": [
    "narrowed_text_data.info()"
   ]
  },
  {
   "cell_type": "code",
   "execution_count": 102,
   "metadata": {},
   "outputs": [],
   "source": [
    "narrowed_text_data.to_csv('../data/text_analysis_data.csv', index=False)"
   ]
  },
  {
   "cell_type": "code",
   "execution_count": null,
   "metadata": {},
   "outputs": [],
   "source": []
  }
 ],
 "metadata": {
  "kernelspec": {
   "display_name": "Python 3",
   "language": "python",
   "name": "python3"
  },
  "language_info": {
   "codemirror_mode": {
    "name": "ipython",
    "version": 3
   },
   "file_extension": ".py",
   "mimetype": "text/x-python",
   "name": "python",
   "nbconvert_exporter": "python",
   "pygments_lexer": "ipython3",
   "version": "3.7.3"
  }
 },
 "nbformat": 4,
 "nbformat_minor": 4
}
