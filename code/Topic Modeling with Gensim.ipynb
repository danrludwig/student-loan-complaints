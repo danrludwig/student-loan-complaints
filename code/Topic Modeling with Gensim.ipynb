{
 "cells": [
  {
   "cell_type": "markdown",
   "metadata": {},
   "source": [
    "Here we will build a topic model with Genism. Latent Dirichlet Allocation (LDA) is the algorithm we will be using. We will be doing unstructured classification with the customer complaint narrative column within the dataset we've previously prepared in the DataExplore notebook. We will be doing this to create our own caterogies from the data and see just how accurate the existing categories are. The categories will be defined by creating topics (a collection of reoccurring keywords are used to identify a topic)."
   ]
  },
  {
   "cell_type": "code",
   "execution_count": 1,
   "metadata": {},
   "outputs": [
    {
     "name": "stderr",
     "output_type": "stream",
     "text": [
      "[nltk_data] Downloading package stopwords to\n",
      "[nltk_data]     C:\\Users\\danrl\\AppData\\Roaming\\nltk_data...\n",
      "[nltk_data]   Package stopwords is already up-to-date!\n"
     ]
    },
    {
     "data": {
      "text/plain": [
       "True"
      ]
     },
     "execution_count": 1,
     "metadata": {},
     "output_type": "execute_result"
    }
   ],
   "source": [
    "# Make sure to have nltk and stopwords downloaded\n",
    "import nltk; nltk.download(\"stopwords\")"
   ]
  },
  {
   "cell_type": "code",
   "execution_count": 2,
   "metadata": {},
   "outputs": [],
   "source": [
    "# Import needed packages\n",
    "\n",
    "import re\n",
    "import numpy\n",
    "import pandas as pd\n",
    "from pprint import pprint\n",
    "\n",
    "import gensim\n",
    "import gensim.corpora as corpora\n",
    "from gensim.utils import simple_preprocess\n",
    "from gensim.models import CoherenceModel\n",
    "\n",
    "import spacy\n",
    "\n",
    "import pyLDAvis\n",
    "import pyLDAvis.gensim\n",
    "import matplotlib.pyplot as plt\n",
    "%matplotlib inline\n",
    "\n",
    "import logging\n",
    "logging.basicConfig(format=\"%(asctime)s: %(levelname)s : %(message)s\", level=logging.ERROR)\n",
    "\n",
    "import warnings \n",
    "warnings.filterwarnings(\"ignore\",category=DeprecationWarning)"
   ]
  },
  {
   "cell_type": "code",
   "execution_count": 3,
   "metadata": {},
   "outputs": [],
   "source": [
    "# NLTK stop words\n",
    "from nltk.corpus import stopwords\n",
    "stop_words = stopwords.words(\"english\")\n",
    "stop_words.extend(['from', 'subject', 're', 'edu', 'use'])"
   ]
  },
  {
   "cell_type": "code",
   "execution_count": 4,
   "metadata": {},
   "outputs": [
    {
     "data": {
      "text/html": [
       "<div>\n",
       "<style scoped>\n",
       "    .dataframe tbody tr th:only-of-type {\n",
       "        vertical-align: middle;\n",
       "    }\n",
       "\n",
       "    .dataframe tbody tr th {\n",
       "        vertical-align: top;\n",
       "    }\n",
       "\n",
       "    .dataframe thead th {\n",
       "        text-align: right;\n",
       "    }\n",
       "</style>\n",
       "<table border=\"1\" class=\"dataframe\">\n",
       "  <thead>\n",
       "    <tr style=\"text-align: right;\">\n",
       "      <th></th>\n",
       "      <th>Date received</th>\n",
       "      <th>Sub-product</th>\n",
       "      <th>Issue</th>\n",
       "      <th>Sub-issue</th>\n",
       "      <th>Consumer complaint narrative</th>\n",
       "      <th>Company</th>\n",
       "      <th>State</th>\n",
       "      <th>Tags</th>\n",
       "      <th>Company response to consumer</th>\n",
       "      <th>Timely response?</th>\n",
       "      <th>Consumer disputed?</th>\n",
       "      <th>month</th>\n",
       "      <th>year</th>\n",
       "    </tr>\n",
       "  </thead>\n",
       "  <tbody>\n",
       "    <tr>\n",
       "      <th>0</th>\n",
       "      <td>2020-05-19</td>\n",
       "      <td>Private student loan</td>\n",
       "      <td>Dealing with your lender or servicer</td>\n",
       "      <td>Received bad information about your loan</td>\n",
       "      <td>When I was applying for my loan my XXXX accoun...</td>\n",
       "      <td>Figure Technologies, Inc</td>\n",
       "      <td>NJ</td>\n",
       "      <td>None</td>\n",
       "      <td>Closed with explanation</td>\n",
       "      <td>Yes</td>\n",
       "      <td>NaN</td>\n",
       "      <td>5</td>\n",
       "      <td>2020</td>\n",
       "    </tr>\n",
       "    <tr>\n",
       "      <th>1</th>\n",
       "      <td>2020-02-06</td>\n",
       "      <td>Federal student loan servicing</td>\n",
       "      <td>Incorrect information on your report</td>\n",
       "      <td>Account status incorrect</td>\n",
       "      <td>I'm on a deferred payment plan t never ; late</td>\n",
       "      <td>Nelnet, Inc.</td>\n",
       "      <td>TX</td>\n",
       "      <td>None</td>\n",
       "      <td>Closed with explanation</td>\n",
       "      <td>Yes</td>\n",
       "      <td>NaN</td>\n",
       "      <td>2</td>\n",
       "      <td>2020</td>\n",
       "    </tr>\n",
       "    <tr>\n",
       "      <th>2</th>\n",
       "      <td>2020-02-08</td>\n",
       "      <td>Federal student loan servicing</td>\n",
       "      <td>Dealing with your lender or servicer</td>\n",
       "      <td>Problem with customer service</td>\n",
       "      <td>I have attempted multiple times to contact FED...</td>\n",
       "      <td>AES/PHEAA</td>\n",
       "      <td>KY</td>\n",
       "      <td>None</td>\n",
       "      <td>Closed with non-monetary relief</td>\n",
       "      <td>Yes</td>\n",
       "      <td>NaN</td>\n",
       "      <td>2</td>\n",
       "      <td>2020</td>\n",
       "    </tr>\n",
       "    <tr>\n",
       "      <th>3</th>\n",
       "      <td>2020-01-21</td>\n",
       "      <td>Federal student loan servicing</td>\n",
       "      <td>Dealing with your lender or servicer</td>\n",
       "      <td>Trouble with how payments are being handled</td>\n",
       "      <td>I was divorced in 2004 and I agreed to take th...</td>\n",
       "      <td>AES/PHEAA</td>\n",
       "      <td>OK</td>\n",
       "      <td>None</td>\n",
       "      <td>Closed with explanation</td>\n",
       "      <td>Yes</td>\n",
       "      <td>NaN</td>\n",
       "      <td>1</td>\n",
       "      <td>2020</td>\n",
       "    </tr>\n",
       "    <tr>\n",
       "      <th>4</th>\n",
       "      <td>2019-12-04</td>\n",
       "      <td>Federal student loan servicing</td>\n",
       "      <td>Problem with a credit reporting company's inve...</td>\n",
       "      <td>Their investigation did not fix an error on yo...</td>\n",
       "      <td>This particular account situation that is late...</td>\n",
       "      <td>AES/PHEAA</td>\n",
       "      <td>FL</td>\n",
       "      <td>None</td>\n",
       "      <td>Closed with explanation</td>\n",
       "      <td>Yes</td>\n",
       "      <td>NaN</td>\n",
       "      <td>12</td>\n",
       "      <td>2019</td>\n",
       "    </tr>\n",
       "  </tbody>\n",
       "</table>\n",
       "</div>"
      ],
      "text/plain": [
       "  Date received                     Sub-product  \\\n",
       "0    2020-05-19            Private student loan   \n",
       "1    2020-02-06  Federal student loan servicing   \n",
       "2    2020-02-08  Federal student loan servicing   \n",
       "3    2020-01-21  Federal student loan servicing   \n",
       "4    2019-12-04  Federal student loan servicing   \n",
       "\n",
       "                                               Issue  \\\n",
       "0               Dealing with your lender or servicer   \n",
       "1               Incorrect information on your report   \n",
       "2               Dealing with your lender or servicer   \n",
       "3               Dealing with your lender or servicer   \n",
       "4  Problem with a credit reporting company's inve...   \n",
       "\n",
       "                                           Sub-issue  \\\n",
       "0           Received bad information about your loan   \n",
       "1                           Account status incorrect   \n",
       "2                      Problem with customer service   \n",
       "3        Trouble with how payments are being handled   \n",
       "4  Their investigation did not fix an error on yo...   \n",
       "\n",
       "                        Consumer complaint narrative  \\\n",
       "0  When I was applying for my loan my XXXX accoun...   \n",
       "1      I'm on a deferred payment plan t never ; late   \n",
       "2  I have attempted multiple times to contact FED...   \n",
       "3  I was divorced in 2004 and I agreed to take th...   \n",
       "4  This particular account situation that is late...   \n",
       "\n",
       "                    Company State  Tags     Company response to consumer  \\\n",
       "0  Figure Technologies, Inc    NJ  None          Closed with explanation   \n",
       "1              Nelnet, Inc.    TX  None          Closed with explanation   \n",
       "2                 AES/PHEAA    KY  None  Closed with non-monetary relief   \n",
       "3                 AES/PHEAA    OK  None          Closed with explanation   \n",
       "4                 AES/PHEAA    FL  None          Closed with explanation   \n",
       "\n",
       "  Timely response? Consumer disputed?  month  year  \n",
       "0              Yes                NaN      5  2020  \n",
       "1              Yes                NaN      2  2020  \n",
       "2              Yes                NaN      2  2020  \n",
       "3              Yes                NaN      1  2020  \n",
       "4              Yes                NaN     12  2019  "
      ]
     },
     "execution_count": 4,
     "metadata": {},
     "output_type": "execute_result"
    }
   ],
   "source": [
    "# Get data\n",
    "df = pd.read_csv('../../student-loan-complaints-data/text_analysis_data.csv')\n",
    "df.head()"
   ]
  },
  {
   "cell_type": "markdown",
   "metadata": {},
   "source": [
    "Now that we've imported the necessary packages we will prepare the data to build and feed into the model."
   ]
  },
  {
   "cell_type": "code",
   "execution_count": 5,
   "metadata": {},
   "outputs": [],
   "source": [
    "# A function to preprocess all rows in a dataframe\n",
    "def preprocess_data(data):\n",
    "    # Change all text to lowercase\n",
    "    data = data.apply(lambda x: \" \".join(x.lower() for x in x.split()))\n",
    "    \n",
    "    # Remove puctuation\n",
    "    data = data.str.replace(\"[^\\w\\s]\",\"\")\n",
    "    \n",
    "    # Remove stopwords\n",
    "    from nltk.corpus import stopwords\n",
    "    stop = stopwords.words(\"english\")\n",
    "    data = data.apply(lambda x: \" \".join(x for x in x.split() if x not in stop))\n",
    "    \n",
    "    # Remove common words\n",
    "    freq = pd.Series(\" \".join(data).split()).value_counts()[:10]\n",
    "    freq = list(freq.index)\n",
    "    data = data.apply(lambda x: \" \".join(x for x in x.split() if x not in freq))\n",
    "    \n",
    "    # Lemmatization\n",
    "    from textblob import Word\n",
    "    data = data.apply(lambda x: \" \".join([Word(word).lemmatize() for word in x.split()]))\n",
    "    \n",
    "    # Return transformed data\n",
    "    return data, freq\n",
    "\n",
    "# Return the data as a list\n",
    "data, freqWords = preprocess_data(df[\"Consumer complaint narrative\"])"
   ]
  },
  {
   "cell_type": "code",
   "execution_count": 6,
   "metadata": {},
   "outputs": [
    {
     "name": "stdout",
     "output_type": "stream",
     "text": [
      "['xxxx', 'loan', 'loans', 'payment', 'payments', 'xxxxxxxx', 'would', 'navient', 'student', 'interest']\n"
     ]
    }
   ],
   "source": [
    "print(freqWords)"
   ]
  },
  {
   "cell_type": "code",
   "execution_count": 7,
   "metadata": {},
   "outputs": [
    {
     "name": "stdout",
     "output_type": "stream",
     "text": [
      "[['applying', 'account', 'correctly', 'communicate', 'issue', 'offer', '025', 'rate', 'deduction', 'autopay', 'showing', 'account', 'told', 'go', 'application', 'anyway', 'account', 'opened', 'could', 'add', 'autopay', 'receive', 'discount', 'way', 'since', 'account', 'opened', 'called', 'call', 'center', 'least', '4', 'time', 'trying', 'receive', 'autopay', 'discount', 'first', '3', 'time', 'told', 'going', 'applied', 'still', 'seen', 'additionally', 'last', 'time', 'called', '3', 'week', 'ago', 'asked', 'speak', 'manager', 'told', 'take', '10', 'day', 'get', 'back', 'still', 'yet', 'hear', 'back', '15', 'business', 'day', 'later', 'told', 'receiving', 'autopay', 'discount', 'receiving', 'opened', 'account', 'company', 'lying', 'rate', 'going', 'receive', 'dont', 'autopay', 'initiate', '2', 'autopays', 'go', 'far', 'additional', 'issue', 'told', 'rate', 'going', 'based', '1', 'month', 'libor', 'rate', 'published', 'wsj', 'month', 'none', 'rate', 'received', 'thus', 'far', 'match', 'rate', 'dont', 'really', 'know', 'tried', 'contacting', 'many', 'time', 'people', 'phone', 'seem', 'helpful', 'time', 'talking', 'nothing', 'seems', 'get', 'done', 'hang'], ['im', 'deferred', 'plan', 'never', 'late'], ['attempted', 'multiple', 'time', 'contact', 'fedloan', 'via', 'online', 'message', 'regarding', 'payback', 'qualifying', 'public', 'health', 'forgiveness', 'program', 'never', 'respond', 'never', 'show', 'proof', 'message', 'call', 'talk', 'agent', 'paper', 'trail', 'call', 'last', 'long', 'time', 'isnt', 'possible', 'call', 'question', 'get', 'discus', 'agent', 'detail', 'change', 'per', 'agent', 'simply', 'want', 'total', 'amount', 'accurate', 'automated', 'debit', 'since', 'onset', 'time', '100', 'give', 'credit', '3', 'paid', 'lowest', 'amount', 'thus', 'fedloan', 'took', 'upon', 'use', 'extra', 'amount', 'add', 'principal', 'requested', 'instead', 'delay', 'counting', 'amount', 'month', 'give', 'written', 'information', 'regarding', 'date', 'consolidated', 'instead', '10', 'year', 'forgiveness', 'date', 'changed', 'arbitrarily', 'talked', 'several', 'people', 'seems', 'common', 'scam', 'fedloans', 'delay', '10', 'year', 'time', 'frame', 'month', 'even', 'year']]\n"
     ]
    }
   ],
   "source": [
    "# Tokenize the data\n",
    "data = [sub.split() for sub in data] \n",
    "print(data[:3])"
   ]
  },
  {
   "cell_type": "markdown",
   "metadata": {},
   "source": [
    "Now that we've cleaned and tokenized the data we need to create bigrams and trigrams. Bigrams are two words frequently seen paired together, trigrams are the same but with three words. We will use Gensim's Phrases model to build the bigrams and trigrams."
   ]
  },
  {
   "cell_type": "code",
   "execution_count": 8,
   "metadata": {},
   "outputs": [
    {
     "name": "stdout",
     "output_type": "stream",
     "text": [
      "['applying', 'account', 'correctly', 'communicate', 'issue', 'offer', '025', 'rate', 'deduction', 'autopay', 'showing', 'account', 'told', 'go', 'application', 'anyway', 'account', 'opened', 'could', 'add', 'autopay', 'receive', 'discount', 'way', 'since', 'account', 'opened', 'called', 'call', 'center', 'least', '4', 'time', 'trying', 'receive', 'autopay', 'discount', 'first', '3', 'time', 'told', 'going', 'applied', 'still', 'seen', 'additionally', 'last', 'time', 'called', '3', 'week', 'ago', 'asked', 'speak', 'manager', 'told', 'take', '10', 'day', 'get', 'back', 'still', 'yet', 'hear', 'back', '15', 'business', 'day', 'later', 'told', 'receiving', 'autopay', 'discount', 'receiving', 'opened', 'account', 'company', 'lying', 'rate', 'going', 'receive', 'dont', 'autopay', 'initiate', '2', 'autopays', 'go', 'far', 'additional', 'issue', 'told', 'rate', 'going', 'based', '1', 'month', 'libor', 'rate', 'published', 'wsj', 'month', 'none', 'rate', 'received', 'thus_far', 'match', 'rate', 'dont', 'really', 'know', 'tried', 'contacting', 'many', 'time', 'people', 'phone', 'seem', 'helpful', 'time', 'talking', 'nothing', 'seems', 'get', 'done', 'hang']\n"
     ]
    }
   ],
   "source": [
    "# Build the bigram and trigram models\n",
    "bigram = gensim.models.Phrases(data, min_count=5, threshold=100)\n",
    "trigram = gensim.models.Phrases(bigram[data], threshold=100)\n",
    "\n",
    "bigram_mod = gensim.models.phrases.Phraser(bigram)\n",
    "trigram_mod = gensim.models.phrases.Phraser(trigram)\n",
    "\n",
    "# See trigram example\n",
    "print(trigram_mod[bigram_mod[data[0]]])"
   ]
  },
  {
   "cell_type": "code",
   "execution_count": 9,
   "metadata": {},
   "outputs": [],
   "source": [
    "# As we can see above, out attempt at lemmatizing the data didn't work. We will just try it again.\n",
    "# Here we are defining functions for bigrams, trigrams, and lemmatizing the data\n",
    "\n",
    "def make_bigrams(data):\n",
    "    return [bigram_mod[doc] for doc in data]\n",
    "\n",
    "def make_trigrams(data):\n",
    "    return [trigram_mod[bigram_mod[doc]] for doc in data]\n",
    "\n",
    "def lemmatization(data, allowed_postags=[\"NOUN\", \"ADJ\", \"VERB\", \"ADV\"]):\n",
    "    complaints_out = []\n",
    "    for complaint in data:\n",
    "        doc = nlp(\" \".join(complaint))\n",
    "        complaints_out.append([token.lemma_ for token in doc if token.pos_ in allowed_postags])\n",
    "    return complaints_out"
   ]
  },
  {
   "cell_type": "code",
   "execution_count": 10,
   "metadata": {},
   "outputs": [
    {
     "name": "stdout",
     "output_type": "stream",
     "text": [
      "[['apply', 'account', 'correctly', 'communicate', 'issue', 'offer', 'rate', 'deduction', 'autopay', 'show', 'account', 'tell', 'go', 'application', 'account', 'open', 'could', 'add', 'autopay', 'receive', 'discount', 'way', 'account', 'open', 'call', 'center', 'least', 'time', 'try', 'receive', 'autopay', 'discount', 'first', 'time', 'tell', 'go', 'apply', 'still', 'see', 'additionally', 'last', 'time', 'call', 'week', 'ask', 'manager', 'tell', 'take', 'day', 'get', 'back', 'still', 'yet', 'hear', 'back', 'business', 'day', 'later', 'tell', 'receive', 'autopay', 'discount', 'receiving', 'open', 'account', 'company', 'lie', 'rate', 'go', 'receive', 'autopay', 'autopay', 'go', 'far', 'additional', 'issue', 'tell', 'rate', 'go', 'base', 'month', 'rate', 'publish', 'month', 'none', 'rate', 'receive', 'thus_far', 'match', 'rate', 'really', 'know', 'try', 'contact', 'many', 'time', 'people', 'phone', 'seem', 'helpful', 'time', 'talk', 'seem', 'get', 'do']]\n"
     ]
    }
   ],
   "source": [
    "# Now we call the functions we build above\n",
    "data_words_bigrams = make_bigrams(data)\n",
    "nlp = spacy.load(\"en\", disable=[\"parser\", \"ner\"])\n",
    "data_lemmatized = lemmatization(data_words_bigrams)\n",
    "\n",
    "print(data_lemmatized[:1])"
   ]
  },
  {
   "cell_type": "markdown",
   "metadata": {},
   "source": [
    "At this point we've created some bi_grams and tri_grams. Now we need to create a dictionary and corpus that's needed for topic modeling."
   ]
  },
  {
   "cell_type": "code",
   "execution_count": 11,
   "metadata": {},
   "outputs": [
    {
     "name": "stdout",
     "output_type": "stream",
     "text": [
      "Corpus format: (word_id, work_frequency)\n",
      "[[(0, 5), (1, 1), (2, 1), (3, 1), (4, 1), (5, 2), (6, 1), (7, 6), (8, 2), (9, 1), (10, 1), (11, 2), (12, 1), (13, 1), (14, 1), (15, 1), (16, 1), (17, 1), (18, 2), (19, 1), (20, 3), (21, 1), (22, 1), (23, 1), (24, 2), (25, 5), (26, 1), (27, 1), (28, 2), (29, 1), (30, 1), (31, 1), (32, 1), (33, 1), (34, 1), (35, 1), (36, 1), (37, 2), (38, 1), (39, 1), (40, 3), (41, 1), (42, 1), (43, 1), (44, 6), (45, 1), (46, 5), (47, 1), (48, 1), (49, 2), (50, 1), (51, 2), (52, 1), (53, 1), (54, 5), (55, 1), (56, 5), (57, 2), (58, 1), (59, 1), (60, 1)]]\n",
      "\n",
      "Readable version of term-frequency:\n",
      "[[('account', 5), ('add', 1), ('additional', 1), ('additionally', 1), ('application', 1), ('apply', 2), ('ask', 1), ('autopay', 6), ('back', 2), ('base', 1), ('business', 1), ('call', 2), ('center', 1), ('communicate', 1), ('company', 1), ('contact', 1), ('correctly', 1), ('could', 1), ('day', 2), ('deduction', 1), ('discount', 3), ('do', 1), ('far', 1), ('first', 1), ('get', 2), ('go', 5), ('hear', 1), ('helpful', 1), ('issue', 2), ('know', 1), ('last', 1), ('later', 1), ('least', 1), ('lie', 1), ('manager', 1), ('many', 1), ('match', 1), ('month', 2), ('none', 1), ('offer', 1), ('open', 3), ('people', 1), ('phone', 1), ('publish', 1), ('rate', 6), ('really', 1), ('receive', 5), ('receiving', 1), ('see', 1), ('seem', 2), ('show', 1), ('still', 2), ('take', 1), ('talk', 1), ('tell', 5), ('thus_far', 1), ('time', 5), ('try', 2), ('way', 1), ('week', 1), ('yet', 1)]]\n"
     ]
    }
   ],
   "source": [
    "# Create dictionary\n",
    "id2word = corpora.Dictionary(data_lemmatized)\n",
    "\n",
    "# Create Corpus\n",
    "complaints = data_lemmatized\n",
    "\n",
    "# Term Document Frequency\n",
    "corpus = [id2word.doc2bow(complaint) for complaint in complaints]\n",
    "\n",
    "print(\"Corpus format: (word_id, work_frequency)\")\n",
    "print(corpus[:1])\n",
    "print()\n",
    "print(\"Readable version of term-frequency:\")\n",
    "print([[(id2word[id], freq) for id, freq in cp] for cp in corpus[:1]])"
   ]
  },
  {
   "cell_type": "markdown",
   "metadata": {},
   "source": [
    "Now that we've prepared the data and have everything we need to train the LDA model, we will build it. "
   ]
  },
  {
   "cell_type": "code",
   "execution_count": 12,
   "metadata": {},
   "outputs": [],
   "source": [
    "# Building the LDA model\n",
    "lda_model = gensim.models.ldamodel.LdaModel(corpus=corpus,\n",
    "                                            id2word=id2word,\n",
    "                                           num_topics=20,\n",
    "                                           random_state=100,\n",
    "                                           update_every=1,\n",
    "                                           chunksize=100,\n",
    "                                           passes=10,\n",
    "                                           alpha=\"auto\",\n",
    "                                           per_word_topics=True)"
   ]
  },
  {
   "cell_type": "code",
   "execution_count": 13,
   "metadata": {},
   "outputs": [
    {
     "name": "stdout",
     "output_type": "stream",
     "text": [
      "[(0,\n",
      "  '0.196*\"repay\" + 0.170*\"bankruptcy\" + 0.132*\"daughter\" + 0.058*\"timely\" + '\n",
      "  '0.039*\"daily\" + 0.033*\"xxxxxxxxxxxxxxxx\" + 0.030*\"official\" + 0.028*\"split\" '\n",
      "  '+ 0.028*\"overpay\" + 0.025*\"supply\"'),\n",
      " (1,\n",
      "  '0.149*\"information\" + 0.094*\"contact\" + 0.067*\"company\" + 0.066*\"number\" + '\n",
      "  '0.062*\"provide\" + 0.045*\"regard\" + 0.031*\"attempt\" + 0.028*\"name\" + '\n",
      "  '0.024*\"give\" + 0.023*\"list\"'),\n",
      " (2,\n",
      "  '0.206*\"receive\" + 0.148*\"send\" + 0.097*\"letter\" + 0.096*\"request\" + '\n",
      "  '0.095*\"email\" + 0.066*\"state\" + 0.040*\"form\" + 0.032*\"mail\" + '\n",
      "  '0.030*\"response\" + 0.025*\"write\"'),\n",
      " (3,\n",
      "  '0.234*\"default\" + 0.190*\"collection\" + 0.108*\"nelnet\" + 0.094*\"agency\" + '\n",
      "  '0.085*\"agreement\" + 0.042*\"education\" + 0.034*\"rehabilitation\" + '\n",
      "  '0.025*\"dept\" + 0.024*\"mine\" + 0.013*\"tax\"'),\n",
      " (4,\n",
      "  '0.102*\"plan\" + 0.100*\"repayment\" + 0.084*\"income\" + 0.066*\"program\" + '\n",
      "  '0.053*\"forgiveness\" + 0.042*\"year\" + 0.040*\"base\" + 0.038*\"qualify\" + '\n",
      "  '0.034*\"service\" + 0.028*\"pslf\"'),\n",
      " (5,\n",
      "  '0.469*\"account\" + 0.120*\"check\" + 0.077*\"bank\" + 0.043*\"refund\" + '\n",
      "  '0.026*\"auto\" + 0.024*\"withdraw\" + 0.023*\"cancel\" + 0.023*\"log\" + '\n",
      "  '0.022*\"online\" + 0.022*\"show\"'),\n",
      " (6,\n",
      "  '0.241*\"credit\" + 0.152*\"report\" + 0.087*\"late\" + 0.051*\"remove\" + '\n",
      "  '0.031*\"score\" + 0.028*\"show\" + 0.020*\"reporting\" + 0.019*\"negative\" + '\n",
      "  '0.018*\"contacted\" + 0.015*\"card\"'),\n",
      " (7,\n",
      "  '0.124*\"amount\" + 0.078*\"pay\" + 0.063*\"monthly\" + 0.059*\"balance\" + '\n",
      "  '0.057*\"rate\" + 0.053*\"apply\" + 0.033*\"principal\" + 0.030*\"total\" + '\n",
      "  '0.028*\"increase\" + 0.026*\"month\"'),\n",
      " (8,\n",
      "  '0.315*\"application\" + 0.092*\"submit\" + 0.080*\"process\" + 0.046*\"standard\" + '\n",
      "  '0.045*\"capitalize\" + 0.042*\"recertification\" + 0.035*\"idr\" + '\n",
      "  '0.033*\"instruction\" + 0.029*\"deny\" + 0.027*\"present\"'),\n",
      " (9,\n",
      "  '0.060*\"financial\" + 0.044*\"borrower\" + 0.038*\"practice\" + 0.034*\"result\" + '\n",
      "  '0.034*\"reduce\" + 0.029*\"fail\" + 0.029*\"cause\" + 0.028*\"assistance\" + '\n",
      "  '0.028*\"consumer\" + 0.028*\"action\"'),\n",
      " (10,\n",
      "  '0.260*\"charge\" + 0.212*\"fee\" + 0.110*\"late\" + 0.067*\"sell\" + 0.059*\"force\" '\n",
      "  '+ 0.058*\"double\" + 0.046*\"occasion\" + 0.035*\"garnishment\" + 0.017*\"unpaid\" '\n",
      "  '+ 0.015*\"penalty\"'),\n",
      " (11,\n",
      "  '0.246*\"file\" + 0.204*\"complaint\" + 0.140*\"lender\" + 0.053*\"ahead\" + '\n",
      "  '0.040*\"solution\" + 0.039*\"resolution\" + 0.035*\"manage\" + 0.026*\"creditor\" + '\n",
      "  '0.024*\"case\" + 0.024*\"attorney\"'),\n",
      " (12,\n",
      "  '0.106*\"school\" + 0.062*\"private\" + 0.052*\"federal\" + 0.033*\"education\" + '\n",
      "  '0.031*\"college\" + 0.031*\"attend\" + 0.029*\"graduate\" + 0.022*\"close\" + '\n",
      "  '0.020*\"student\" + 0.019*\"degree\"'),\n",
      " (13,\n",
      "  '0.572*\"debt\" + 0.114*\"dispute\" + 0.069*\"correspondence\" + 0.052*\"prove\" + '\n",
      "  '0.031*\"collector\" + 0.025*\"paycheck\" + 0.023*\"incur\" + 0.009*\"feature\" + '\n",
      "  '0.009*\"wage_garnishment\" + 0.007*\"demand\"'),\n",
      " (14,\n",
      "  '0.063*\"call\" + 0.035*\"tell\" + 0.026*\"time\" + 0.025*\"make\" + 0.024*\"due\" + '\n",
      "  '0.019*\"ask\" + 0.018*\"day\" + 0.017*\"say\" + 0.014*\"issue\" + 0.014*\"service\"'),\n",
      " (15,\n",
      "  '0.609*\"forbearance\" + 0.071*\"automatic\" + 0.064*\"parent\" + 0.040*\"option\" + '\n",
      "  '0.031*\"debit\" + 0.030*\"administrative\" + 0.028*\"place\" + '\n",
      "  '0.024*\"consistently\" + 0.009*\"temporary\" + 0.008*\"accredit\"'),\n",
      " (16,\n",
      "  '0.499*\"statement\" + 0.226*\"discover\" + 0.051*\"billing\" + 0.034*\"subject\" + '\n",
      "  '0.028*\"deceptive\" + 0.012*\"effectively\" + 0.007*\"recipient\" + '\n",
      "  '0.006*\"united_state\" + 0.000*\"usd\" + 0.000*\"solve\"'),\n",
      " (17,\n",
      "  '0.054*\"pay\" + 0.032*\"year\" + 0.029*\"go\" + 0.028*\"make\" + 0.028*\"month\" + '\n",
      "  '0.024*\"take\" + 0.024*\"time\" + 0.022*\"get\" + 0.019*\"never\" + 0.018*\"could\"'),\n",
      " (18,\n",
      "  '0.185*\"document\" + 0.099*\"documentation\" + 0.068*\"attach\" + 0.063*\"proof\" + '\n",
      "  '0.041*\"release\" + 0.039*\"copy\" + 0.039*\"original\" + 0.037*\"sign\" + '\n",
      "  '0.032*\"signature\" + 0.030*\"provide\"'),\n",
      " (19,\n",
      "  '0.435*\"deferment\" + 0.112*\"collect\" + 0.089*\"law\" + 0.071*\"court\" + '\n",
      "  '0.067*\"wife\" + 0.027*\"valid\" + 0.023*\"defer\" + 0.018*\"shock\" + '\n",
      "  '0.013*\"stressful\" + 0.011*\"remainder\"')]\n"
     ]
    }
   ],
   "source": [
    "pprint(lda_model.print_topics())\n",
    "doc_lda = lda_model[corpus]"
   ]
  },
  {
   "cell_type": "code",
   "execution_count": 14,
   "metadata": {},
   "outputs": [
    {
     "name": "stdout",
     "output_type": "stream",
     "text": [
      "Perplexity: -9.206020080130664\n",
      "\n",
      "Coherence score: 0.38448119717595325\n"
     ]
    }
   ],
   "source": [
    "# Compute perplexity\n",
    "print(\"Perplexity:\", lda_model.log_perplexity(corpus))\n",
    "\n",
    "# Compute coherence score\n",
    "coherence_model_lda = CoherenceModel(model=lda_model, texts=data_lemmatized, dictionary=id2word, coherence=\"c_v\")\n",
    "coherence_lda = coherence_model_lda.get_coherence()\n",
    "print(\"\\nCoherence score:\", coherence_lda)"
   ]
  },
  {
   "cell_type": "markdown",
   "metadata": {},
   "source": [
    "We now have a baseline. We will measure the performance of this model mostly using the coherence score. Which our baseline coherence score is 0.38, which is pretty bad (the higher the better). But atleast we have a baseline and we can start working on improving the mdoel from here. \n",
    "\n",
    "The model has been built and can be viewed above. The words displayed above (a couple spaces above are the top words and its weight used to determine that specific topic. There are 20 topics total (0 - 19).\n",
    "\n",
    "Now we will visualize the topics and their keywords using pyLDAvis"
   ]
  },
  {
   "cell_type": "code",
   "execution_count": 15,
   "metadata": {},
   "outputs": [
    {
     "name": "stderr",
     "output_type": "stream",
     "text": [
      "C:\\Users\\danrl\\Anaconda3\\lib\\site-packages\\IPython\\html.py:14: ShimWarning: The `IPython.html` package has been deprecated since IPython 4.0. You should import from `notebook` instead. `IPython.html.widgets` has moved to `ipywidgets`.\n",
      "  \"`IPython.html.widgets` has moved to `ipywidgets`.\", ShimWarning)\n"
     ]
    },
    {
     "data": {
      "text/html": [
       "\n",
       "<link rel=\"stylesheet\" type=\"text/css\" href=\"https://cdn.rawgit.com/bmabey/pyLDAvis/files/ldavis.v1.0.0.css\">\n",
       "\n",
       "\n",
       "<div id=\"ldavis_el1414024308242978404145013161\"></div>\n",
       "<script type=\"text/javascript\">\n",
       "\n",
       "var ldavis_el1414024308242978404145013161_data = {\"mdsDat\": {\"x\": [0.3064619662509156, 0.30979466156666896, 0.21699423875234006, 0.1420816333038785, 0.08902135362743903, 0.08538637419326585, 0.03286421549942742, -0.00415389295571603, 0.005526470125943309, -0.023971693369435974, -0.029128577703604653, -0.11409797197622129, -0.12283008659839617, -0.11255870136658283, -0.0386712798245443, -0.10787839250820039, -0.14554672761803364, -0.15638231822851673, -0.16377567379641392, -0.1691355973742134], \"y\": [-0.025246020930280173, -0.051140846239882624, -0.08272433069767192, 0.13821572643590527, 0.13470755129425932, 0.1800476764333976, -0.0382481077567626, 0.08931037075887775, -0.3118859085178661, -0.11016374089302501, 0.08086898562849039, -0.23573806645949508, 0.032443921326584094, 0.03227855633106191, 0.02983598568772488, 0.025581295747480918, 0.029457001787630253, 0.02256412163437004, 0.030735811611643016, 0.029100016817558878], \"topics\": [1, 2, 3, 4, 5, 6, 7, 8, 9, 10, 11, 12, 13, 14, 15, 16, 17, 18, 19, 20], \"cluster\": [1, 1, 1, 1, 1, 1, 1, 1, 1, 1, 1, 1, 1, 1, 1, 1, 1, 1, 1, 1], \"Freq\": [29.17997169494629, 25.805095672607422, 7.378032207489014, 5.699965000152588, 4.918111324310303, 4.722108364105225, 4.597738265991211, 3.3515663146972656, 3.3357274532318115, 2.312023878097534, 1.298758864402771, 1.1655864715576172, 1.0842951536178589, 1.0232373476028442, 0.9086665511131287, 0.8651728630065918, 0.7929113507270813, 0.5947203636169434, 0.5333369374275208, 0.4329677224159241]}, \"tinfo\": {\"Term\": [\"account\", \"receive\", \"pay\", \"credit\", \"forbearance\", \"amount\", \"information\", \"debt\", \"call\", \"send\", \"year\", \"report\", \"plan\", \"repayment\", \"school\", \"request\", \"company\", \"process\", \"contact\", \"late\", \"letter\", \"income\", \"charge\", \"application\", \"email\", \"deferment\", \"state\", \"file\", \"option\", \"monthly\", \"go\", \"get\", \"help\", \"even\", \"try\", \"want\", \"start\", \"keep\", \"way\", \"afford\", \"offer\", \"feel\", \"well\", \"much\", \"have\", \"people\", \"right\", \"think\", \"thing\", \"good\", \"dollar\", \"always\", \"almost\", \"life\", \"can\", \"ever\", \"lower\", \"ago\", \"let\", \"old\", \"know\", \"able\", \"be\", \"many\", \"work\", \"money\", \"take\", \"year\", \"find\", \"pay\", \"never\", \"option\", \"back\", \"month\", \"could\", \"make\", \"time\", \"still\", \"tell\", \"say\", \"give\", \"need\", \"company\", \"call\", \"issue\", \"speak\", \"representative\", \"customer\", \"week\", \"today\", \"resolve\", \"supervisor\", \"wait\", \"next\", \"system\", \"immediately\", \"second\", \"business\", \"agent\", \"concern\", \"manager\", \"handle\", \"conversation\", \"fill\", \"employee\", \"mistake\", \"directly\", \"switch\", \"applied\", \"d\", \"clearly\", \"notice\", \"cover\", \"transfer\", \"advise\", \"day\", \"hold\", \"answer\", \"new\", \"explain\", \"inform\", \"due\", \"ask\", \"phone\", \"multiple\", \"tell\", \"process\", \"correct\", \"however\", \"service\", \"time\", \"say\", \"also\", \"make\", \"change\", \"first\", \"several\", \"still\", \"need\", \"could\", \"state\", \"date\", \"month\", \"amount\", \"balance\", \"rate\", \"principal\", \"total\", \"increase\", \"term\", \"accrue\", \"principle\", \"extra\", \"refinance\", \"bring\", \"large\", \"payoff\", \"outstanding\", \"decrease\", \"allocate\", \"advance\", \"adjust\", \"excess\", \"adjustment\", \"overall\", \"capitalized\", \"discrepancy\", \"retirement\", \"smart\", \"mpn\", \"ton\", \"amend\", \"payback\", \"monthly\", \"apply\", \"portion\", \"high\", \"original\", \"additional\", \"remain\", \"add\", \"full\", \"approximately\", \"current\", \"pay\", \"history\", \"month\", \"change\", \"due\", \"owe\", \"date\", \"make\", \"low\", \"show\", \"plan\", \"repayment\", \"income\", \"forgiveness\", \"base\", \"qualify\", \"pslf\", \"public\", \"consolidation\", \"eligible\", \"count\", \"employer\", \"ibr\", \"drive\", \"provider\", \"fedloan\", \"incomebase\", \"eligibility\", \"recalculate\", \"employ\", \"certification\", \"worth\", \"house\", \"annual\", \"recertify\", \"spouse\", \"distribute\", \"scamme\", \"marry\", \"revise\", \"employment\", \"program\", \"consolidate\", \"forgive\", \"direct\", \"service\", \"year\", \"servicer\", \"require\", \"submit\", \"complete\", \"form\", \"deny\", \"information\", \"contact\", \"number\", \"regard\", \"name\", \"access\", \"verify\", \"personal\", \"list\", \"telephone\", \"reference\", \"morning\", \"identify\", \"avail\", \"upset\", \"cell\", \"locate\", \"inability\", \"relate\", \"clarification\", \"contain\", \"client\", \"grandmother\", \"success\", \"suspect\", \"speaking\", \"firm\", \"well_fargo\", \"nature\", \"description\", \"false\", \"provide\", \"attempt\", \"informed\", \"include\", \"fund\", \"detail\", \"claim\", \"company\", \"requested\", \"refuse\", \"incorrect\", \"communication\", \"prior\", \"address\", \"website\", \"give\", \"use\", \"reach\", \"phone\", \"obtain\", \"question\", \"may\", \"also\", \"school\", \"private\", \"college\", \"attend\", \"student\", \"degree\", \"struggle\", \"class\", \"discharge\", \"university\", \"lawsuit\", \"benefit\", \"reduction\", \"finish\", \"stating\", \"graduation\", \"relief\", \"medical\", \"enrollment\", \"tuition\", \"aid\", \"similar\", \"disclosure\", \"unethical\", \"military\", \"limited\", \"share\", \"field\", \"closed\", \"sincerely\", \"federal\", \"graduate\", \"education\", \"government\", \"enrol\", \"close\", \"course\", \"accord\", \"promise\", \"program\", \"sign\", \"obtain\", \"job\", \"complete\", \"allow\", \"send\", \"letter\", \"email\", \"mail\", \"response\", \"notification\", \"respond\", \"important\", \"link\", \"attachment\", \"dear\", \"key\", \"scammer\", \"writing\", \"receive\", \"write\", \"form\", \"ignore\", \"request\", \"state\", \"paper\", \"address\", \"copy\", \"indicate\", \"mark\", \"date\", \"return\", \"cfpb\", \"hear\", \"follow\", \"never\", \"history\", \"financial\", \"borrower\", \"practice\", \"reduce\", \"cause\", \"assistance\", \"action\", \"delinquent\", \"hardship\", \"future\", \"impossible\", \"difficult\", \"assist\", \"act\", \"unfair\", \"car\", \"decision\", \"ability\", \"reasonable\", \"arrangement\", \"responsibility\", \"obligation\", \"failure\", \"unwilling\", \"stress\", \"damage\", \"circumstance\", \"own\", \"significant\", \"hang\", \"fail\", \"experience\", \"seek\", \"accept\", \"result\", \"consumer\", \"legal\", \"consider\", \"fair\", \"situation\", \"credit\", \"report\", \"remove\", \"score\", \"reporting\", \"negative\", \"contacted\", \"research\", \"bureau\", \"open\", \"determine\", \"variable\", \"inaccurate\", \"choice\", \"profit\", \"accounting\", \"subsequently\", \"violate\", \"apologize\", \"active\", \"beg\", \"certainly\", \"delete\", \"erroneous\", \"chapter\", \"citizen\", \"engage\", \"removal\", \"discount\", \"advertise\", \"card\", \"late\", \"item\", \"accurate\", \"show\", \"history\", \"drop\", \"update\", \"agency\", \"affect\", \"status\", \"day\", \"miss\", \"correct\", \"error\", \"never\", \"account\", \"check\", \"bank\", \"refund\", \"auto\", \"withdraw\", \"cancel\", \"log\", \"transaction\", \"cash\", \"summary\", \"view\", \"authorization\", \"annually\", \"co\", \"suspicious\", \"typically\", \"little_bit\", \"pose\", \"certified_mail\", \"confirmation\", \"reverse\", \"online\", \"explanation\", \"reflect\", \"receipt\", \"show\", \"return\", \"set\", \"pull\", \"see\", \"money\", \"confirm\", \"document\", \"documentation\", \"attach\", \"proof\", \"release\", \"signature\", \"investigation\", \"page\", \"disburse\", \"evidence\", \"disbursement\", \"section\", \"validate\", \"police\", \"certificate\", \"theft\", \"disqualify\", \"retain\", \"sequence\", \"reside\", \"bar\", \"essence\", \"undue\", \"copy\", \"requirement\", \"certify\", \"signing\", \"fraudulent\", \"fraud\", \"original\", \"sign\", \"note\", \"provide\", \"cosigner\", \"require\", \"claim\", \"show\", \"submit\", \"request\", \"charge\", \"fee\", \"sell\", \"force\", \"double\", \"occasion\", \"garnishment\", \"unpaid\", \"penalty\", \"tactic\", \"defaulted\", \"fraudulently\", \"cease\", \"non\", \"interest\", \"combination\", \"relieve\", \"shape\", \"charging\", \"late\", \"illegal\", \"xxxxxxxxlate\", \"assess\", \"overdraft\", \"refunded\", \"naviet\", \"quarterly\", \"universityxxxx\", \"raise\", \"onetime\", \"add\", \"schedule\", \"complain\", \"cost\", \"support\", \"forebearance\", \"contract\", \"ca\", \"entire\", \"file\", \"complaint\", \"lender\", \"ahead\", \"solution\", \"resolution\", \"manage\", \"creditor\", \"attorney\", \"hand\", \"appreciate\", \"recieve\", \"side\", \"recall\", \"owner\", \"falsify\", \"judge\", \"legitimate\", \"coborrower\", \"advertisement\", \"unrealistic\", \"reevaluate\", \"subsidiary\", \"case\", \"xxxx2010\", \"consent\", \"overpayment\", \"judgment\", \"serial\", \"ac\", \"qualifying\", \"track\", \"contract\", \"schedule\", \"default\", \"collection\", \"nelnet\", \"agreement\", \"rehabilitation\", \"dept\", \"mine\", \"entity\", \"autodebit\", \"pertain\", \"educational\", \"conflicting\", \"odd\", \"apparent\", \"improperly\", \"xxxx19\", \"revised\", \"grossly\", \"agency\", \"refer\", \"education\", \"tax\", \"enter\", \"department\", \"duplicate\", \"acct\", \"exhibit\", \"rehabilitate\", \"rehab\", \"settlement\", \"delinquency\", \"entire\", \"support\", \"contract\", \"schedule\", \"application\", \"standard\", \"recertification\", \"idr\", \"instruction\", \"present\", \"capitalization\", \"deposit\", \"term_condition\", \"register\", \"blame\", \"remedy\", \"relevant\", \"material\", \"studentloansgov\", \"union\", \"impose\", \"backdate\", \"purport\", \"greatly_tune\", \"situation_lately\", \"seriously_unfavorable\", \"highly_recommend\", \"capitalize\", \"generate_verification\", \"reapply\", \"submit\", \"confirmation\", \"process\", \"expire\", \"deny\", \"complete\", \"confirm\", \"instruct\", \"request\", \"apply\", \"follow\", \"possible\", \"forbearance\", \"automatic\", \"parent\", \"debit\", \"administrative\", \"consistently\", \"accredit\", \"greatly\", \"affected\", \"temporary\", \"place\", \"option\", \"period\", \"vsac\", \"utilize\", \"entry\", \"encourage\", \"goodwill\", \"overdue\", \"sofi\", \"general\", \"setup\", \"reroute\", \"ac\", \"proposal\", \"unresolved\", \"subsequent\", \"extend\", \"lendkey\", \"delinquency\", \"approval\", \"ca\", \"constantly\", \"schedule\", \"specifically\", \"summer\", \"entire\", \"forebearance\", \"renew\", \"qualifying\", \"debt\", \"dispute\", \"correspondence\", \"prove\", \"collector\", \"paycheck\", \"incur\", \"feature\", \"wage_garnishment\", \"hire\", \"demand\", \"settlement\", \"validation\", \"allege\", \"earnest\", \"consent\", \"judgment\", \"summon\", \"ownership\", \"remark\", \"negotiate\", \"alleged\", \"statute_limitation\", \"ecmc\", \"dismiss\", \"osla\", \"contention\", \"validity\", \"procure\", \"protocol\", \"salary\", \"entry\", \"purchase\", \"cosign\", \"ca\", \"contract\", \"group\", \"constantly\", \"mortgage\", \"opportunity\", \"entire\", \"schedule\", \"permission\", \"deferment\", \"collect\", \"law\", \"court\", \"wife\", \"valid\", \"shock\", \"stressful\", \"remainder\", \"prohibit\", \"invalid\", \"faith\", \"monitoring\", \"cease_desist\", \"emotionally\", \"defer\", \"entry\", \"consent\", \"adversary_proceede\", \"duplicate\", \"refusal\", \"congratulating\", \"judgment\", \"consult\", \"retrieve\", \"contingency\", \"enforcement\", \"justification\", \"power\", \"summon\", \"validation\", \"repeat\", \"ultimately\", \"contract\", \"schedule\", \"involve\", \"summer\", \"qualifying\", \"specifically\", \"entire\", \"support\", \"ca\", \"repay\", \"bankruptcy\", \"daughter\", \"timely\", \"daily\", \"xxxxxxxxxxxxxxxx\", \"official\", \"split\", \"overpay\", \"supply\", \"recognize\", \"member\", \"deliberately\", \"incomplete\", \"economic\", \"origination\", \"administer\", \"adequately\", \"used\", \"administration\", \"recount\", \"filing\", \"adversary_proceede\", \"usc\", \"refusal\", \"contempt\", \"meeting\", \"trustee\", \"illness\", \"formerly\", \"qualifying\", \"cosign\", \"track\", \"permission\", \"overpayment\", \"ca\", \"support\", \"specifically\", \"schedule\", \"statement\", \"discover\", \"billing\", \"subject\", \"deceptive\", \"effectively\", \"recipient\", \"united_state\", \"usd\", \"solve\", \"counting\", \"wire_transfer\", \"reception\", \"inbox\", \"argue\", \"print\", \"margin\", \"transition\", \"chat\", \"retroactively\", \"phase\", \"heartland\", \"quarterly\", \"penalize\", \"modification\", \"underwrite\", \"proactively\", \"flaw\", \"interim\", \"underwriting\", \"guideline\", \"track\", \"group\", \"ca\", \"absurd\", \"estimate\", \"overpayment\", \"schedule\", \"delinquency\", \"investigate\", \"electronic\", \"raise\", \"calculation\", \"contract\"], \"Freq\": [22950.0, 21484.0, 45659.0, 17047.0, 11155.0, 19359.0, 15552.0, 9604.0, 34173.0, 14366.0, 25109.0, 10711.0, 12321.0, 12025.0, 10613.0, 12166.0, 12906.0, 7577.0, 9751.0, 8875.0, 9407.0, 10113.0, 6411.0, 6058.0, 9231.0, 5475.0, 10577.0, 5652.0, 7857.0, 9922.0, 17743.80078125, 13393.9404296875, 10921.1396484375, 10421.93359375, 10194.4423828125, 7955.3125, 6363.28125, 5582.72265625, 4977.1572265625, 4399.47900390625, 4373.12158203125, 4036.5634765625, 3837.65771484375, 3482.269775390625, 3481.247314453125, 3284.52880859375, 3059.71484375, 2908.76416015625, 2782.55615234375, 2649.0126953125, 2390.02001953125, 2365.40771484375, 2345.383544921875, 2188.92578125, 2168.57177734375, 2155.575439453125, 2103.204833984375, 2440.276611328125, 1919.8397216796875, 1824.75732421875, 7430.66064453125, 6511.5986328125, 4484.64404296875, 3991.912841796875, 10800.91015625, 8193.890625, 15089.1708984375, 20024.48828125, 6210.42626953125, 33415.53515625, 11622.841796875, 6925.5888671875, 8378.5966796875, 17220.330078125, 11392.521484375, 17408.3203125, 14563.8955078125, 6582.97705078125, 9840.904296875, 7370.88818359375, 5875.203125, 5568.06591796875, 5913.7431640625, 34172.515625, 7906.8759765625, 7611.64501953125, 5950.70751953125, 5681.91552734375, 4144.8408203125, 3267.773193359375, 3016.387939453125, 2773.34521484375, 2592.05322265625, 2449.27392578125, 2339.85595703125, 2209.110595703125, 1900.8955078125, 1883.3284912109375, 1844.5003662109375, 1798.171630859375, 1527.069091796875, 1511.4385986328125, 1445.25, 1400.0692138671875, 1357.26611328125, 1337.71435546875, 1205.8721923828125, 1203.6031494140625, 1188.1884765625, 1174.8702392578125, 1164.1988525390625, 4342.0263671875, 1143.4608154296875, 4093.94970703125, 3042.318603515625, 10000.0615234375, 2618.2109375, 2847.1630859375, 4625.63037109375, 4868.34033203125, 4447.1103515625, 13278.6220703125, 10399.2177734375, 7048.97607421875, 3031.17431640625, 19198.1953125, 6029.18896484375, 3394.619873046875, 4156.1376953125, 7793.23974609375, 14107.9228515625, 9232.28125, 6727.6357421875, 13686.185546875, 4666.85107421875, 4183.681640625, 3566.167236328125, 4581.8076171875, 4119.54345703125, 4502.08544921875, 4092.265869140625, 3815.43505859375, 4401.91552734375, 19358.69140625, 9255.2021484375, 8853.66015625, 5107.21142578125, 4666.70947265625, 4418.7138671875, 2922.227294921875, 2254.1474609375, 1912.6285400390625, 1890.9521484375, 1763.31201171875, 1410.39404296875, 1016.6993408203125, 992.759521484375, 853.1839599609375, 720.92578125, 634.751953125, 500.00506591796875, 487.1461486816406, 400.92236328125, 367.9228515625, 341.8533020019531, 277.5037536621094, 268.8156433105469, 256.2888488769531, 170.78402709960938, 103.96813201904297, 90.32572937011719, 82.08729553222656, 75.70765686035156, 9776.1728515625, 8245.8193359375, 492.98858642578125, 3131.89599609375, 2546.864990234375, 1923.953125, 1260.80419921875, 1918.416259765625, 3082.28271484375, 1033.1214599609375, 2377.0283203125, 12242.5927734375, 1335.088134765625, 4006.158447265625, 1943.67236328125, 2713.777587890625, 1463.9044189453125, 1881.7899169921875, 2676.56591796875, 1327.65234375, 1272.3837890625, 12320.1708984375, 12024.025390625, 10112.443359375, 6358.90869140625, 4800.466796875, 4600.88916015625, 3324.69970703125, 2917.4716796875, 2043.96484375, 1860.5001220703125, 1703.9578857421875, 1702.6497802734375, 1613.412109375, 1484.169921875, 1251.3360595703125, 803.9577026367188, 758.7830810546875, 543.389892578125, 508.2210388183594, 505.8525390625, 498.85308837890625, 446.7178955078125, 427.4232177734375, 413.98846435546875, 357.9364318847656, 278.30029296875, 242.5702667236328, 215.51182556152344, 212.3728790283203, 200.65377807617188, 1578.996826171875, 8017.27685546875, 2261.43896484375, 1205.63330078125, 1409.1162109375, 4137.46337890625, 5084.3134765625, 1322.4930419921875, 734.7367553710938, 732.2929077148438, 683.2547607421875, 592.4613647460938, 572.8043823242188, 15551.912109375, 9750.8017578125, 6832.20703125, 4698.3984375, 2896.85986328125, 1468.710693359375, 1412.0736083984375, 1301.4854736328125, 2432.451904296875, 579.4845581054688, 568.8290405273438, 454.7823181152344, 410.9638671875, 340.645263671875, 326.40045166015625, 316.5313720703125, 312.9530944824219, 307.7608947753906, 266.161865234375, 197.2281036376953, 188.05172729492188, 178.79490661621094, 172.6817169189453, 154.8646697998047, 153.94850158691406, 137.76663208007812, 137.6600799560547, 136.89154052734375, 134.69602966308594, 114.3403091430664, 944.2420043945312, 6449.9033203125, 3212.6591796875, 935.8982543945312, 2421.623046875, 1171.738525390625, 977.4566650390625, 2108.317626953125, 6991.6142578125, 522.086669921875, 1909.6806640625, 985.1614379882812, 820.1334228515625, 1124.4127197265625, 1468.4263916015625, 1420.763671875, 2514.9345703125, 1378.0225830078125, 924.6174926757812, 1769.1556396484375, 708.1990966796875, 685.08154296875, 695.5188598632812, 711.6876220703125, 10612.208984375, 6198.8134765625, 3127.669921875, 3091.88818359375, 1981.5068359375, 1936.0079345703125, 1657.6175537109375, 1618.45849609375, 1605.8258056640625, 1514.7908935546875, 1392.6348876953125, 1335.7982177734375, 1330.9117431640625, 1007.0008544921875, 894.7140502929688, 885.7949829101562, 762.4486083984375, 687.30322265625, 656.5062866210938, 653.0789794921875, 564.2847900390625, 494.2383117675781, 475.0123291015625, 457.2832336425781, 441.1186828613281, 440.26318359375, 437.7955322265625, 428.5421142578125, 391.808837890625, 364.8411865234375, 5221.0107421875, 2949.580810546875, 3307.015869140625, 1797.142333984375, 1505.748291015625, 2224.97802734375, 1008.8748779296875, 940.8302001953125, 920.6234130859375, 1866.62158203125, 1198.153564453125, 832.5560913085938, 1060.98779296875, 922.8256225585938, 848.1790161132812, 14365.2734375, 9406.44140625, 9230.6298828125, 3122.794189453125, 2889.1826171875, 1474.5172119140625, 1456.8272705078125, 547.5317993164062, 273.38250732421875, 205.12803649902344, 180.9342498779297, 57.91735076904297, 43.35176467895508, 617.79443359375, 20098.328125, 2460.482177734375, 3853.573486328125, 488.97784423828125, 9338.6923828125, 6470.00927734375, 672.27294921875, 1636.8272705078125, 1046.47998046875, 648.635498046875, 176.8999481201172, 2102.5146484375, 490.4656677246094, 404.07757568359375, 428.5694580078125, 423.3816223144531, 1446.6712646484375, 78.23739624023438, 4279.7509765625, 3089.95703125, 2704.231201171875, 2404.71044921875, 2049.19189453125, 2003.6678466796875, 1958.5167236328125, 1938.176513671875, 1612.9407958984375, 1256.927734375, 1206.86962890625, 1171.0711669921875, 1083.9093017578125, 968.113525390625, 897.1326904296875, 882.323974609375, 871.6950073242188, 837.7468872070312, 831.7652587890625, 774.289794921875, 737.877685546875, 655.1342163085938, 516.2771606445312, 508.3442687988281, 499.1534423828125, 452.3335266113281, 446.6525573730469, 442.8406982421875, 438.8209228515625, 438.4308776855469, 2093.983154296875, 952.92578125, 813.1013793945312, 1904.7666015625, 2437.38330078125, 1965.760498046875, 1124.98583984375, 1386.1787109375, 830.4293212890625, 1355.8486328125, 17046.736328125, 10710.572265625, 3576.032958984375, 2217.73486328125, 1423.1839599609375, 1311.5465087890625, 1249.078369140625, 1037.6553955078125, 1032.965087890625, 1006.3755493164062, 992.1727294921875, 625.5000610351562, 607.9303588867188, 555.084716796875, 473.4905700683594, 303.7860107421875, 295.404052734375, 276.2112731933594, 270.7635498046875, 261.7854919433594, 257.2257995605469, 249.5795135498047, 239.43972778320312, 236.76272583007812, 204.9089813232422, 175.2537384033203, 174.5951385498047, 174.0458984375, 170.23606872558594, 159.51011657714844, 1071.17529296875, 6157.87841796875, 306.0027160644531, 503.2483215332031, 1972.0264892578125, 855.48974609375, 495.7225646972656, 751.3514404296875, 796.498046875, 460.1179504394531, 699.9007568359375, 887.9180908203125, 536.5162963867188, 564.6486206054688, 412.01092529296875, 479.9811706542969, 22949.392578125, 5857.6572265625, 3760.54345703125, 2118.265380859375, 1272.696044921875, 1176.1634521484375, 1122.518310546875, 1113.609130859375, 793.072509765625, 586.8333740234375, 299.9400329589844, 287.3323669433594, 192.997802734375, 159.35980224609375, 134.7349395751953, 102.77510070800781, 91.65092468261719, 38.45136260986328, 36.1789436340332, 20.88304328918457, 623.9414672851562, 288.71478271484375, 1068.7525634765625, 411.2636413574219, 348.14599609375, 86.10040283203125, 1067.041748046875, 310.3837585449219, 453.4007263183594, 80.95430755615234, 334.9888000488281, 345.7166748046875, 110.329345703125, 5080.19580078125, 2723.41650390625, 1883.7275390625, 1722.3302001953125, 1119.73828125, 880.3378295898438, 697.649169921875, 676.5990600585938, 587.8612060546875, 479.619873046875, 452.95477294921875, 394.45770263671875, 284.013427734375, 235.95040893554688, 183.82350158691406, 127.70272827148438, 126.02184295654297, 121.290283203125, 107.20608520507812, 84.04695129394531, 63.43128967285156, 51.869163513183594, 47.98860168457031, 1081.8963623046875, 212.97927856445312, 190.5229949951172, 42.33320236206055, 293.6166687011719, 315.9329528808594, 1063.5443115234375, 1011.5821533203125, 496.9979553222656, 835.8111572265625, 304.7980651855469, 274.8368225097656, 250.46839904785156, 270.3931579589844, 166.4114227294922, 134.72775268554688, 6410.8583984375, 5231.76904296875, 1656.0794677734375, 1467.521240234375, 1432.1722412109375, 1126.543701171875, 853.7149658203125, 427.0074768066406, 379.8453369140625, 293.6837463378906, 286.90753173828125, 195.74343872070312, 186.47085571289062, 181.5560302734375, 175.02786254882812, 61.532691955566406, 61.514129638671875, 24.62076187133789, 17.381359100341797, 2716.8798828125, 47.061012268066406, 0.05632061883807182, 0.05632070079445839, 0.0563199408352375, 0.056319840252399445, 0.05631919577717781, 0.05632003769278526, 0.05631909891963005, 0.056322455406188965, 0.056319452822208405, 127.90202331542969, 0.05632556602358818, 0.05632119998335838, 19.74406623840332, 0.05632247403264046, 0.05632216855883598, 0.056322552263736725, 0.05632229149341583, 0.05632134526968002, 5651.8154296875, 4674.67041015625, 3217.1455078125, 1220.469482421875, 910.9281616210938, 901.5947875976562, 804.448974609375, 590.6565551757812, 553.9044799804688, 418.42572021484375, 402.372802734375, 398.8540954589844, 259.0436706542969, 248.76654052734375, 215.46107482910156, 155.08396911621094, 126.12757873535156, 99.95789337158203, 93.67921447753906, 46.36674880981445, 45.96173858642578, 29.535303115844727, 14.062949180603027, 560.2839965820312, 0.05718580260872841, 0.05718802288174629, 0.05718566104769707, 0.05718376114964485, 0.05718280002474785, 0.05718344449996948, 0.0571867972612381, 0.057185109704732895, 0.057186711579561234, 0.05718673765659332, 5080.96484375, 4123.82275390625, 2347.3525390625, 1847.380615234375, 729.2897338867188, 542.834228515625, 510.97216796875, 205.49388122558594, 195.06211853027344, 183.45504760742188, 145.80787658691406, 135.294189453125, 114.41190338134766, 112.52279663085938, 110.39836120605469, 83.77039337158203, 53.311363220214844, 47.76957702636719, 2044.5621337890625, 149.34848022460938, 913.2936401367188, 275.2657470703125, 193.40579223632812, 149.96578979492188, 0.05936945229768753, 0.059359289705753326, 0.05935888737440109, 0.05935823172330856, 0.059357818216085434, 0.05936086177825928, 0.05936004966497421, 0.05936115235090256, 0.05936048924922943, 0.05936119705438614, 0.05936143919825554, 6057.16162109375, 889.7428588867188, 806.9812622070312, 682.7833251953125, 640.9839477539062, 510.8092041015625, 509.81719970703125, 255.97207641601562, 221.01321411132812, 220.16482543945312, 156.91705322265625, 136.78700256347656, 128.16461181640625, 115.96402740478516, 65.30256652832031, 57.279964447021484, 47.64183044433594, 34.870628356933594, 11.575681686401367, 1.6039237976074219, 1.6039237976074219, 1.6039237976074219, 1.6039237976074219, 861.7100219726562, 1.4708880186080933, 184.0776824951172, 1776.8358154296875, 224.18479919433594, 1547.1358642578125, 97.46391296386719, 557.661865234375, 468.2212219238281, 136.0561981201172, 40.85207748413086, 206.50779724121094, 173.92774963378906, 87.61968994140625, 53.43921661376953, 11154.287109375, 1299.5101318359375, 1173.1607666015625, 571.473388671875, 546.0376586914062, 443.9386291503906, 147.38229370117188, 134.01162719726562, 96.58098602294922, 156.62057495117188, 509.8671875, 733.5758666992188, 123.2193374633789, 0.053220365196466446, 0.05321761593222618, 0.05321802198886871, 0.05321688577532768, 0.05321594327688217, 0.05321686342358589, 0.05321624130010605, 0.05321740359067917, 0.05321670323610306, 0.05321521684527397, 0.05321619659662247, 0.05321526899933815, 0.05321507155895233, 0.053215958178043365, 0.053216684609651566, 0.05321548879146576, 0.05321813002228737, 0.053217582404613495, 0.05321977287530899, 0.05321722850203514, 0.05322014167904854, 0.05321746692061424, 0.053216490894556046, 0.05321750417351723, 0.05321703106164932, 0.05321658402681351, 0.0532168373465538, 9603.8232421875, 1910.0201416015625, 1160.2630615234375, 881.1724853515625, 524.4216918945312, 427.24700927734375, 390.8516845703125, 159.09063720703125, 157.7429656982422, 54.13518524169922, 109.61727142333984, 0.06098748743534088, 0.06098482012748718, 0.06098519638180733, 0.06098407134413719, 0.06098600849509239, 0.06098353490233421, 0.06098267808556557, 0.06098273769021034, 0.06098223105072975, 0.06098378077149391, 0.06098238751292229, 0.060982413589954376, 0.06098208948969841, 0.06098264083266258, 0.060982078313827515, 0.06098133325576782, 0.06098170951008797, 0.06098134070634842, 0.06098121404647827, 0.060983460396528244, 0.06098302826285362, 0.06098305061459541, 0.06098296493291855, 0.06098547577857971, 0.06098556146025658, 0.06098325550556183, 0.06098334863781929, 0.06098387762904167, 0.06098337471485138, 0.06098397448658943, 0.06098446249961853, 0.060983143746852875, 5473.95166015625, 1408.7752685546875, 1119.3411865234375, 893.30078125, 846.1812744140625, 339.3258972167969, 228.28465270996094, 164.43173217773438, 139.2483673095703, 122.85527038574219, 63.976314544677734, 58.00910186767578, 55.80043029785156, 35.492820739746094, 29.32303237915039, 288.59783935546875, 0.05727198347449303, 0.05727172642946243, 0.05726924538612366, 0.05727016180753708, 0.05726740509271622, 0.05726674199104309, 0.05726782977581024, 0.05726684629917145, 0.05726689100265503, 0.057266730815172195, 0.057266782969236374, 0.05726660043001175, 0.05726741626858711, 0.05726679414510727, 0.057267285883426666, 0.05726815015077591, 0.05726831033825874, 0.05727096274495125, 0.05727088451385498, 0.057267848402261734, 0.057267721742391586, 0.05726927891373634, 0.0572684220969677, 0.057268545031547546, 0.05726824700832367, 0.05726835876703262, 2213.517822265625, 1920.2698974609375, 1487.3443603515625, 653.9968872070312, 441.91265869140625, 378.0765380859375, 339.6285400390625, 314.16632080078125, 311.9725646972656, 285.2113037109375, 263.93438720703125, 240.39456176757812, 226.1745147705078, 221.91885375976562, 144.91360473632812, 111.5347900390625, 91.27029418945312, 53.887813568115234, 34.02945327758789, 29.445058822631836, 24.663440704345703, 135.1302947998047, 0.05914562568068504, 0.05914325267076492, 0.05914353206753731, 0.059143051505088806, 0.059143390506505966, 0.059143055230379105, 0.05914303660392761, 0.05914365127682686, 0.05914763733744621, 0.05914437770843506, 0.05914534255862236, 0.05914480611681938, 0.05914454534649849, 0.05914611741900444, 0.05914505571126938, 0.059144776314496994, 0.059145666658878326, 4579.6884765625, 2073.99560546875, 470.0798645019531, 309.15948486328125, 258.1583557128906, 109.1071548461914, 68.00636291503906, 56.28117752075195, 0.053644053637981415, 0.0536436028778553, 0.053640685975551605, 0.05364001914858818, 0.05363877862691879, 0.05363922566175461, 0.053639162331819534, 0.05363961681723595, 0.0536382757127285, 0.053638607263565063, 0.05363859236240387, 0.05363888293504715, 0.053638167679309845, 0.05363813415169716, 0.053638849407434464, 0.05363941565155983, 0.053638409823179245, 0.053637824952602386, 0.05363776162266731, 0.05363776907324791, 0.05363783985376358, 0.053637754172086716, 0.053638216108083725, 0.05364040657877922, 0.05363956093788147, 0.053641755133867264, 0.05363820865750313, 0.05363887920975685, 0.05363937467336655, 0.053641702979803085, 0.053639646619558334, 0.053639259189367294, 0.053638845682144165, 0.05363914743065834, 0.053638771176338196, 0.05363878607749939], \"Total\": [22950.0, 21484.0, 45659.0, 17047.0, 11155.0, 19359.0, 15552.0, 9604.0, 34173.0, 14366.0, 25109.0, 10711.0, 12321.0, 12025.0, 10613.0, 12166.0, 12906.0, 7577.0, 9751.0, 8875.0, 9407.0, 10113.0, 6411.0, 6058.0, 9231.0, 5475.0, 10577.0, 5652.0, 7857.0, 9922.0, 17744.861328125, 13395.0009765625, 10922.2001953125, 10422.994140625, 10195.5029296875, 7956.37353515625, 6364.34228515625, 5583.78369140625, 4978.21826171875, 4400.5400390625, 4374.1826171875, 4037.62451171875, 3838.718994140625, 3483.330810546875, 3482.308349609375, 3285.58984375, 3060.77587890625, 2909.8251953125, 2783.6171875, 2650.07373046875, 2391.0810546875, 2366.46875, 2346.444580078125, 2189.98681640625, 2169.6328125, 2156.636474609375, 2104.265869140625, 2441.541259765625, 1920.900634765625, 1825.8182373046875, 7447.2529296875, 6547.83740234375, 4497.21337890625, 4032.19482421875, 11311.3896484375, 8540.6162109375, 17112.591796875, 25109.810546875, 6857.99951171875, 45659.13671875, 14048.353515625, 7857.7255859375, 10522.75390625, 25629.35546875, 15895.61328125, 34067.89453125, 28672.82421875, 11165.791015625, 29040.10546875, 16604.17578125, 10332.6640625, 9688.654296875, 12906.361328125, 34173.58203125, 7907.939453125, 7612.70849609375, 5951.77099609375, 5682.97900390625, 4145.904296875, 3268.8369140625, 3017.45166015625, 2774.408935546875, 2593.116943359375, 2450.337646484375, 2340.919677734375, 2210.17431640625, 1901.958984375, 1884.3919677734375, 1845.5638427734375, 1799.235107421875, 1528.132568359375, 1512.5020751953125, 1446.3134765625, 1401.1326904296875, 1358.32958984375, 1338.77783203125, 1206.9356689453125, 1204.6666259765625, 1189.251953125, 1175.9337158203125, 1165.2623291015625, 4346.00927734375, 1144.5242919921875, 4131.59375, 3098.636962890625, 10888.986328125, 2696.683837890625, 2952.47119140625, 4934.8046875, 5247.3388671875, 4804.1513671875, 15993.408203125, 13551.662109375, 8819.1376953125, 3357.435791015625, 29040.10546875, 7577.33984375, 3979.6943359375, 5173.6689453125, 11931.716796875, 28672.82421875, 16604.17578125, 10980.841796875, 34067.89453125, 6611.53271484375, 5798.4375, 5174.2041015625, 11165.791015625, 9688.654296875, 15895.61328125, 10577.150390625, 7961.22412109375, 25629.35546875, 19359.75390625, 9256.265625, 8854.7236328125, 5108.275390625, 4667.7734375, 4419.77783203125, 2923.291015625, 2255.211181640625, 1913.692138671875, 1892.0157470703125, 1764.3756103515625, 1411.4576416015625, 1017.7628784179688, 993.8230590820312, 854.2474975585938, 721.9893188476562, 635.8154907226562, 501.0686950683594, 488.20977783203125, 401.9859924316406, 368.9864807128906, 342.91693115234375, 278.5673828125, 269.8792724609375, 257.35247802734375, 171.8476104736328, 105.03175354003906, 91.38935089111328, 83.15091705322266, 76.77127838134766, 9922.48828125, 9219.5078125, 564.4295043945312, 4259.533203125, 3611.4150390625, 2673.595703125, 1672.4256591796875, 2789.32568359375, 5350.89208984375, 1465.08984375, 4456.263671875, 45659.13671875, 2269.769287109375, 25629.35546875, 6611.53271484375, 15993.408203125, 3832.58984375, 7961.22412109375, 34067.89453125, 3725.611572265625, 5829.0908203125, 12321.23828125, 12025.0927734375, 10113.5107421875, 6359.97705078125, 4801.53515625, 4601.95751953125, 3325.767578125, 2918.53955078125, 2045.032470703125, 1861.5677490234375, 1705.0255126953125, 1703.7174072265625, 1614.479736328125, 1485.237548828125, 1252.4036865234375, 805.025390625, 759.8507690429688, 544.4575805664062, 509.2888488769531, 506.92034912109375, 499.9208984375, 447.78570556640625, 428.49102783203125, 415.0562744140625, 359.0042419433594, 279.36810302734375, 243.63800048828125, 216.57955932617188, 213.44061279296875, 201.7215118408203, 1706.7081298828125, 9884.904296875, 3084.768798828125, 1643.9820556640625, 2573.595458984375, 11931.716796875, 25109.810546875, 3586.836669921875, 2748.85546875, 5448.30859375, 3661.92041015625, 4447.048828125, 3049.948974609375, 15552.97265625, 9751.8623046875, 6833.26904296875, 4699.46044921875, 2897.92138671875, 1469.77197265625, 1413.1348876953125, 1302.5467529296875, 2436.4462890625, 580.5458984375, 569.890380859375, 455.84375, 412.0252990722656, 341.7066955566406, 327.4618835449219, 317.5928039550781, 314.0145263671875, 308.82232666015625, 267.2232971191406, 198.2894744873047, 189.11309814453125, 179.8562774658203, 173.7430877685547, 155.92604064941406, 155.00987243652344, 138.8280029296875, 138.72145080566406, 137.95291137695312, 135.7574005126953, 115.40171813964844, 1001.9214477539062, 7286.71826171875, 3738.909912109375, 1146.0548095703125, 3345.256103515625, 1524.2279052734375, 1263.5302734375, 3098.52099609375, 12906.361328125, 628.7618408203125, 3866.092041015625, 1624.6365966796875, 1281.969482421875, 2052.26416015625, 3106.260986328125, 3650.3447265625, 10332.6640625, 4456.11865234375, 2048.8955078125, 8819.1376953125, 1541.7550048828125, 2120.021728515625, 2594.534423828125, 10980.841796875, 10613.2646484375, 6199.8701171875, 3128.726318359375, 3092.944580078125, 1982.56298828125, 1937.0640869140625, 1658.6737060546875, 1619.5146484375, 1606.8819580078125, 1515.8470458984375, 1393.6910400390625, 1336.8543701171875, 1331.9678955078125, 1008.05712890625, 895.7703247070312, 886.8512573242188, 763.5048828125, 688.3594970703125, 657.5625610351562, 654.13525390625, 565.341064453125, 495.2946472167969, 476.06866455078125, 458.3395690917969, 442.1750183105469, 441.31951904296875, 438.85186767578125, 429.59844970703125, 392.86517333984375, 365.89752197265625, 5528.8896484375, 3087.06591796875, 4294.19921875, 2182.82177734375, 1796.5323486328125, 2855.845458984375, 1267.8704833984375, 1281.0440673828125, 1396.1124267578125, 9884.904296875, 3910.91650390625, 1541.7550048828125, 4019.720947265625, 3661.92041015625, 3435.685302734375, 14366.3369140625, 9407.5048828125, 9231.693359375, 3123.85791015625, 2890.246337890625, 1475.5809326171875, 1457.8909912109375, 548.5955200195312, 274.4462890625, 206.1917724609375, 181.99798583984375, 58.981109619140625, 44.415523529052734, 652.1448364257812, 21484.134765625, 2670.507568359375, 4447.048828125, 602.3076171875, 12166.8583984375, 10577.150390625, 1268.688720703125, 3106.260986328125, 2129.38232421875, 1749.7816162109375, 538.3676147460938, 7961.22412109375, 2090.95263671875, 1781.3363037109375, 2244.607666015625, 3146.899169921875, 14048.353515625, 2269.769287109375, 4280.80908203125, 3091.014892578125, 2705.2890625, 2405.768310546875, 2050.249755859375, 2004.7254638671875, 1959.5743408203125, 1939.234130859375, 1613.9984130859375, 1257.9853515625, 1207.92724609375, 1172.1287841796875, 1084.9669189453125, 969.1712036132812, 898.1903686523438, 883.3816528320312, 872.752685546875, 838.8045654296875, 832.8229370117188, 775.3474731445312, 738.9353637695312, 656.19189453125, 517.3348388671875, 509.40203857421875, 500.2112121582031, 453.39129638671875, 447.7103271484375, 443.8984680175781, 439.8786926269531, 439.4886474609375, 2110.42333984375, 957.3433837890625, 816.050537109375, 1947.1712646484375, 2514.078857421875, 2033.5003662109375, 1209.6387939453125, 1672.7015380859375, 986.3677368164062, 3394.091552734375, 17047.794921875, 10711.634765625, 3577.094970703125, 2218.796875, 1424.245849609375, 1312.6083984375, 1250.1402587890625, 1038.71728515625, 1034.0269775390625, 1007.4375, 993.2346801757812, 626.56201171875, 608.9923095703125, 556.1466674804688, 474.5525817871094, 304.8480224609375, 296.466064453125, 277.2732849121094, 271.8255615234375, 262.8475036621094, 258.2878112792969, 250.64146423339844, 240.50167846679688, 237.82467651367188, 205.97093200683594, 176.31568908691406, 175.65708923339844, 175.10784912109375, 171.2980194091797, 160.5720672607422, 1262.61279296875, 8875.7646484375, 347.49993896484375, 738.5961303710938, 5829.0908203125, 2269.769287109375, 901.2805786132812, 2340.000244140625, 2842.06298828125, 1120.28759765625, 3543.206787109375, 10888.986328125, 2354.457763671875, 3979.6943359375, 2888.985107421875, 14048.353515625, 22950.455078125, 5858.7236328125, 3761.609619140625, 2119.33154296875, 1273.7620849609375, 1177.2294921875, 1123.5843505859375, 1114.6751708984375, 794.1386108398438, 587.8994750976562, 301.00616455078125, 288.39849853515625, 194.06390380859375, 160.4259033203125, 135.80104064941406, 103.84122467041016, 92.71704864501953, 39.517478942871094, 37.245059967041016, 21.94915771484375, 849.1442260742188, 464.030517578125, 3115.789794921875, 1383.270751953125, 1474.5758056640625, 421.9759521484375, 5829.0908203125, 2090.95263671875, 3790.736083984375, 781.5789794921875, 5984.17431640625, 8540.6162109375, 1730.98486328125, 5081.255859375, 2724.476318359375, 1884.7872314453125, 1723.389892578125, 1120.7979736328125, 881.3976440429688, 698.708984375, 677.6588745117188, 588.9210205078125, 480.6797180175781, 454.0146179199219, 395.5175476074219, 285.0732727050781, 237.0102081298828, 184.88330078125, 128.7625274658203, 127.0816650390625, 122.35010528564453, 108.26590728759766, 85.10677337646484, 64.4911117553711, 52.92897415161133, 49.04841232299805, 2129.38232421875, 612.69677734375, 588.3474731445312, 135.03717041015625, 939.520751953125, 1025.281494140625, 3611.4150390625, 3910.91650390625, 2298.963134765625, 7286.71826171875, 1737.6939697265625, 2748.85546875, 3098.52099609375, 5829.0908203125, 5448.30859375, 12166.8583984375, 6411.919921875, 5232.83056640625, 1657.140869140625, 1468.5826416015625, 1433.233642578125, 1127.6051025390625, 854.7763671875, 428.0689392089844, 380.90679931640625, 294.7452087402344, 287.968994140625, 196.80487060546875, 187.53228759765625, 182.61746215820312, 176.08929443359375, 62.59413146972656, 62.57556915283203, 25.682199478149414, 18.44279670715332, 8875.7646484375, 683.2607421875, 1.1177603006362915, 1.1177750825881958, 1.1177692413330078, 1.1177680492401123, 1.1177626848220825, 1.1177796125411987, 1.1177611351013184, 1.1178278923034668, 1.117769479751587, 2789.32568359375, 1.1179033517837524, 1.1178102493286133, 1429.880615234375, 1.117844820022583, 1.1178419589996338, 1.1178830862045288, 1.117874264717102, 1.1178600788116455, 5652.87646484375, 4675.7314453125, 3218.2060546875, 1221.530029296875, 911.9887084960938, 902.6553344726562, 805.509521484375, 591.7171020507812, 554.9650268554688, 419.486328125, 403.43341064453125, 399.9147033691406, 260.1042785644531, 249.8271026611328, 216.52163696289062, 156.14453125, 127.18816375732422, 101.01847839355469, 94.73979949951172, 47.42732238769531, 47.02231216430664, 30.59587860107422, 15.123525619506836, 2296.709228515625, 1.1177711486816406, 1.1178148984909058, 1.1178154945373535, 1.1177829504013062, 1.1177678108215332, 1.1177823543548584, 1.11786687374115, 1.117827296257019, 1.1178830862045288, 1.1179033517837524, 5082.0234375, 4124.88134765625, 2348.4111328125, 1848.43896484375, 730.34814453125, 543.8926391601562, 512.0305786132812, 206.55227661132812, 196.12051391601562, 184.51344299316406, 146.86627197265625, 136.3525848388672, 115.47030639648438, 113.5811996459961, 111.4567642211914, 84.82879638671875, 54.3697624206543, 48.82797622680664, 2842.06298828125, 577.9961547851562, 4294.19921875, 1813.4736328125, 1391.78515625, 1894.1820068359375, 1.1178107261657715, 1.1177741289138794, 1.117774486541748, 1.117769479751587, 1.1177685260772705, 1.1178295612335205, 1.1178278923034668, 1.1178600788116455, 1.117844820022583, 1.1178830862045288, 1.1179033517837524, 6058.23095703125, 890.8124389648438, 808.0508422851562, 683.8529052734375, 642.0535278320312, 511.8787841796875, 510.88677978515625, 257.0416564941406, 222.08279418945312, 221.23440551757812, 157.98663330078125, 137.85658264160156, 129.23419189453125, 117.03361511230469, 66.37215423583984, 58.34954833984375, 48.7114143371582, 35.94021224975586, 12.645265579223633, 2.6735076904296875, 2.6735076904296875, 2.6735076904296875, 2.6735076904296875, 1446.697509765625, 2.5404720306396484, 474.91705322265625, 5448.30859375, 849.1442260742188, 7577.33984375, 490.605224609375, 3049.948974609375, 3661.92041015625, 1730.98486328125, 522.90625, 12166.8583984375, 9219.5078125, 3146.899169921875, 1417.7384033203125, 11155.3525390625, 1300.5745849609375, 1174.2252197265625, 572.5379028320312, 547.1021728515625, 445.003173828125, 148.44683837890625, 135.076171875, 97.6455307006836, 365.2343444824219, 3935.716552734375, 7857.7255859375, 2385.1162109375, 1.1177772283554077, 1.11777925491333, 1.117795467376709, 1.1177828311920166, 1.1177656650543213, 1.1177886724472046, 1.1177763938903809, 1.1178017854690552, 1.1177897453308105, 1.1177611351013184, 1.1177823543548584, 1.117762804031372, 1.1177623271942139, 1.117781162261963, 1.1177966594696045, 1.117771863937378, 1.1178278923034668, 1.117817759513855, 1.117874264717102, 1.1178154945373535, 1.1179033517837524, 1.1178315877914429, 1.1177997589111328, 1.1178600788116455, 1.1178419589996338, 1.1178081035614014, 1.11786687374115, 9604.880859375, 1911.0767822265625, 1161.3197021484375, 882.229248046875, 525.4784545898438, 428.3038024902344, 391.9084777832031, 160.1474151611328, 158.79974365234375, 353.85260009765625, 928.16455078125, 1.1178295612335205, 1.117782711982727, 1.1177929639816284, 1.1177787780761719, 1.1178148984909058, 1.1177829504013062, 1.1177730560302734, 1.1177749633789062, 1.1177690029144287, 1.1177983283996582, 1.1177732944488525, 1.1177750825881958, 1.117769718170166, 1.1177799701690674, 1.1177699565887451, 1.1177608966827393, 1.1177693605422974, 1.1177632808685303, 1.1177616119384766, 1.1178032159805298, 1.117795467376709, 1.117798089981079, 1.1178007125854492, 1.117874264717102, 1.1178830862045288, 1.1178109645843506, 1.1178154945373535, 1.1178385019302368, 1.1178165674209595, 1.1178600788116455, 1.1179033517837524, 1.1178138256072998, 5475.01220703125, 1409.835693359375, 1120.401611328125, 894.3612670898438, 847.2417602539062, 340.38641357421875, 229.3451385498047, 165.49221801757812, 140.30885314941406, 123.91576385498047, 65.03680419921875, 59.0695915222168, 56.86091995239258, 36.55331039428711, 30.383525848388672, 1360.5557861328125, 1.117795467376709, 1.1178148984909058, 1.1177748441696167, 1.1178107261657715, 1.1177737712860107, 1.1177610158920288, 1.1177829504013062, 1.1177641153335571, 1.1177659034729004, 1.1177626848220825, 1.1177705526351929, 1.1177672147750854, 1.1177845001220703, 1.1177730560302734, 1.117782711982727, 1.1178004741668701, 1.117808222770691, 1.1178830862045288, 1.1179033517837524, 1.117801547050476, 1.1177997589111328, 1.11786687374115, 1.1178315877914429, 1.1178600788116455, 1.117844820022583, 1.117874264717102, 2214.576416015625, 1921.3284912109375, 1488.4029541015625, 655.0555419921875, 442.9712829589844, 379.1351623535156, 340.6871643066406, 315.2249450683594, 313.03118896484375, 286.2699279785156, 264.9930114746094, 241.4531707763672, 227.23312377929688, 222.9774627685547, 145.9722137451172, 112.5934066772461, 92.32891082763672, 54.94642639160156, 35.08806610107422, 30.50367546081543, 25.722057342529297, 577.9354248046875, 1.1177748441696167, 1.1177657842636108, 1.1177737712860107, 1.117765188217163, 1.1177716255187988, 1.1177657842636108, 1.1177678108215332, 1.1177817583084106, 1.11786687374115, 1.1178007125854492, 1.117827296257019, 1.1178138256072998, 1.1178154945373535, 1.117874264717102, 1.117844820022583, 1.1178315877914429, 1.1179033517837524, 4580.75244140625, 2075.059814453125, 471.14398193359375, 310.2236022949219, 259.22247314453125, 110.17127227783203, 69.07048034667969, 57.345298767089844, 1.1177729368209839, 1.117789626121521, 1.1177723407745361, 1.117763876914978, 1.1177618503570557, 1.117777943611145, 1.1177767515182495, 1.1177880764007568, 1.1177608966827393, 1.1177726984024048, 1.1177726984024048, 1.11777925491333, 1.1177647113800049, 1.1177639961242676, 1.1177796125411987, 1.1177915334701538, 1.1177722215652466, 1.117760419845581, 1.1177607774734497, 1.117761254310608, 1.117762804031372, 1.1177617311477661, 1.1177725791931152, 1.117827296257019, 1.1178109645843506, 1.117874264717102, 1.1177743673324585, 1.1177982091903687, 1.1178154945373535, 1.1179033517837524, 1.1178278923034668, 1.1178189516067505, 1.1177994012832642, 1.1178278923034668, 1.1178058385849, 1.1178830862045288], \"Category\": [\"Default\", \"Default\", \"Default\", \"Default\", \"Default\", \"Default\", \"Default\", \"Default\", \"Default\", \"Default\", \"Default\", \"Default\", \"Default\", \"Default\", \"Default\", \"Default\", \"Default\", \"Default\", \"Default\", \"Default\", \"Default\", \"Default\", \"Default\", \"Default\", \"Default\", \"Default\", \"Default\", \"Default\", \"Default\", \"Default\", \"Topic1\", \"Topic1\", \"Topic1\", \"Topic1\", \"Topic1\", \"Topic1\", \"Topic1\", \"Topic1\", \"Topic1\", \"Topic1\", \"Topic1\", \"Topic1\", \"Topic1\", \"Topic1\", \"Topic1\", \"Topic1\", \"Topic1\", \"Topic1\", \"Topic1\", \"Topic1\", \"Topic1\", \"Topic1\", \"Topic1\", \"Topic1\", \"Topic1\", \"Topic1\", \"Topic1\", \"Topic1\", \"Topic1\", \"Topic1\", \"Topic1\", \"Topic1\", \"Topic1\", \"Topic1\", \"Topic1\", \"Topic1\", \"Topic1\", \"Topic1\", \"Topic1\", \"Topic1\", \"Topic1\", \"Topic1\", \"Topic1\", \"Topic1\", \"Topic1\", \"Topic1\", \"Topic1\", \"Topic1\", \"Topic1\", \"Topic1\", \"Topic1\", \"Topic1\", \"Topic1\", \"Topic2\", \"Topic2\", \"Topic2\", \"Topic2\", \"Topic2\", \"Topic2\", \"Topic2\", \"Topic2\", \"Topic2\", \"Topic2\", \"Topic2\", \"Topic2\", \"Topic2\", \"Topic2\", \"Topic2\", \"Topic2\", \"Topic2\", \"Topic2\", \"Topic2\", \"Topic2\", \"Topic2\", \"Topic2\", \"Topic2\", \"Topic2\", \"Topic2\", \"Topic2\", \"Topic2\", \"Topic2\", \"Topic2\", \"Topic2\", \"Topic2\", \"Topic2\", \"Topic2\", \"Topic2\", \"Topic2\", \"Topic2\", \"Topic2\", \"Topic2\", \"Topic2\", \"Topic2\", \"Topic2\", \"Topic2\", \"Topic2\", \"Topic2\", \"Topic2\", \"Topic2\", \"Topic2\", \"Topic2\", \"Topic2\", \"Topic2\", \"Topic2\", \"Topic2\", \"Topic2\", \"Topic2\", \"Topic2\", \"Topic2\", \"Topic2\", \"Topic2\", \"Topic2\", \"Topic2\", \"Topic3\", \"Topic3\", \"Topic3\", \"Topic3\", \"Topic3\", \"Topic3\", \"Topic3\", \"Topic3\", \"Topic3\", \"Topic3\", \"Topic3\", \"Topic3\", \"Topic3\", \"Topic3\", \"Topic3\", \"Topic3\", \"Topic3\", \"Topic3\", \"Topic3\", \"Topic3\", \"Topic3\", \"Topic3\", \"Topic3\", \"Topic3\", \"Topic3\", \"Topic3\", \"Topic3\", \"Topic3\", \"Topic3\", \"Topic3\", \"Topic3\", \"Topic3\", \"Topic3\", \"Topic3\", \"Topic3\", \"Topic3\", \"Topic3\", \"Topic3\", \"Topic3\", \"Topic3\", \"Topic3\", \"Topic3\", \"Topic3\", \"Topic3\", \"Topic3\", \"Topic3\", \"Topic3\", \"Topic3\", \"Topic3\", \"Topic3\", \"Topic3\", \"Topic4\", \"Topic4\", \"Topic4\", \"Topic4\", \"Topic4\", \"Topic4\", \"Topic4\", \"Topic4\", \"Topic4\", \"Topic4\", \"Topic4\", \"Topic4\", \"Topic4\", \"Topic4\", \"Topic4\", \"Topic4\", \"Topic4\", \"Topic4\", \"Topic4\", \"Topic4\", \"Topic4\", \"Topic4\", \"Topic4\", \"Topic4\", \"Topic4\", \"Topic4\", \"Topic4\", \"Topic4\", \"Topic4\", \"Topic4\", \"Topic4\", \"Topic4\", \"Topic4\", \"Topic4\", \"Topic4\", \"Topic4\", \"Topic4\", \"Topic4\", \"Topic4\", \"Topic4\", \"Topic4\", \"Topic4\", \"Topic4\", \"Topic5\", \"Topic5\", \"Topic5\", \"Topic5\", \"Topic5\", \"Topic5\", \"Topic5\", \"Topic5\", \"Topic5\", \"Topic5\", \"Topic5\", \"Topic5\", \"Topic5\", \"Topic5\", \"Topic5\", \"Topic5\", \"Topic5\", \"Topic5\", \"Topic5\", \"Topic5\", \"Topic5\", \"Topic5\", \"Topic5\", \"Topic5\", \"Topic5\", \"Topic5\", \"Topic5\", \"Topic5\", \"Topic5\", \"Topic5\", \"Topic5\", \"Topic5\", \"Topic5\", \"Topic5\", \"Topic5\", \"Topic5\", \"Topic5\", \"Topic5\", \"Topic5\", \"Topic5\", \"Topic5\", \"Topic5\", \"Topic5\", \"Topic5\", \"Topic5\", \"Topic5\", \"Topic5\", \"Topic5\", \"Topic5\", \"Topic5\", \"Topic5\", \"Topic5\", \"Topic5\", \"Topic5\", \"Topic6\", \"Topic6\", \"Topic6\", \"Topic6\", \"Topic6\", \"Topic6\", \"Topic6\", \"Topic6\", \"Topic6\", \"Topic6\", \"Topic6\", \"Topic6\", \"Topic6\", \"Topic6\", \"Topic6\", \"Topic6\", \"Topic6\", \"Topic6\", \"Topic6\", \"Topic6\", \"Topic6\", \"Topic6\", \"Topic6\", \"Topic6\", \"Topic6\", \"Topic6\", \"Topic6\", \"Topic6\", \"Topic6\", \"Topic6\", \"Topic6\", \"Topic6\", \"Topic6\", \"Topic6\", \"Topic6\", \"Topic6\", \"Topic6\", \"Topic6\", \"Topic6\", \"Topic6\", \"Topic6\", \"Topic6\", \"Topic6\", \"Topic6\", \"Topic6\", \"Topic7\", \"Topic7\", \"Topic7\", \"Topic7\", \"Topic7\", \"Topic7\", \"Topic7\", \"Topic7\", \"Topic7\", \"Topic7\", \"Topic7\", \"Topic7\", \"Topic7\", \"Topic7\", \"Topic7\", \"Topic7\", \"Topic7\", \"Topic7\", \"Topic7\", \"Topic7\", \"Topic7\", \"Topic7\", \"Topic7\", \"Topic7\", \"Topic7\", \"Topic7\", \"Topic7\", \"Topic7\", \"Topic7\", \"Topic7\", \"Topic7\", \"Topic7\", \"Topic8\", \"Topic8\", \"Topic8\", \"Topic8\", \"Topic8\", \"Topic8\", \"Topic8\", \"Topic8\", \"Topic8\", \"Topic8\", \"Topic8\", \"Topic8\", \"Topic8\", \"Topic8\", \"Topic8\", \"Topic8\", \"Topic8\", \"Topic8\", \"Topic8\", \"Topic8\", \"Topic8\", \"Topic8\", \"Topic8\", \"Topic8\", \"Topic8\", \"Topic8\", \"Topic8\", \"Topic8\", \"Topic8\", \"Topic8\", \"Topic8\", \"Topic8\", \"Topic8\", \"Topic8\", \"Topic8\", \"Topic8\", \"Topic8\", \"Topic8\", \"Topic8\", \"Topic8\", \"Topic9\", \"Topic9\", \"Topic9\", \"Topic9\", \"Topic9\", \"Topic9\", \"Topic9\", \"Topic9\", \"Topic9\", \"Topic9\", \"Topic9\", \"Topic9\", \"Topic9\", \"Topic9\", \"Topic9\", \"Topic9\", \"Topic9\", \"Topic9\", \"Topic9\", \"Topic9\", \"Topic9\", \"Topic9\", \"Topic9\", \"Topic9\", \"Topic9\", \"Topic9\", \"Topic9\", \"Topic9\", \"Topic9\", \"Topic9\", \"Topic9\", \"Topic9\", \"Topic9\", \"Topic9\", \"Topic9\", \"Topic9\", \"Topic9\", \"Topic9\", \"Topic9\", \"Topic9\", \"Topic9\", \"Topic9\", \"Topic9\", \"Topic9\", \"Topic9\", \"Topic9\", \"Topic10\", \"Topic10\", \"Topic10\", \"Topic10\", \"Topic10\", \"Topic10\", \"Topic10\", \"Topic10\", \"Topic10\", \"Topic10\", \"Topic10\", \"Topic10\", \"Topic10\", \"Topic10\", \"Topic10\", \"Topic10\", \"Topic10\", \"Topic10\", \"Topic10\", \"Topic10\", \"Topic10\", \"Topic10\", \"Topic10\", \"Topic10\", \"Topic10\", \"Topic10\", \"Topic10\", \"Topic10\", \"Topic10\", \"Topic10\", \"Topic10\", \"Topic10\", \"Topic10\", \"Topic11\", \"Topic11\", \"Topic11\", \"Topic11\", \"Topic11\", \"Topic11\", \"Topic11\", \"Topic11\", \"Topic11\", \"Topic11\", \"Topic11\", \"Topic11\", \"Topic11\", \"Topic11\", \"Topic11\", \"Topic11\", \"Topic11\", \"Topic11\", \"Topic11\", \"Topic11\", \"Topic11\", \"Topic11\", \"Topic11\", \"Topic11\", \"Topic11\", \"Topic11\", \"Topic11\", \"Topic11\", \"Topic11\", \"Topic11\", \"Topic11\", \"Topic11\", \"Topic11\", \"Topic11\", \"Topic11\", \"Topic11\", \"Topic11\", \"Topic11\", \"Topic11\", \"Topic12\", \"Topic12\", \"Topic12\", \"Topic12\", \"Topic12\", \"Topic12\", \"Topic12\", \"Topic12\", \"Topic12\", \"Topic12\", \"Topic12\", \"Topic12\", \"Topic12\", \"Topic12\", \"Topic12\", \"Topic12\", \"Topic12\", \"Topic12\", \"Topic12\", \"Topic12\", \"Topic12\", \"Topic12\", \"Topic12\", \"Topic12\", \"Topic12\", \"Topic12\", \"Topic12\", \"Topic12\", \"Topic12\", \"Topic12\", \"Topic12\", \"Topic12\", \"Topic12\", \"Topic12\", \"Topic12\", \"Topic12\", \"Topic12\", \"Topic12\", \"Topic12\", \"Topic13\", \"Topic13\", \"Topic13\", \"Topic13\", \"Topic13\", \"Topic13\", \"Topic13\", \"Topic13\", \"Topic13\", \"Topic13\", \"Topic13\", \"Topic13\", \"Topic13\", \"Topic13\", \"Topic13\", \"Topic13\", \"Topic13\", \"Topic13\", \"Topic13\", \"Topic13\", \"Topic13\", \"Topic13\", \"Topic13\", \"Topic13\", \"Topic13\", \"Topic13\", \"Topic13\", \"Topic13\", \"Topic13\", \"Topic13\", \"Topic13\", \"Topic13\", \"Topic13\", \"Topic13\", \"Topic14\", \"Topic14\", \"Topic14\", \"Topic14\", \"Topic14\", \"Topic14\", \"Topic14\", \"Topic14\", \"Topic14\", \"Topic14\", \"Topic14\", \"Topic14\", \"Topic14\", \"Topic14\", \"Topic14\", \"Topic14\", \"Topic14\", \"Topic14\", \"Topic14\", \"Topic14\", \"Topic14\", \"Topic14\", \"Topic14\", \"Topic14\", \"Topic14\", \"Topic14\", \"Topic14\", \"Topic14\", \"Topic14\", \"Topic14\", \"Topic14\", \"Topic14\", \"Topic14\", \"Topic14\", \"Topic14\", \"Topic15\", \"Topic15\", \"Topic15\", \"Topic15\", \"Topic15\", \"Topic15\", \"Topic15\", \"Topic15\", \"Topic15\", \"Topic15\", \"Topic15\", \"Topic15\", \"Topic15\", \"Topic15\", \"Topic15\", \"Topic15\", \"Topic15\", \"Topic15\", \"Topic15\", \"Topic15\", \"Topic15\", \"Topic15\", \"Topic15\", \"Topic15\", \"Topic15\", \"Topic15\", \"Topic15\", \"Topic15\", \"Topic15\", \"Topic15\", \"Topic15\", \"Topic15\", \"Topic15\", \"Topic15\", \"Topic15\", \"Topic15\", \"Topic15\", \"Topic15\", \"Topic16\", \"Topic16\", \"Topic16\", \"Topic16\", \"Topic16\", \"Topic16\", \"Topic16\", \"Topic16\", \"Topic16\", \"Topic16\", \"Topic16\", \"Topic16\", \"Topic16\", \"Topic16\", \"Topic16\", \"Topic16\", \"Topic16\", \"Topic16\", \"Topic16\", \"Topic16\", \"Topic16\", \"Topic16\", \"Topic16\", \"Topic16\", \"Topic16\", \"Topic16\", \"Topic16\", \"Topic16\", \"Topic16\", \"Topic16\", \"Topic16\", \"Topic16\", \"Topic16\", \"Topic16\", \"Topic16\", \"Topic16\", \"Topic16\", \"Topic16\", \"Topic16\", \"Topic16\", \"Topic17\", \"Topic17\", \"Topic17\", \"Topic17\", \"Topic17\", \"Topic17\", \"Topic17\", \"Topic17\", \"Topic17\", \"Topic17\", \"Topic17\", \"Topic17\", \"Topic17\", \"Topic17\", \"Topic17\", \"Topic17\", \"Topic17\", \"Topic17\", \"Topic17\", \"Topic17\", \"Topic17\", \"Topic17\", \"Topic17\", \"Topic17\", \"Topic17\", \"Topic17\", \"Topic17\", \"Topic17\", \"Topic17\", \"Topic17\", \"Topic17\", \"Topic17\", \"Topic17\", \"Topic17\", \"Topic17\", \"Topic17\", \"Topic17\", \"Topic17\", \"Topic17\", \"Topic17\", \"Topic17\", \"Topic17\", \"Topic17\", \"Topic18\", \"Topic18\", \"Topic18\", \"Topic18\", \"Topic18\", \"Topic18\", \"Topic18\", \"Topic18\", \"Topic18\", \"Topic18\", \"Topic18\", \"Topic18\", \"Topic18\", \"Topic18\", \"Topic18\", \"Topic18\", \"Topic18\", \"Topic18\", \"Topic18\", \"Topic18\", \"Topic18\", \"Topic18\", \"Topic18\", \"Topic18\", \"Topic18\", \"Topic18\", \"Topic18\", \"Topic18\", \"Topic18\", \"Topic18\", \"Topic18\", \"Topic18\", \"Topic18\", \"Topic18\", \"Topic18\", \"Topic18\", \"Topic18\", \"Topic18\", \"Topic18\", \"Topic18\", \"Topic18\", \"Topic18\", \"Topic19\", \"Topic19\", \"Topic19\", \"Topic19\", \"Topic19\", \"Topic19\", \"Topic19\", \"Topic19\", \"Topic19\", \"Topic19\", \"Topic19\", \"Topic19\", \"Topic19\", \"Topic19\", \"Topic19\", \"Topic19\", \"Topic19\", \"Topic19\", \"Topic19\", \"Topic19\", \"Topic19\", \"Topic19\", \"Topic19\", \"Topic19\", \"Topic19\", \"Topic19\", \"Topic19\", \"Topic19\", \"Topic19\", \"Topic19\", \"Topic19\", \"Topic19\", \"Topic19\", \"Topic19\", \"Topic19\", \"Topic19\", \"Topic19\", \"Topic19\", \"Topic19\", \"Topic20\", \"Topic20\", \"Topic20\", \"Topic20\", \"Topic20\", \"Topic20\", \"Topic20\", \"Topic20\", \"Topic20\", \"Topic20\", \"Topic20\", \"Topic20\", \"Topic20\", \"Topic20\", \"Topic20\", \"Topic20\", \"Topic20\", \"Topic20\", \"Topic20\", \"Topic20\", \"Topic20\", \"Topic20\", \"Topic20\", \"Topic20\", \"Topic20\", \"Topic20\", \"Topic20\", \"Topic20\", \"Topic20\", \"Topic20\", \"Topic20\", \"Topic20\", \"Topic20\", \"Topic20\", \"Topic20\", \"Topic20\", \"Topic20\", \"Topic20\", \"Topic20\", \"Topic20\", \"Topic20\", \"Topic20\", \"Topic20\", \"Topic20\"], \"logprob\": [30.0, 29.0, 28.0, 27.0, 26.0, 25.0, 24.0, 23.0, 22.0, 21.0, 20.0, 19.0, 18.0, 17.0, 16.0, 15.0, 14.0, 13.0, 12.0, 11.0, 10.0, 9.0, 8.0, 7.0, 6.0, 5.0, 4.0, 3.0, 2.0, 1.0, -3.550600051879883, -3.8317999839782715, -4.035900115966797, -4.082699775695801, -4.104800224304199, -4.352799892425537, -4.576099872589111, -4.706999778747559, -4.821800231933594, -4.945199966430664, -4.951200008392334, -5.031300067901611, -5.0817999839782715, -5.178999900817871, -5.179299831390381, -5.237400054931641, -5.308300018310547, -5.35890007019043, -5.403299808502197, -5.452499866485596, -5.555300235748291, -5.565700054168701, -5.57420015335083, -5.643199920654297, -5.652599811553955, -5.658599853515625, -5.683199882507324, -5.5345001220703125, -5.774400234222412, -5.825200080871582, -4.421000003814697, -4.553100109100342, -4.926000118255615, -5.042399883270264, -4.046999931335449, -4.323299884796143, -3.7126998901367188, -3.4296998977661133, -4.600399971008301, -2.91759991645813, -3.9737000465393066, -4.491399765014648, -4.301000118255615, -3.5806000232696533, -3.9937000274658203, -3.569700002670288, -3.7481000423431396, -4.542200088500977, -4.140100002288818, -4.429100036621094, -4.655900001525879, -4.70959997177124, -4.649400234222412, -2.7723000049591064, -4.236000061035156, -4.274099826812744, -4.520199775695801, -4.566400051116943, -4.881899833679199, -5.11959981918335, -5.199699878692627, -5.283699989318848, -5.35129976272583, -5.407899856567383, -5.45359992980957, -5.511099815368652, -5.661399841308594, -5.6707000732421875, -5.691500186920166, -5.7170000076293945, -5.88040018081665, -5.890699863433838, -5.935500144958496, -5.967199802398682, -5.998300075531006, -6.012800216674805, -6.116499900817871, -6.1184000968933105, -6.13129997253418, -6.142600059509277, -6.151700019836426, -4.835400104522705, -6.1697001457214355, -4.894199848175049, -5.191100120544434, -4.001100063323975, -5.34119987487793, -5.257400035858154, -4.77209997177124, -4.7210001945495605, -4.811500072479248, -3.717600107192993, -3.9619998931884766, -4.350900173187256, -5.194799900054932, -3.348900079727173, -4.5071001052856445, -5.081500053405762, -4.879199981689453, -4.250500202178955, -3.6570000648498535, -4.080999851226807, -4.397500038146973, -3.6874001026153564, -4.763299942016602, -4.872499942779541, -5.032199859619141, -4.781599998474121, -4.888000011444092, -4.799200057983398, -4.894599914550781, -4.964700222015381, -4.821700096130371, -2.0885000228881836, -2.8264999389648438, -2.870800018310547, -3.4210000038146973, -3.511199951171875, -3.5657999515533447, -3.979300022125244, -4.238900184631348, -4.403200149536133, -4.414599895477295, -4.484499931335449, -4.707799911499023, -5.035099983215332, -5.058899879455566, -5.2104997634887695, -5.378900051116943, -5.506199836730957, -5.744800090789795, -5.770899772644043, -5.965700149536133, -6.051599979400635, -6.125, -6.333600044250488, -6.3653998374938965, -6.413099765777588, -6.818999767303467, -7.315299987792969, -7.455999851226807, -7.551599979400635, -7.632500171661377, -2.771699905395508, -2.941999912261963, -5.758900165557861, -3.9100000858306885, -4.116799831390381, -4.397299766540527, -4.819900035858154, -4.400199890136719, -3.9260001182556152, -5.019100189208984, -4.185800075531006, -2.546799898147583, -4.762700080871582, -3.663800001144409, -4.3871002197265625, -4.053299903869629, -4.670599937438965, -4.419400215148926, -4.0671000480651855, -4.7683000564575195, -4.810800075531006, -2.282399892807007, -2.3066999912261963, -2.4798998832702637, -2.9437999725341797, -3.224900007247925, -3.267400026321411, -3.5922000408172607, -3.722899913787842, -4.078700065612793, -4.172800064086914, -4.260700225830078, -4.26140022277832, -4.315299987792969, -4.398799896240234, -4.569399833679199, -5.0117998123168945, -5.069699764251709, -5.403600215911865, -5.4704999923706055, -5.475100040435791, -5.489099979400635, -5.5995001792907715, -5.643599987030029, -5.67549991607666, -5.821000099182129, -6.072700023651123, -6.210100173950195, -6.328400135040283, -6.3429999351501465, -6.399799823760986, -4.3368000984191895, -2.7119998931884766, -3.97760009765625, -4.606599807739258, -4.450699806213379, -3.373500108718872, -3.1675000190734863, -4.514100074768066, -5.101900100708008, -5.105199813842773, -5.174499988555908, -5.3171000480651855, -5.350800037384033, -1.901900053024292, -2.3687000274658203, -2.724400043487549, -3.098900079727173, -3.5824999809265137, -4.26170015335083, -4.301000118255615, -4.382599830627441, -3.757200002670288, -5.191699981689453, -5.210299968719482, -5.434000015258789, -5.535299777984619, -5.7230000495910645, -5.765699863433838, -5.79640007019043, -5.807799816131592, -5.82450008392334, -5.969699859619141, -6.269499778747559, -6.3171000480651855, -6.367599964141846, -6.402400016784668, -6.511300086975098, -6.517199993133545, -6.628300189971924, -6.6290998458862305, -6.634699821472168, -6.6508002281188965, -6.814700126647949, -4.703499794006348, -2.7820000648498535, -3.4790000915527344, -4.712299823760986, -3.761699914932251, -4.487599849700928, -4.668900012969971, -3.9001998901367188, -2.7014000415802, -5.296000003814697, -3.9992001056671143, -4.660999774932861, -4.844399929046631, -4.528800010681152, -4.261899948120117, -4.294899940490723, -3.72379994392395, -4.325399875640869, -4.7245001792907715, -4.0756001472473145, -4.991099834442139, -5.0243000984191895, -5.009200096130371, -4.986199855804443, -2.2434000968933105, -2.781100034713745, -3.465100049972534, -3.476599931716919, -3.921600103378296, -3.9447999000549316, -4.099999904632568, -4.123899936676025, -4.131800174713135, -4.190100193023682, -4.274199962615967, -4.315899848937988, -4.3196001052856445, -4.598400115966797, -4.716700077056885, -4.7266998291015625, -4.8765997886657715, -4.980400085449219, -5.026199817657471, -5.031499862670898, -5.177599906921387, -5.310200214385986, -5.349800109863281, -5.387899875640869, -5.423900127410889, -5.42579984664917, -5.431399822235107, -5.4527997970581055, -5.542399883270264, -5.613699913024902, -2.952699899673462, -3.5237998962402344, -3.40939998626709, -4.019199848175049, -4.196100234985352, -3.8057000637054443, -4.59660005569458, -4.666399955749512, -4.6880998611450195, -3.981300115585327, -4.424600124359131, -4.788700103759766, -4.546199798583984, -4.685699939727783, -4.770100116729736, -1.9139000177383423, -2.3373000621795654, -2.3561999797821045, -3.440000057220459, -3.5178000926971436, -4.190400123596191, -4.202499866485596, -5.181099891662598, -5.8755998611450195, -6.162899971008301, -6.288400173187256, -7.427499771118164, -7.717100143432617, -5.060299873352051, -1.5780999660491943, -3.6784000396728516, -3.2297000885009766, -5.2941999435424805, -2.344599962234497, -2.7116000652313232, -4.975800037384033, -4.085999965667725, -4.533299922943115, -5.011600017547607, -6.3109002113342285, -3.835599899291992, -5.291100025177002, -5.484899997711182, -5.426000118255615, -5.438199996948242, -4.209499835968018, -7.126699924468994, -2.8087000846862793, -3.134399890899658, -3.2678000926971436, -3.385200023651123, -3.545099973678589, -3.5676000118255615, -3.590399980545044, -3.600800037384033, -3.7844998836517334, -4.033899784088135, -4.0746002197265625, -4.104700088500977, -4.182000160217285, -4.295000076293945, -4.371099948883057, -4.387800216674805, -4.399899959564209, -4.439599990844727, -4.446800231933594, -4.518400192260742, -4.5665998458862305, -4.685500144958496, -4.923699855804443, -4.939199924468994, -4.957399845123291, -5.0559000968933105, -5.068600177764893, -5.077099800109863, -5.086299896240234, -5.087100028991699, -3.5234999656677246, -4.310800075531006, -4.4695000648498535, -3.6182000637054443, -3.3717000484466553, -3.586699962615967, -4.144800186157227, -3.936000108718872, -4.448400020599365, -3.958199977874756, -1.4219000339508057, -1.8866000175476074, -2.983599901199341, -3.461400032043457, -3.9049999713897705, -3.986599922180176, -4.0355000495910645, -4.220900058746338, -4.225399971008301, -4.251500129699707, -4.265699863433838, -4.727099895477295, -4.7555999755859375, -4.846499919891357, -5.005499839782715, -5.4492998123168945, -5.47730016708374, -5.544400215148926, -5.5644001960754395, -5.598100185394287, -5.615699768066406, -5.6458001136779785, -5.687300205230713, -5.698599815368652, -5.8429999351501465, -5.9994001388549805, -6.0030999183654785, -6.00629997253418, -6.02839994430542, -6.093500137329102, -4.1890997886657715, -2.4400999546051025, -5.441999912261963, -4.944499969482422, -3.5787999629974365, -4.413899898529053, -4.95959997177124, -4.543700218200684, -4.485400199890137, -5.03410005569458, -4.614699840545654, -4.376699924468994, -4.880499839782715, -4.829400062561035, -5.144599914550781, -4.9918999671936035, -0.7580000162124634, -2.123500108718872, -2.566699981689453, -3.140700101852417, -3.6501998901367188, -3.7290000915527344, -3.775700092315674, -3.7836999893188477, -4.1230998039245605, -4.424300193786621, -5.0954999923706055, -5.138400077819824, -5.536399841308594, -5.72790002822876, -5.895699977874756, -6.166500091552734, -6.281099796295166, -7.149600028991699, -7.210599899291992, -7.7600998878479, -4.36299991607666, -5.133600234985352, -3.8248000144958496, -4.779799938201904, -4.946400165557861, -6.343500137329102, -3.8264000415802, -5.061200141906738, -4.682300090789795, -6.405200004577637, -4.984899997711182, -4.953400135040283, -6.095600128173828, -1.6892000436782837, -2.312700033187866, -2.681299924850464, -2.770900011062622, -3.2014999389648438, -3.441999912261963, -3.6745998859405518, -3.7053000926971436, -3.8457999229431152, -4.049300193786621, -4.106500148773193, -4.244800090789795, -4.573299884796143, -4.758699893951416, -5.008399963378906, -5.372600078582764, -5.385900020599365, -5.424099922180176, -5.547599792480469, -5.790999889373779, -6.072400093078613, -6.273600101470947, -6.351399898529053, -3.2358999252319336, -4.861100196838379, -4.972599983215332, -6.476799964904785, -4.54010009765625, -4.466800212860107, -3.253000020980835, -3.303100109100342, -4.013700008392334, -3.4939000606536865, -4.502699851989746, -4.606200218200684, -4.698999881744385, -4.622499942779541, -5.107900142669678, -5.3190999031066895, -1.3483999967575073, -1.5515999794006348, -2.701900005340576, -2.8227999210357666, -2.8471999168395996, -3.0871999263763428, -3.364500045776367, -4.057300090789795, -4.1743998527526855, -4.431600093841553, -4.454999923706055, -4.837299823760986, -4.885900020599365, -4.912600040435791, -4.94920015335083, -5.99459981918335, -5.994900226593018, -6.910600185394287, -7.258699893951416, -2.206899881362915, -6.262700080871582, -12.990799903869629, -12.990799903869629, -12.990900039672852, -12.990900039672852, -12.990900039672852, -12.990900039672852, -12.990900039672852, -12.990799903869629, -12.990900039672852, -5.262899875640869, -12.990799903869629, -12.990799903869629, -7.13129997253418, -12.990799903869629, -12.990799903869629, -12.990799903869629, -12.990799903869629, -12.990799903869629, -1.4020999670028687, -1.5918999910354614, -1.9656000137329102, -2.9349000453948975, -3.227400064468384, -3.2376999855041504, -3.3517000675201416, -3.660599946975708, -3.724900007247925, -4.00540018081665, -4.04449987411499, -4.053299903869629, -4.484899997711182, -4.525300025939941, -4.669099807739258, -4.997900009155273, -5.204599857330322, -5.437099933624268, -5.501999855041504, -6.2052998542785645, -6.214000225067139, -6.656300067901611, -7.3983001708984375, -3.713399887084961, -12.903300285339355, -12.903300285339355, -12.903300285339355, -12.903300285339355, -12.903400421142578, -12.903300285339355, -12.903300285339355, -12.903300285339355, -12.903300285339355, -12.903300285339355, -1.450600028038025, -1.6593999862670898, -2.2228000164031982, -2.462399959564209, -3.3917999267578125, -3.6870999336242676, -3.7476000785827637, -4.6585001945495605, -4.710599899291992, -4.771900177001953, -5.0015997886657715, -5.076399803161621, -5.244100093841553, -5.260700225830078, -5.279799938201904, -5.555799961090088, -6.007699966430664, -6.117499828338623, -2.3610000610351562, -4.97760009765625, -3.166800022125244, -4.366199970245361, -4.719099998474121, -4.973499774932861, -12.807900428771973, -12.807999610900879, -12.807999610900879, -12.808099746704102, -12.808099746704102, -12.807999610900879, -12.807999610900879, -12.807999610900879, -12.807999610900879, -12.807999610900879, -12.807999610900879, -1.1561000347137451, -3.074199914932251, -3.171799898147583, -3.3389999866485596, -3.402100086212158, -3.6291000843048096, -3.6310999393463135, -4.320099830627441, -4.466899871826172, -4.470799922943115, -4.8094000816345215, -4.946700096130371, -5.0117998123168945, -5.1118998527526855, -5.686100006103516, -5.817200183868408, -6.001399993896484, -6.313499927520752, -7.416200160980225, -9.3927001953125, -9.3927001953125, -9.3927001953125, -9.3927001953125, -3.1061999797821045, -9.479299545288086, -4.649799823760986, -2.3826000690460205, -4.452700138092041, -2.5209999084472656, -5.285699844360352, -3.5413999557495117, -3.716200113296509, -4.952099800109863, -6.155200004577637, -4.534800052642822, -4.706500053405762, -5.392099857330322, -5.886600017547607, -0.4964999854564667, -2.646399974822998, -2.7486000061035156, -3.467900037765503, -3.513400077819824, -3.720400094985962, -4.8231000900268555, -4.9182000160217285, -5.245699882507324, -4.76230001449585, -3.581899881362915, -3.2181999683380127, -5.002099990844727, -12.74940013885498, -12.749500274658203, -12.749500274658203, -12.749500274658203, -12.749500274658203, -12.749500274658203, -12.749500274658203, -12.749500274658203, -12.749500274658203, -12.749500274658203, -12.749500274658203, -12.749500274658203, -12.749500274658203, -12.749500274658203, -12.749500274658203, -12.749500274658203, -12.749500274658203, -12.749500274658203, -12.74940013885498, -12.749500274658203, -12.74940013885498, -12.749500274658203, -12.749500274658203, -12.749500274658203, -12.749500274658203, -12.749500274658203, -12.749500274658203, -0.5590000152587891, -2.1740000247955322, -2.672499895095825, -2.9475998878479004, -3.466599941253662, -3.6714999675750732, -3.760499954223633, -4.65939998626709, -4.667900085449219, -5.737400054931641, -5.031899929046631, -12.526000022888184, -12.526000022888184, -12.526000022888184, -12.526000022888184, -12.526000022888184, -12.526000022888184, -12.526000022888184, -12.526000022888184, -12.526000022888184, -12.526000022888184, -12.526000022888184, -12.526000022888184, -12.526100158691406, -12.526000022888184, -12.526100158691406, -12.526100158691406, -12.526100158691406, -12.526100158691406, -12.526100158691406, -12.526000022888184, -12.526000022888184, -12.526000022888184, -12.526000022888184, -12.526000022888184, -12.526000022888184, -12.526000022888184, -12.526000022888184, -12.526000022888184, -12.526000022888184, -12.526000022888184, -12.526000022888184, -12.526000022888184, -0.8335000276565552, -2.1907999515533447, -2.420799970626831, -2.6463000774383545, -2.700500011444092, -3.614300012588501, -4.010700225830078, -4.338799953460693, -4.505000114440918, -4.630199909210205, -5.282700061798096, -5.38070011138916, -5.41949987411499, -5.8719000816345215, -6.062900066375732, -3.77620005607605, -12.301199913024902, -12.301199913024902, -12.301199913024902, -12.301199913024902, -12.301300048828125, -12.301300048828125, -12.301300048828125, -12.301300048828125, -12.301300048828125, -12.301300048828125, -12.301300048828125, -12.301300048828125, -12.301300048828125, -12.301300048828125, -12.301300048828125, -12.301300048828125, -12.301300048828125, -12.301199913024902, -12.301199913024902, -12.301300048828125, -12.301300048828125, -12.301199913024902, -12.301300048828125, -12.301300048828125, -12.301300048828125, -12.301300048828125, -1.6299999952316284, -1.7720999717712402, -2.027600049972534, -2.8492000102996826, -3.2411999702453613, -3.397200107574463, -3.504499912261963, -3.58240008354187, -3.589400053024292, -3.6791000366210938, -3.7565999031066895, -3.8499999046325684, -3.9110000133514404, -3.930000066757202, -4.356200218200684, -4.618000030517578, -4.81850004196167, -5.345399856567383, -5.805099964141846, -5.94980001449585, -6.126999855041504, -4.42609977722168, -12.160099983215332, -12.160099983215332, -12.160099983215332, -12.160099983215332, -12.160099983215332, -12.160099983215332, -12.160099983215332, -12.160099983215332, -12.15999984741211, -12.160099983215332, -12.160099983215332, -12.160099983215332, -12.160099983215332, -12.160099983215332, -12.160099983215332, -12.160099983215332, -12.160099983215332, -0.6944000124931335, -1.4866000413894653, -2.970900058746338, -3.390000104904175, -3.5703001022338867, -4.43149995803833, -4.904200077056885, -5.093500137329102, -12.049200057983398, -12.049200057983398, -12.049300193786621, -12.049300193786621, -12.049300193786621, -12.049300193786621, -12.049300193786621, -12.049300193786621, -12.049300193786621, -12.049300193786621, -12.049300193786621, -12.049300193786621, -12.049300193786621, -12.049300193786621, -12.049300193786621, -12.049300193786621, -12.049300193786621, -12.049300193786621, -12.049300193786621, -12.049300193786621, -12.049300193786621, -12.049300193786621, -12.049300193786621, -12.049300193786621, -12.049300193786621, -12.049300193786621, -12.049300193786621, -12.049300193786621, -12.049300193786621, -12.049300193786621, -12.049300193786621, -12.049300193786621, -12.049300193786621, -12.049300193786621, -12.049300193786621, -12.049300193786621], \"loglift\": [30.0, 29.0, 28.0, 27.0, 26.0, 25.0, 24.0, 23.0, 22.0, 21.0, 20.0, 19.0, 18.0, 17.0, 16.0, 15.0, 14.0, 13.0, 12.0, 11.0, 10.0, 9.0, 8.0, 7.0, 6.0, 5.0, 4.0, 3.0, 2.0, 1.0, 1.231600046157837, 1.231600046157837, 1.231600046157837, 1.231600046157837, 1.231600046157837, 1.231600046157837, 1.2315000295639038, 1.2315000295639038, 1.2315000295639038, 1.2314000129699707, 1.2314000129699707, 1.2314000129699707, 1.2314000129699707, 1.2314000129699707, 1.2314000129699707, 1.2314000129699707, 1.2312999963760376, 1.2312999963760376, 1.2312999963760376, 1.2312999963760376, 1.2311999797821045, 1.2311999797821045, 1.2311999797821045, 1.2311999797821045, 1.2311999797821045, 1.2311999797821045, 1.2311999797821045, 1.2311999797821045, 1.2310999631881714, 1.2310999631881714, 1.2295000553131104, 1.226099967956543, 1.2288999557495117, 1.22160005569458, 1.1855000257492065, 1.1901999711990356, 1.1059000492095947, 1.0053999423980713, 1.1325000524520874, 0.9194999933242798, 1.042199969291687, 1.1053999662399292, 1.0038000345230103, 0.8339999914169312, 0.8985999822616577, 0.5602999925613403, 0.5543000102043152, 0.7032999992370605, 0.14959999918937683, 0.4196000099182129, 0.6671000123023987, 0.6777999997138977, 0.451200008392334, 1.354599952697754, 1.3545000553131104, 1.3545000553131104, 1.3544000387191772, 1.3544000387191772, 1.3543000221252441, 1.3543000221252441, 1.354200005531311, 1.354200005531311, 1.354200005531311, 1.354200005531311, 1.354099988937378, 1.354099988937378, 1.3539999723434448, 1.3539999723434448, 1.3539999723434448, 1.3539999723434448, 1.3538999557495117, 1.3538999557495117, 1.3538999557495117, 1.3538000583648682, 1.3538000583648682, 1.3538000583648682, 1.353700041770935, 1.353700041770935, 1.353700041770935, 1.353700041770935, 1.353700041770935, 1.353700041770935, 1.353700041770935, 1.3453999757766724, 1.336300015449524, 1.2694000005722046, 1.3250999450683594, 1.3183000087738037, 1.2898999452590942, 1.2796000242233276, 1.277400016784668, 1.1685999631881714, 1.0898000001907349, 1.1305999755859375, 1.2524000406265259, 0.9406999945640564, 1.1260000467300415, 1.1956000328063965, 1.135599970817566, 0.9286999702453613, 0.6453999876976013, 0.7677000164985657, 0.8647000193595886, 0.4426000118255615, 1.0062999725341797, 1.0282000303268433, 0.9824000000953674, 0.46380001306533813, 0.49939998984336853, 0.09309999644756317, 0.4050000011920929, 0.6190999746322632, -0.40709999203681946, 2.606600046157837, 2.6064999103546143, 2.6064999103546143, 2.6064999103546143, 2.6064000129699707, 2.6064000129699707, 2.606300115585327, 2.6061999797821045, 2.606100082397461, 2.606100082397461, 2.606100082397461, 2.6059000492095947, 2.605600118637085, 2.605600118637085, 2.6054000854492188, 2.6052000522613525, 2.6050000190734863, 2.6045000553131104, 2.6045000553131104, 2.6040000915527344, 2.603800058364868, 2.603600025177002, 2.602799892425537, 2.6026999950408936, 2.6024999618530273, 2.6005001068115234, 2.5964999198913574, 2.5950000286102295, 2.5938000679016113, 2.5927000045776367, 2.5917999744415283, 2.494999885559082, 2.471299886703491, 2.299099922180176, 2.2574000358581543, 2.277600049972534, 2.3241000175476074, 2.2323999404907227, 2.0550999641418457, 2.2572999000549316, 1.9781999588012695, 1.2904000282287598, 2.0759999752044678, 0.7508000135421753, 1.3824000358581543, 0.8327999711036682, 1.6441999673843384, 1.1642999649047852, 0.06279999762773514, 1.5748000144958496, 1.0846999883651733, 2.8645999431610107, 2.8645999431610107, 2.8645999431610107, 2.864500045776367, 2.864500045776367, 2.864500045776367, 2.8643999099731445, 2.864300012588501, 2.8642001152038574, 2.8640999794006348, 2.8640999794006348, 2.8640999794006348, 2.864000082015991, 2.864000082015991, 2.8638999462127686, 2.8633999824523926, 2.863300085067749, 2.8626999855041504, 2.862600088119507, 2.862600088119507, 2.862600088119507, 2.862299919128418, 2.8622000217437744, 2.8620998859405518, 2.8617000579833984, 2.8608999252319336, 2.860300064086914, 2.859800100326538, 2.8596999645233154, 2.8594000339508057, 2.786900043487549, 2.6552999019622803, 2.5541999340057373, 2.5546000003814697, 2.262399911880493, 1.8056000471115112, 1.2676000595092773, 1.8669999837875366, 1.545300006866455, 0.8578000068664551, 1.1857999563217163, 0.8489999771118164, 1.1923999786376953, 3.012200117111206, 3.0120999813079834, 3.0120999813079834, 3.01200008392334, 3.011899948120117, 3.0114998817443848, 3.0114998817443848, 3.011399984359741, 3.0106000900268555, 3.0104000568389893, 3.0104000568389893, 3.0099000930786133, 3.009700059890747, 3.0090999603271484, 3.009000062942505, 3.0088999271392822, 3.0088999271392822, 3.0088000297546387, 3.0083000659942627, 3.0069000720977783, 3.0065999031066895, 3.0062999725341797, 3.0060999393463135, 3.0053999423980713, 3.0053999423980713, 3.0046000480651855, 3.0046000480651855, 3.004499912261963, 3.0044000148773193, 3.003000020980835, 2.953000068664551, 2.8903000354766846, 2.860599994659424, 2.8097000122070312, 2.6891000270843506, 2.7492001056671143, 2.755500078201294, 2.62719988822937, 2.399199962615967, 2.8262999057769775, 2.3069000244140625, 2.51200008392334, 2.5655999183654785, 2.410599946975708, 2.263000011444092, 2.0685999393463135, 1.5992000102996826, 1.8386000394821167, 2.216599941253662, 1.4057999849319458, 2.234299898147583, 1.882599949836731, 1.6957000494003296, 0.2759999930858612, 3.052799940109253, 3.0527000427246094, 3.0525999069213867, 3.0525999069213867, 3.0524001121520996, 3.0524001121520996, 3.052299976348877, 3.052299976348877, 3.052299976348877, 3.0522000789642334, 3.0522000789642334, 3.0520999431610107, 3.0520999431610107, 3.0518999099731445, 3.0517001152038574, 3.0517001152038574, 3.051500082015991, 3.0513999462127686, 3.051300048828125, 3.051300048828125, 3.0510001182556152, 3.050800085067749, 3.0506999492645264, 3.050600051879883, 3.05049991607666, 3.05049991607666, 3.05049991607666, 3.05049991607666, 3.0501999855041504, 3.049999952316284, 2.9955999851226807, 3.0074000358581543, 2.7916998863220215, 2.8585000038146973, 2.876300096511841, 2.803299903869629, 2.824399948120117, 2.7441999912261963, 2.6364998817443848, 1.3860000371932983, 1.8698999881744385, 2.4367001056671143, 1.720900058746338, 1.6746000051498413, 1.6540000438690186, 3.0794999599456787, 3.0794999599456787, 3.0794999599456787, 3.0792999267578125, 3.079200029373169, 3.078900098800659, 3.078900098800659, 3.077699899673462, 3.075700044631958, 3.074399948120117, 3.073699951171875, 3.0613999366760254, 3.0553998947143555, 3.0255000591278076, 3.0129001140594482, 2.9976999759674072, 2.9363999366760254, 2.8712000846862793, 2.8150999546051025, 2.588099956512451, 2.444499969482422, 2.4388999938964844, 2.3691999912261963, 2.0871999263763428, 1.966599941253662, 1.7482000589370728, 1.6296000480651855, 1.5960999727249146, 1.423799991607666, 1.073699951171875, 0.8064000010490417, -0.288100004196167, 3.3954999446868896, 3.395400047302246, 3.395400047302246, 3.3952999114990234, 3.39520001411438, 3.39520001411438, 3.39520001411438, 3.39520001411438, 3.3951001167297363, 3.39490008354187, 3.39490008354187, 3.3947999477386475, 3.3947999477386475, 3.394700050354004, 3.3945999145507812, 3.3945000171661377, 3.3945000171661377, 3.3945000171661377, 3.3945000171661377, 3.394399881362915, 3.3942999839782715, 3.3940999507904053, 3.393699884414673, 3.393699884414673, 3.3935999870300293, 3.393399953842163, 3.393399953842163, 3.393399953842163, 3.3933000564575195, 3.3933000564575195, 3.3879001140594482, 3.3910999298095703, 3.3921000957489014, 3.373699903488159, 3.364799976348877, 3.3619000911712646, 3.323199987411499, 3.207900047302246, 3.2237000465393066, 2.478100061416626, 3.400399923324585, 3.400399923324585, 3.4001998901367188, 3.4000000953674316, 3.3996999263763428, 3.3996999263763428, 3.399600028991699, 3.3994998931884766, 3.3994998931884766, 3.399399995803833, 3.399399995803833, 3.3987998962402344, 3.398699998855591, 3.3986001014709473, 3.398200035095215, 3.3970000743865967, 3.396899938583374, 3.3966000080108643, 3.3966000080108643, 3.396399974822998, 3.396399974822998, 3.396199941635132, 3.3961000442504883, 3.3959999084472656, 3.3952999114990234, 3.394399881362915, 3.394399881362915, 3.394399881362915, 3.3942999839782715, 3.3938000202178955, 3.2360999584198, 3.034899950027466, 3.2732999324798584, 3.0167999267578125, 2.316699981689453, 2.4247000217437744, 2.8027000427246094, 2.264400005340576, 2.1284000873565674, 2.5106000900268555, 1.7785999774932861, 0.8938999772071838, 1.9214999675750732, 1.447700023651123, 1.4529000520706177, 0.024000000208616257, 3.7669999599456787, 3.766900062561035, 3.7667999267578125, 3.7664999961853027, 3.766200065612793, 3.7660999298095703, 3.7660999298095703, 3.7660999298095703, 3.765700101852417, 3.765199899673462, 3.7634999752044678, 3.7632999420166016, 3.7614998817443848, 3.7604000568389893, 3.759200096130371, 3.756700038909912, 3.755500078201294, 3.7397000789642334, 3.73799991607666, 3.7172999382019043, 3.458899974822998, 3.2925000190734863, 2.6970999240875244, 2.5541000366210938, 2.323499917984009, 2.1775999069213867, 2.0690999031066895, 1.8595000505447388, 1.6434999704360962, 1.4996000528335571, 0.8842999935150146, 0.5601000189781189, 1.0140999555587769, 4.343599796295166, 4.343400001525879, 4.343200206756592, 4.343100070953369, 4.342800140380859, 4.342599868774414, 4.342199802398682, 4.342199802398682, 4.3420000076293945, 4.341599941253662, 4.341400146484375, 4.341100215911865, 4.340000152587891, 4.339300155639648, 4.3379998207092285, 4.3354997634887695, 4.335400104522705, 4.335100173950195, 4.333899974822998, 4.331200122833252, 4.327199935913086, 4.323500156402588, 4.321899890899658, 3.666599988937378, 3.287100076675415, 3.216200113296509, 3.183799982070923, 3.1807000637054443, 3.166599988937378, 3.121299982070923, 2.991499900817871, 2.8120999336242676, 2.1784000396728516, 2.603100061416626, 2.0409998893737793, 1.8284000158309937, 1.2730000019073486, 0.8551999926567078, -0.15950000286102295, 4.4517998695373535, 4.451700210571289, 4.451300144195557, 4.451200008392334, 4.451200008392334, 4.451000213623047, 4.450699806213379, 4.44950008392334, 4.44920015335083, 4.448299884796143, 4.448299884796143, 4.446499824523926, 4.446300029754639, 4.446100234985352, 4.445899963378906, 4.434800148010254, 4.434800148010254, 4.4096999168396, 4.3927001953125, 3.2681000232696533, 1.7764999866485596, 1.4638999700546265, 1.4638999700546265, 1.4638999700546265, 1.4638999700546265, 1.4638999700546265, 1.4638999700546265, 1.4638999700546265, 1.4638999700546265, 1.4638999700546265, 1.3696999549865723, 1.4638999700546265, 1.4638999700546265, 0.16949999332427979, 1.4638999700546265, 1.4638999700546265, 1.4637999534606934, 1.4638999700546265, 1.4637999534606934, 4.524099826812744, 4.52400016784668, 4.523900032043457, 4.523399829864502, 4.523099899291992, 4.523099899291992, 4.522900104522705, 4.52239990234375, 4.522299766540527, 4.521699905395508, 4.521599769592285, 4.521599769592285, 4.520199775695801, 4.519999980926514, 4.5192999839782715, 4.517399787902832, 4.515900135040283, 4.513700008392334, 4.513000011444092, 4.5015997886657715, 4.501399993896484, 4.488999843597412, 4.451499938964844, 3.1135001182556152, 1.5514999628067017, 1.5514999628067017, 1.5513999462127686, 1.5513999462127686, 1.5513999462127686, 1.5513999462127686, 1.5513999462127686, 1.5513999462127686, 1.5513999462127686, 1.5513999462127686, 4.581999778747559, 4.581900119781494, 4.581699848175049, 4.581600189208984, 4.580699920654297, 4.5802998542785645, 4.580100059509277, 4.577099800109863, 4.5767998695373535, 4.576399803161621, 4.574999809265137, 4.574399948120117, 4.572999954223633, 4.572800159454346, 4.572700023651123, 4.5696001052856445, 4.5625, 4.560299873352051, 4.252900123596191, 3.2288999557495117, 3.0341999530792236, 2.696899890899658, 2.608599901199341, 2.046099901199341, 1.6469000577926636, 1.6467000246047974, 1.6467000246047974, 1.6467000246047974, 1.6467000246047974, 1.6467000246047974, 1.6467000246047974, 1.6467000246047974, 1.6467000246047974, 1.6466000080108643, 1.6466000080108643, 4.700799942016602, 4.699699878692627, 4.6996002197265625, 4.699399948120117, 4.6992998123168945, 4.69890022277832, 4.69890022277832, 4.696800231933594, 4.696100234985352, 4.696100234985352, 4.694200038909912, 4.69320011138916, 4.692599773406982, 4.691800117492676, 4.684700012207031, 4.682400226593018, 4.678699970245361, 4.6707000732421875, 4.612599849700928, 4.190000057220459, 4.190000057220459, 4.190000057220459, 4.190000057220459, 4.182799816131592, 4.1545000076293945, 3.753200054168701, 3.5804998874664307, 3.3691999912261963, 3.1122000217437744, 3.0848000049591064, 3.001800060272217, 2.6440999507904053, 2.157599925994873, 2.1514999866485596, 0.6248000264167786, 0.7304999828338623, 1.1197999715805054, 1.422700047492981, 4.749899864196777, 4.749199867248535, 4.749100208282471, 4.7480998039245605, 4.748000144958496, 4.747600078582764, 4.742800235748291, 4.742099761962891, 4.738999843597412, 3.9033000469207764, 2.7063000202178955, 2.378700017929077, 1.7869999408721924, 1.705299973487854, 1.705299973487854, 1.705299973487854, 1.705299973487854, 1.705299973487854, 1.705299973487854, 1.705299973487854, 1.705299973487854, 1.705299973487854, 1.705299973487854, 1.705299973487854, 1.705299973487854, 1.705299973487854, 1.705299973487854, 1.705299973487854, 1.705299973487854, 1.705299973487854, 1.705299973487854, 1.705199956893921, 1.705199956893921, 1.705199956893921, 1.705199956893921, 1.705199956893921, 1.705199956893921, 1.705199956893921, 1.705199956893921, 1.705199956893921, 4.837100028991699, 4.836699962615967, 4.836299896240234, 4.835999965667725, 4.83519983291626, 4.834700107574463, 4.834499835968018, 4.830599784851074, 4.83050012588501, 2.9598000049591064, 2.7009999752044678, 1.9286999702453613, 1.9286999702453613, 1.9286999702453613, 1.9286999702453613, 1.9286999702453613, 1.9286999702453613, 1.9286999702453613, 1.9286999702453613, 1.9286999702453613, 1.9286999702453613, 1.9286999702453613, 1.9286999702453613, 1.9286999702453613, 1.9286999702453613, 1.9286999702453613, 1.9286999702453613, 1.9286999702453613, 1.9286999702453613, 1.9286999702453613, 1.9286999702453613, 1.9286999702453613, 1.9286999702453613, 1.9286999702453613, 1.9286999702453613, 1.9286999702453613, 1.9286999702453613, 1.9286999702453613, 1.9286999702453613, 1.9286999702453613, 1.9286999702453613, 1.9285999536514282, 1.9286999702453613, 5.124599933624268, 5.124100208282471, 5.123899936676025, 5.123600006103516, 5.123600006103516, 5.121699810028076, 5.120200157165527, 5.1184000968933105, 5.117199897766113, 5.116199970245361, 5.108399868011475, 5.1066999435424805, 5.105999946594238, 5.095399856567383, 5.089300155639648, 3.574199914932251, 2.1535000801086426, 2.1535000801086426, 2.1535000801086426, 2.1535000801086426, 2.1535000801086426, 2.1535000801086426, 2.1535000801086426, 2.1535000801086426, 2.1535000801086426, 2.1535000801086426, 2.1535000801086426, 2.1535000801086426, 2.1535000801086426, 2.1535000801086426, 2.1535000801086426, 2.1535000801086426, 2.1535000801086426, 2.15339994430542, 2.15339994430542, 2.1535000801086426, 2.1535000801086426, 2.15339994430542, 2.15339994430542, 2.15339994430542, 2.15339994430542, 2.15339994430542, 5.23330020904541, 5.2332000732421875, 5.233099937438965, 5.2322001457214355, 5.231400012969971, 5.230999946594238, 5.2307000160217285, 5.230400085449219, 5.230400085449219, 5.230100154876709, 5.229800224304199, 5.229400157928467, 5.229100227355957, 5.229000091552734, 5.226500034332275, 5.224299907684326, 5.2221999168396, 5.214300155639648, 5.203100204467773, 5.198500156402588, 5.191699981689453, 3.7804999351501465, 2.2946999073028564, 2.294600009918213, 2.294600009918213, 2.294600009918213, 2.294600009918213, 2.294600009918213, 2.294600009918213, 2.294600009918213, 2.294600009918213, 2.294600009918213, 2.294600009918213, 2.294600009918213, 2.294600009918213, 2.294600009918213, 2.294600009918213, 2.294600009918213, 2.294600009918213, 5.441999912261963, 5.441699981689453, 5.440000057220459, 5.438799858093262, 5.4380998611450195, 5.432600021362305, 5.426700115203857, 5.423500061035156, 2.4054999351501465, 2.4054999351501465, 2.4054999351501465, 2.4054999351501465, 2.4054999351501465, 2.405400037765503, 2.405400037765503, 2.405400037765503, 2.405400037765503, 2.405400037765503, 2.405400037765503, 2.405400037765503, 2.405400037765503, 2.405400037765503, 2.405400037765503, 2.405400037765503, 2.405400037765503, 2.405400037765503, 2.405400037765503, 2.405400037765503, 2.405400037765503, 2.405400037765503, 2.405400037765503, 2.405400037765503, 2.405400037765503, 2.405400037765503, 2.405400037765503, 2.405400037765503, 2.405400037765503, 2.405400037765503, 2.405400037765503, 2.405400037765503, 2.405400037765503, 2.405400037765503, 2.405400037765503, 2.4052999019622803]}, \"token.table\": {\"Topic\": [8, 1, 2, 6, 8, 5, 4, 6, 10, 9, 16, 3, 2, 4, 9, 8, 8, 9, 1, 3, 12, 2, 3, 5, 7, 19, 3, 3, 19, 19, 16, 3, 9, 13, 2, 4, 1, 2, 8, 9, 16, 1, 9, 14, 2, 1, 14, 13, 6, 3, 2, 6, 1, 1, 2, 3, 5, 6, 1, 3, 3, 4, 10, 1, 2, 9, 14, 15, 2, 2, 3, 4, 15, 13, 2, 3, 4, 8, 1, 2, 8, 8, 11, 7, 2, 5, 8, 6, 13, 10, 10, 14, 16, 5, 1, 2, 15, 3, 10, 19, 11, 4, 1, 15, 9, 6, 20, 15, 8, 3, 9, 2, 2, 1, 10, 15, 3, 15, 3, 8, 1, 9, 2, 6, 11, 13, 10, 8, 12, 18, 5, 9, 11, 4, 10, 4, 11, 2, 6, 7, 2, 3, 9, 12, 12, 10, 9, 8, 9, 2, 5, 6, 9, 11, 5, 6, 2, 5, 1, 2, 6, 9, 6, 10, 13, 18, 14, 17, 6, 12, 2, 5, 1, 5, 13, 2, 4, 6, 11, 15, 2, 2, 5, 10, 15, 10, 15, 14, 1, 4, 8, 16, 1, 4, 4, 8, 9, 5, 9, 5, 2, 7, 11, 2, 9, 15, 17, 1, 11, 1, 12, 1, 2, 4, 1, 6, 18, 2, 9, 13, 2, 3, 9, 2, 2, 19, 8, 2, 3, 7, 9, 15, 19, 2, 9, 7, 16, 17, 20, 8, 3, 14, 12, 1, 9, 18, 18, 6, 9, 19, 8, 2, 6, 11, 17, 1, 2, 4, 11, 15, 2, 5, 6, 14, 15, 14, 5, 3, 5, 9, 8, 2, 3, 4, 5, 2, 11, 11, 6, 6, 9, 20, 3, 17, 11, 4, 11, 11, 1, 12, 4, 1, 6, 9, 2, 3, 19, 4, 6, 14, 14, 20, 4, 4, 7, 18, 4, 2, 4, 4, 8, 9, 4, 6, 6, 2, 4, 14, 14, 9, 2, 9, 11, 1, 1, 11, 3, 2, 8, 2, 15, 1, 2, 1, 4, 10, 3, 5, 8, 8, 8, 9, 15, 18, 5, 6, 13, 17, 4, 6, 4, 12, 1, 6, 13, 2, 6, 19, 2, 8, 1, 2, 5, 6, 6, 5, 1, 2, 3, 2, 3, 7, 15, 16, 12, 4, 6, 4, 4, 7, 6, 11, 1, 9, 11, 12, 1, 2, 3, 5, 6, 8, 12, 15, 1, 1, 2, 5, 1, 1, 4, 6, 1, 4, 6, 6, 5, 16, 15, 14, 13, 2, 8, 8, 1, 1, 2, 7, 1, 1, 3, 6, 15, 1, 17, 3, 7, 9, 1, 2, 4, 1, 2, 3, 4, 4, 5, 15, 2, 7, 1, 5, 6, 12, 2, 7, 15, 8, 14, 5, 9, 2, 3, 4, 5, 6, 11, 4, 4, 19, 2, 5, 9, 3, 17, 2, 7, 11, 2, 4, 5, 1, 4, 5, 10, 2, 3, 15, 15, 12, 18, 11, 2, 9, 11, 1, 6, 13, 1, 7, 1, 2, 3, 9, 12, 18, 6, 1, 8, 11, 13, 13, 1, 7, 1, 6, 7, 5, 11, 10, 5, 10, 1, 3, 1, 7, 1, 2, 3, 4, 13, 2, 1, 4, 1, 7, 4, 15, 1, 2, 3, 4, 5, 6, 6, 19, 6, 14, 1, 2, 9, 2, 1, 10, 18, 1, 2, 3, 3, 4, 5, 3, 1, 1, 2, 5, 5, 1, 2, 9, 14, 1, 2, 7, 9, 2, 3, 4, 2, 12, 2, 11, 2, 3, 7, 5, 8, 5, 6, 12, 14, 1, 19, 1, 2, 10, 9, 1, 4, 8, 16, 3, 11, 19, 3, 3, 19, 1, 3, 8, 13, 11, 1, 7, 16, 1, 3, 3, 17, 3, 12, 1, 2, 3, 4, 8, 9, 16, 5, 14, 2, 5, 1, 2, 6, 16, 4, 11, 3, 6, 10, 1, 2, 3, 15, 8, 15, 3, 3, 3, 4, 5, 6, 2, 15, 9, 4, 6, 18, 2, 6, 11, 17, 5, 11, 4, 4, 4, 1, 2, 9, 10, 15, 4, 2, 5, 3, 1, 2, 5, 1, 15, 8, 4, 13, 2, 10, 2, 7, 15, 4, 13, 20, 19, 19, 8, 6, 13, 2, 14, 5, 3, 2, 3, 9, 10, 10, 1, 2, 5, 9, 5, 15, 14, 5, 11, 15, 6, 12, 2, 3, 4, 18, 15, 9, 9, 19, 4, 9, 9, 2, 2, 7, 11, 15, 2, 5, 11, 2, 3, 4, 6, 8, 11, 4, 6, 11, 9, 11, 13, 2, 7, 7, 8, 2, 3, 8, 11, 3, 2, 6, 7, 10, 2, 10, 4, 14, 1, 1, 2, 4, 7, 6, 9, 2, 11, 1, 2, 3, 10, 6, 8, 12, 7, 11, 15, 2, 4, 2, 3, 4, 1, 2, 10, 1, 2, 12, 6, 18, 2, 3, 9, 10, 11, 13, 1, 6, 11, 11, 8, 6, 11, 6, 6, 1, 2, 8, 15, 3, 13, 2, 5, 19, 4, 15, 1, 2, 6, 7, 20, 6, 2, 4, 9, 1, 2, 8, 18, 6, 6, 15, 20, 2, 4, 11, 15, 9, 13, 5, 10, 2, 19, 5, 10, 2, 2, 12, 1, 2, 6, 1, 4, 14, 5, 1, 2, 1, 2, 16, 3, 15, 11, 1, 1, 1, 2, 19, 2, 3, 3, 10, 2, 6, 1, 6, 10, 11, 6, 8, 15, 20, 6, 12, 13, 8, 2, 9, 5, 1, 2, 5, 6, 19, 18, 11, 9, 5, 10, 9, 17, 2, 1, 1, 2, 5, 10, 2, 1, 5, 18, 10, 1, 4, 4, 2, 7, 2, 7, 14, 19, 1, 4], \"Freq\": [0.9990408420562744, 0.9945268630981445, 0.005345276091247797, 0.02105618640780449, 0.9783422946929932, 0.9994747638702393, 0.2646279036998749, 0.7345570921897888, 0.999936580657959, 0.9972181916236877, 0.9902535080909729, 0.9994629621505737, 0.28026142716407776, 0.03655583783984184, 0.6810216903686523, 0.998791515827179, 0.9997069239616394, 0.9967756867408752, 0.26601409912109375, 0.6876214146614075, 0.0458892285823822, 0.28014707565307617, 0.7196301221847534, 0.47259390354156494, 0.5270001292228699, 0.9827754497528076, 0.9975219964981079, 0.9973264932632446, 0.9856067895889282, 0.9507051110267639, 0.9979854226112366, 0.9978671669960022, 0.9964373111724854, 0.9699050784111023, 0.9817219972610474, 0.017749739810824394, 0.26868101954460144, 0.015174674801528454, 0.3052787482738495, 0.41060885787010193, 0.9933890104293823, 0.9996500611305237, 0.2800782322883606, 0.7195477485656738, 0.9996944665908813, 0.9993687272071838, 0.9992215037345886, 0.9987474679946899, 0.997627854347229, 0.9987174272537231, 0.7529793381690979, 0.24682120978832245, 0.999384343624115, 0.29797351360321045, 0.6127035021781921, 0.0004553385078907013, 0.06484020501375198, 0.02395080402493477, 0.9993793368339539, 0.9861586689949036, 0.9999610781669617, 0.9974551200866699, 0.9911117553710938, 0.03522472828626633, 0.9642769694328308, 0.9969629049301147, 0.9948829412460327, 0.9997968077659607, 0.998947262763977, 0.037637583911418915, 0.8944078087806702, 0.049026478081941605, 0.018873024731874466, 0.996446967124939, 0.07508072257041931, 0.7050762176513672, 0.21909919381141663, 0.9982621073722839, 0.23251760005950928, 0.767359733581543, 0.9991087913513184, 0.9996381402015686, 0.9995823502540588, 0.9942200779914856, 0.00748881371691823, 0.8593413829803467, 0.13292644917964935, 0.9996945858001709, 0.9982610940933228, 0.9945177435874939, 0.9994016885757446, 0.9942865967750549, 0.9995582103729248, 0.9979318380355835, 0.7962744235992432, 0.20365391671657562, 0.973839521408081, 0.9998632669448853, 0.9998379349708557, 0.9993085265159607, 0.976878821849823, 0.9996802806854248, 0.9972842335700989, 0.0026683190371841192, 0.9950140714645386, 0.9993609189987183, 0.9975718855857849, 0.9937549829483032, 0.9996716380119324, 0.9989672899246216, 0.9990068078041077, 0.9992613196372986, 0.9999829530715942, 0.999708354473114, 0.9994799494743347, 0.9982642531394958, 0.4036780297756195, 0.5958398580551147, 0.9979631900787354, 0.9984359741210938, 0.15048161149024963, 0.8482410311698914, 0.6417878270149231, 0.0727127343416214, 0.04136352986097336, 0.24382711946964264, 0.9984700083732605, 0.9993904232978821, 0.9918292164802551, 0.9575056433677673, 0.9981334209442139, 0.9974406957626343, 0.9952223896980286, 0.9981579184532166, 0.9567565321922302, 0.6747713088989258, 0.32463809847831726, 0.6197594404220581, 0.15325573086738586, 0.22679603099822998, 0.7058877348899841, 0.29403167963027954, 0.9952860474586487, 0.9998565316200256, 0.9217690825462341, 0.9998764991760254, 0.9979382157325745, 0.9984134435653687, 0.9925378561019897, 0.19138163328170776, 0.6803245544433594, 0.04518284648656845, 0.0016136730555444956, 0.08068365603685379, 0.9934970140457153, 0.9990647435188293, 0.9989166855812073, 0.9952390789985657, 0.014356519095599651, 0.132710263133049, 0.7791037559509277, 0.07353339344263077, 0.9977977871894836, 0.994101345539093, 0.9921912550926208, 0.9994072318077087, 0.9997863173484802, 0.9971864819526672, 0.9997678399085999, 0.9905081987380981, 0.3596029579639435, 0.6396408081054688, 0.4582236409187317, 0.5417483448982239, 0.9998435378074646, 0.4238213300704956, 0.18651415407657623, 0.25205352902412415, 0.009557826444506645, 0.1278017908334732, 0.9993135333061218, 0.7521729469299316, 0.10514245927333832, 0.06354764103889465, 0.0785679891705513, 0.7348574995994568, 0.26379498839378357, 0.9900802373886108, 0.05260950326919556, 0.11777354776859283, 0.8285996913909912, 0.99774569272995, 0.2664705514907837, 0.732956051826477, 0.9994951486587524, 0.9668058156967163, 0.03294811397790909, 0.9999115467071533, 0.9990878701210022, 0.994114100933075, 0.9990918636322021, 0.4912222623825073, 0.5081285834312439, 0.8530805706977844, 0.1419707089662552, 0.004774236120283604, 0.9988636374473572, 0.8240806460380554, 0.17551997303962708, 0.9853969812393188, 0.013987181708216667, 0.7167386412620544, 0.2832227945327759, 0.9993985295295715, 0.20349082350730896, 0.7958226203918457, 0.9984779357910156, 0.9986681938171387, 0.9999533891677856, 0.9987881183624268, 0.40011096000671387, 0.5334064960479736, 0.06619895249605179, 0.9998277425765991, 0.999206006526947, 0.9978073239326477, 0.9969313740730286, 0.4791976511478424, 0.23639580607414246, 0.2641553580760956, 0.018841324374079704, 0.0013816970167681575, 0.999057412147522, 0.918359100818634, 0.08155029267072678, 0.9945164918899536, 0.9973138570785522, 0.9999082684516907, 0.9952840805053711, 0.9991375803947449, 0.9986297488212585, 0.999798595905304, 0.9966350793838501, 0.7408736944198608, 0.0463046059012413, 0.21241319179534912, 0.9998151063919067, 0.99945068359375, 0.9937560558319092, 0.9945732951164246, 0.9993636012077332, 0.7638731598854065, 0.06679850071668625, 0.04956017807126045, 0.11851346492767334, 0.25902071595191956, 0.3452516794204712, 0.1878719925880432, 0.0249184500426054, 0.182953879237175, 0.6398540139198303, 0.17421768605709076, 0.10611440986394882, 0.07918985933065414, 0.995947539806366, 0.9983587861061096, 0.9878535866737366, 0.22555850446224213, 0.7732303738594055, 0.9987568855285645, 0.999036967754364, 0.05206723511219025, 0.2440165877342224, 0.5474830865859985, 0.15581314265727997, 0.9992247819900513, 0.9984360933303833, 0.9977652430534363, 0.9994511604309082, 0.997755229473114, 0.9924224615097046, 0.9994892477989197, 0.9967419505119324, 0.9994365572929382, 0.9914883971214294, 0.997381329536438, 0.9997528195381165, 0.9994581341743469, 0.9995478987693787, 0.9991392493247986, 0.9991667866706848, 0.05214802175760269, 0.39721259474754333, 0.5503280758857727, 0.8302795886993408, 0.1696949154138565, 0.9933397173881531, 0.016999676823616028, 0.7701086401939392, 0.21261240541934967, 0.9941016435623169, 0.9893686175346375, 0.9973228573799133, 0.9996950030326843, 0.999924898147583, 0.9544646143913269, 0.9981844425201416, 0.9990211725234985, 0.9995788931846619, 0.9251728057861328, 0.0744122564792633, 0.9962592720985413, 0.16142208874225616, 0.8382815718650818, 0.9991444945335388, 0.5079807043075562, 0.3520658314228058, 0.13867083191871643, 0.9924848079681396, 0.9965324401855469, 0.8570483922958374, 0.14261063933372498, 0.9824486374855042, 0.9999046325683594, 0.999704897403717, 0.9985859394073486, 0.9975472092628479, 0.003133671823889017, 0.9954630732536316, 0.799013078212738, 0.19771496951580048, 0.072036512196064, 0.9277083277702332, 0.540747344493866, 0.16121211647987366, 0.29712188243865967, 0.9994631409645081, 0.007107578683644533, 0.992218017578125, 0.9974197745323181, 0.8414711356163025, 0.15105928480625153, 0.006082924082875252, 0.9818927049636841, 0.942189633846283, 0.056890688836574554, 0.9926700592041016, 0.992835283279419, 0.05552652105689049, 0.944312572479248, 0.9987262487411499, 0.9998412728309631, 0.9998453259468079, 0.9986069798469543, 0.9998449683189392, 0.607334315776825, 0.15745703876018524, 0.23359011113643646, 0.9991915822029114, 0.9998109936714172, 0.9055118560791016, 0.036307964473962784, 0.01166520919650793, 0.046223390847444534, 0.9989513158798218, 0.9947992563247681, 0.27317702770233154, 0.7215737104415894, 0.005173807498067617, 0.7737775444984436, 0.06355462968349457, 0.1344180405139923, 0.02796403504908085, 0.9998787641525269, 0.999603271484375, 0.7335846424102783, 0.2658179998397827, 0.9998463988304138, 0.13312199711799622, 0.86664217710495, 0.6905420422554016, 0.30820804834365845, 0.46832388639450073, 0.2181963473558426, 0.3129254877567291, 0.9959102869033813, 0.12521275877952576, 0.29864180088043213, 0.575978696346283, 0.7689138650894165, 0.23028051853179932, 0.9992167353630066, 0.9990917444229126, 0.3936276435852051, 0.9999252557754517, 0.568585216999054, 0.18794766068458557, 0.2434028685092926, 0.9999514818191528, 0.9995948076248169, 0.17637720704078674, 0.8232463002204895, 0.036928270012140274, 0.007450439967215061, 0.9555999636650085, 0.9990401268005371, 0.9957230687141418, 0.9920328259468079, 0.7480809092521667, 0.9830430150032043, 0.9964568018913269, 0.9990068674087524, 0.9966127872467041, 0.999381422996521, 0.9996243119239807, 0.3359161615371704, 0.4726884067058563, 0.19112470746040344, 0.9998900890350342, 0.11104503273963928, 0.7352918386459351, 0.15353794395923615, 0.7480809092521667, 0.8449845910072327, 0.15260592103004456, 0.5881655216217041, 0.0343647263944149, 0.3766902685165405, 0.028553588315844536, 0.9708219766616821, 0.9965202808380127, 0.012177045457065105, 0.8032984137535095, 0.18188253045082092, 0.002512723673135042, 0.9990834593772888, 0.9975115656852722, 0.998752772808075, 0.18595148622989655, 0.8118774890899658, 0.22538979351520538, 0.4873688519001007, 0.21807195246219635, 0.06878779828548431, 0.9994686841964722, 0.9989144802093506, 0.9853953123092651, 0.9992323517799377, 0.9869297742843628, 0.9973372220993042, 0.9983705878257751, 0.025409115478396416, 0.13810601830482483, 0.017337985336780548, 0.7240103483200073, 0.07921665906906128, 0.015843331813812256, 0.9998506307601929, 0.9988803267478943, 0.9956163167953491, 0.36254262924194336, 0.6062894463539124, 0.030776113271713257, 0.9998239874839783, 0.9976819157600403, 0.6149339079856873, 0.3709034323692322, 0.014287496916949749, 0.9256577491760254, 0.07410258054733276, 0.9999374747276306, 0.016578612849116325, 0.1649135798215866, 0.816714882850647, 0.0017451172461733222, 0.8643996715545654, 0.05545927211642265, 0.07840793579816818, 0.9983591437339783, 0.9938139915466309, 0.9840582013130188, 0.9989852905273438, 0.9998812079429626, 0.8805757164955139, 0.1151079311966896, 0.7358719706535339, 0.2639486789703369, 0.9906582236289978, 0.999859631061554, 0.9833657145500183, 0.9978175759315491, 0.0021484431345015764, 0.9992504119873047, 0.6937993764877319, 0.30611446499824524, 0.9987490177154541, 0.9995041489601135, 0.0008266930817626417, 0.9300296902656555, 0.06778883188962936, 0.9899178743362427, 0.9996252655982971, 0.9995311498641968, 0.9998400211334229, 0.999549388885498, 0.9970100522041321, 0.9947301745414734, 0.9981750845909119, 0.0012313014594838023, 0.9615998268127441, 0.9967691898345947, 0.9993942975997925, 0.6433842778205872, 0.35645154118537903, 0.999398410320282, 0.999725341796875, 0.5109796524047852, 0.40172719955444336, 0.07857838273048401, 0.008688531816005707, 0.9981260299682617, 0.9992588758468628, 0.9900315403938293, 0.009672151878476143, 0.6686880588531494, 0.3287716209888458, 0.9932505488395691, 0.991168200969696, 0.07669969648122787, 0.4733026325702667, 0.08864788711071014, 0.043938517570495605, 0.26825621724128723, 0.04933447763323784, 0.9980250000953674, 0.9939815402030945, 0.9973426461219788, 0.9979872703552246, 0.13931021094322205, 0.6324173808097839, 0.2280779927968979, 0.9994189739227295, 0.9594155550003052, 0.04051230102777481, 0.9848591685295105, 0.6718857884407043, 0.17175617814064026, 0.15630513429641724, 0.9852367639541626, 0.014613269828259945, 0.998149037361145, 0.9901767373085022, 0.9996179342269897, 0.0968000665307045, 0.9027723073959351, 0.9996820688247681, 0.9944209456443787, 0.5746927857398987, 0.4252396523952484, 0.9995365142822266, 0.9993991255760193, 0.82735675573349, 0.03544899448752403, 0.10300139337778091, 0.03416770324110985, 0.9374231100082397, 0.008105690591037273, 0.05451076850295067, 0.9994540810585022, 0.9966188073158264, 0.7833966612815857, 0.21618440747261047, 0.9990774989128113, 0.0006902884342707694, 0.9996063113212585, 0.9998142719268799, 0.9981836080551147, 0.4592169225215912, 0.5402933359146118, 0.9994633793830872, 0.9872667789459229, 0.9997296333312988, 0.9979829788208008, 0.9995518326759338, 0.6566553115844727, 0.3430911898612976, 0.9985731244087219, 0.8814255595207214, 0.0021634758450090885, 0.02290739119052887, 0.09341125190258026, 0.7052637338638306, 0.2946213483810425, 0.9947296380996704, 0.9985396265983582, 0.9973260760307312, 0.9967057704925537, 0.6178589463233948, 0.3819871246814728, 0.9979759454727173, 0.9929723739624023, 0.9990277290344238, 0.46898818016052246, 0.5296807289123535, 0.998956561088562, 0.7318578958511353, 0.2681390941143036, 0.9899535775184631, 0.9969558715820312, 0.9991718530654907, 0.9976193904876709, 0.9998204708099365, 0.4263943135738373, 0.19412052631378174, 0.23646646738052368, 0.06330928206443787, 0.027671607211232185, 0.05156981572508812, 0.9988124966621399, 0.9917976260185242, 0.7992845177650452, 0.2005864977836609, 0.05183300003409386, 0.7919777631759644, 0.026424666866660118, 0.1295825093984604, 0.9998995065689087, 0.9957377314567566, 0.8734483122825623, 0.12401903420686722, 0.9665711522102356, 0.6609117984771729, 0.12131998687982559, 0.17986392974853516, 0.03738348186016083, 0.9995235204696655, 0.9982832074165344, 0.9997503161430359, 0.9996383190155029, 0.23096442222595215, 0.22073182463645935, 0.5476877689361572, 0.999859631061554, 0.7956618070602417, 0.2041613608598709, 0.9967283010482788, 0.8110346794128418, 0.18887385725975037, 0.9926097989082336, 0.33951419591903687, 0.6596890091896057, 0.9991934895515442, 0.9986066818237305, 0.8851721286773682, 0.11472928524017334, 0.9988791942596436, 0.9997692108154297, 0.9994724988937378, 0.25077441334724426, 0.4171043634414673, 0.22646464407444, 0.10363636165857315, 0.9489717483520508, 0.9997919201850891, 0.6764081716537476, 0.323109894990921, 0.9999182820320129, 0.43340423703193665, 0.1146959438920021, 0.4514627456665039, 0.6106329560279846, 0.38743606209754944, 0.9990118741989136, 0.9974693059921265, 0.9966893196105957, 0.7938840985298157, 0.20380307734012604, 0.06446617841720581, 0.9354810118675232, 0.9986995458602905, 0.9972026944160461, 0.9977127313613892, 0.9845016002655029, 0.996252715587616, 0.9719284772872925, 0.9996806383132935, 0.9992733597755432, 0.9805242419242859, 0.7404893636703491, 0.25778716802597046, 0.9984376430511475, 0.9992203712463379, 0.35060930252075195, 0.2543104290962219, 0.1586897075176239, 0.23600007593631744, 0.9993717074394226, 0.41928645968437195, 0.0688033252954483, 0.4940389394760132, 0.017588820308446884, 0.9996892213821411, 0.9944203495979309, 0.9981541037559509, 0.9954221844673157, 0.999288022518158, 0.9904499650001526, 0.9980289936065674, 0.990801990032196, 0.1662256270647049, 0.7539946436882019, 0.07952520996332169, 0.9906716346740723, 0.9937863945960999, 0.9936733245849609, 0.9996938705444336, 0.9997397065162659, 0.9999091029167175, 0.9999407529830933, 0.9991252422332764, 0.9998704791069031, 0.20432554185390472, 0.7675769329071045, 0.011095715686678886, 0.01701343059539795, 0.06838837265968323, 0.8302030563354492, 0.09860648959875107, 0.34159672260284424, 0.0818522498011589, 0.26738402247428894, 0.034559838473796844, 0.17461812496185303, 0.10004163533449173, 0.5859342217445374, 0.06365302205085754, 0.3476434051990509, 0.9993094801902771, 0.9869954586029053, 0.9992740154266357, 0.9995189309120178, 0.9993888735771179, 0.99956876039505, 0.998734176158905, 0.0007955199689604342, 0.029434239491820335, 0.9693410992622375, 0.9889652132987976, 0.9947446584701538, 0.304645836353302, 0.31181958317756653, 0.23434294760227203, 0.148257777094841, 0.374975323677063, 0.6228038668632507, 0.9964232444763184, 0.974806547164917, 0.9997465014457703, 0.4439244866371155, 0.5560047030448914, 0.9973240494728088, 0.9681299924850464, 0.999880850315094, 0.9996408820152283, 0.999495804309845, 0.9961631298065186, 0.3718140423297882, 0.49463799595832825, 0.07737074047327042, 0.05598098784685135, 0.0024508286733180285, 0.9962618350982666, 0.9993115663528442, 0.9999069571495056, 0.9883074164390564, 0.7480809092521667, 0.6531331539154053, 0.34672296047210693, 0.6055474877357483, 0.02537054382264614, 0.36856988072395325, 0.41812458634376526, 0.4619155526161194, 0.11950185894966125, 0.31057918071746826, 0.6891881227493286, 0.9734368920326233, 0.9980588555335999, 0.9941348433494568, 0.21375545859336853, 0.21821585297584534, 0.33830317854881287, 0.18304741382598877, 0.04631940275430679, 0.9957544803619385, 0.4346807301044464, 0.3063220679759979, 0.2587628662586212, 0.9984142780303955, 0.9980024099349976, 0.6812939047813416, 0.311025470495224, 0.99738609790802, 0.9975470900535583, 0.4487209618091583, 0.1514396369457245, 0.39951780438423157, 0.7480809092521667, 0.9950676560401917, 0.9989158511161804, 0.9999069571495056, 0.9940357804298401, 0.9961140751838684, 0.9951028823852539, 0.9990879893302917, 0.9997891187667847, 0.38687169551849365, 0.00132360786665231, 0.6116959452629089, 0.999835729598999, 0.9991400241851807, 0.7591992616653442, 0.0428989939391613, 0.1975611448287964, 0.5895686149597168, 0.41036054491996765, 0.9975786209106445, 0.9909831285476685, 0.9995938539505005, 0.99971604347229, 0.9793263673782349, 0.9960557222366333, 0.5087817311286926, 0.1343536227941513, 0.03046817146241665, 0.32615625858306885, 0.9950548410415649, 0.9257100820541382, 0.9940610527992249, 0.9966573119163513, 0.9994921684265137, 0.9955638647079468, 0.9934850931167603, 0.9918989539146423, 0.9994466304779053, 0.9996071457862854, 0.9974716901779175, 0.881748378276825, 0.11745736747980118, 0.0007012379937805235, 0.7278848886489868, 0.11965985596179962, 0.15164268016815186, 0.9973371624946594, 0.3388761878013611, 0.6610857248306274, 0.38605350255966187, 0.18070589005947113, 0.42986100912094116, 0.9995583891868591, 0.995124340057373, 0.9940780401229858, 0.9997782707214355, 0.9997164011001587, 0.5079374313354492, 0.49203383922576904, 0.9983886480331421, 0.9997439980506897, 0.984797477722168, 0.9998342990875244, 0.998566210269928, 0.9909009337425232, 0.00895538181066513, 0.9998525977134705, 0.998264491558075, 0.9922662973403931, 0.9786249399185181, 0.9970773458480835, 0.9986746907234192, 0.9768713116645813, 0.9765403866767883, 0.9994412064552307, 0.997502863407135, 0.9782590270042419, 0.9972476959228516, 0.678632378578186, 0.32094013690948486, 0.9955357313156128, 0.5646169185638428, 0.07697281241416931, 0.3092377185821533, 0.04892149940133095, 0.9689904451370239, 0.9959269165992737, 0.9962350726127625, 0.9991030097007751, 0.9991968870162964, 0.9951508045196533, 0.9954078197479248, 0.9949638247489929, 0.9995692372322083, 0.9998273849487305, 0.9997552633285522, 0.5925467610359192, 0.3892782926559448, 0.018080484122037888, 0.9997819066047668, 0.9998127222061157, 0.9930924773216248, 0.9985343217849731, 0.9989556074142456, 0.9548782706260681, 0.0449988916516304, 0.998245358467102, 0.07826227694749832, 0.9211732149124146, 0.0506022572517395, 0.9476422667503357, 0.9902297854423523, 0.9970059394836426, 0.797457218170166, 0.20247066020965576], \"Term\": [\"ability\", \"able\", \"able\", \"accept\", \"accept\", \"access\", \"accord\", \"accord\", \"account\", \"accounting\", \"accredit\", \"accrue\", \"accurate\", \"accurate\", \"accurate\", \"act\", \"action\", \"active\", \"add\", \"add\", \"add\", \"additional\", \"additional\", \"address\", \"address\", \"adequately\", \"adjust\", \"adjustment\", \"administer\", \"administration\", \"administrative\", \"advance\", \"advertise\", \"advertisement\", \"advise\", \"advise\", \"affect\", \"affect\", \"affect\", \"affect\", \"affected\", \"afford\", \"agency\", \"agency\", \"agent\", \"ago\", \"agreement\", \"ahead\", \"aid\", \"allocate\", \"allow\", \"allow\", \"almost\", \"also\", \"also\", \"also\", \"also\", \"also\", \"always\", \"amend\", \"amount\", \"annual\", \"annually\", \"answer\", \"answer\", \"apologize\", \"apparent\", \"application\", \"applied\", \"apply\", \"apply\", \"apply\", \"apply\", \"appreciate\", \"approximately\", \"approximately\", \"approximately\", \"arrangement\", \"ask\", \"ask\", \"assist\", \"assistance\", \"attach\", \"attachment\", \"attempt\", \"attempt\", \"attempt\", \"attend\", \"attorney\", \"authorization\", \"auto\", \"autodebit\", \"automatic\", \"avail\", \"back\", \"back\", \"backdate\", \"balance\", \"bank\", \"bankruptcy\", \"bar\", \"base\", \"be\", \"be\", \"beg\", \"benefit\", \"billing\", \"blame\", \"borrower\", \"bring\", \"bureau\", \"business\", \"call\", \"can\", \"cancel\", \"capitalization\", \"capitalize\", \"capitalize\", \"capitalized\", \"car\", \"card\", \"card\", \"case\", \"case\", \"case\", \"case\", \"cash\", \"cause\", \"cease\", \"cease_desist\", \"cell\", \"certainly\", \"certificate\", \"certification\", \"certified_mail\", \"certify\", \"certify\", \"cfpb\", \"cfpb\", \"cfpb\", \"change\", \"change\", \"chapter\", \"charge\", \"charging\", \"check\", \"choice\", \"circumstance\", \"citizen\", \"claim\", \"claim\", \"claim\", \"claim\", \"claim\", \"clarification\", \"class\", \"clearly\", \"client\", \"close\", \"close\", \"close\", \"close\", \"closed\", \"co\", \"coborrower\", \"collect\", \"collection\", \"collector\", \"college\", \"combination\", \"communication\", \"communication\", \"company\", \"company\", \"complaint\", \"complete\", \"complete\", \"complete\", \"complete\", \"complete\", \"concern\", \"confirm\", \"confirm\", \"confirm\", \"confirm\", \"confirmation\", \"confirmation\", \"conflicting\", \"consider\", \"consider\", \"consider\", \"consistently\", \"consolidate\", \"consolidate\", \"consolidation\", \"consumer\", \"consumer\", \"contact\", \"contacted\", \"contain\", \"conversation\", \"copy\", \"copy\", \"correct\", \"correct\", \"correct\", \"correspondence\", \"cosigner\", \"cosigner\", \"cost\", \"cost\", \"could\", \"could\", \"count\", \"course\", \"course\", \"court\", \"cover\", \"credit\", \"creditor\", \"current\", \"current\", \"current\", \"customer\", \"d\", \"daily\", \"damage\", \"date\", \"date\", \"date\", \"date\", \"date\", \"daughter\", \"day\", \"day\", \"dear\", \"debit\", \"debt\", \"deceptive\", \"decision\", \"decrease\", \"default\", \"defaulted\", \"defer\", \"defer\", \"defer\", \"deferment\", \"degree\", \"delete\", \"deliberately\", \"delinquent\", \"demand\", \"demand\", \"demand\", \"demand\", \"deny\", \"deny\", \"deny\", \"deny\", \"deny\", \"department\", \"department\", \"department\", \"department\", \"deposit\", \"dept\", \"description\", \"detail\", \"detail\", \"determine\", \"difficult\", \"direct\", \"direct\", \"direct\", \"direct\", \"directly\", \"disburse\", \"disbursement\", \"discharge\", \"disclosure\", \"discount\", \"discover\", \"discrepancy\", \"dispute\", \"disqualify\", \"distribute\", \"document\", \"documentation\", \"dollar\", \"double\", \"drive\", \"drop\", \"drop\", \"drop\", \"due\", \"due\", \"economic\", \"education\", \"education\", \"education\", \"educational\", \"effectively\", \"eligibility\", \"eligible\", \"email\", \"emotionally\", \"employ\", \"employee\", \"employer\", \"employment\", \"employment\", \"engage\", \"enrol\", \"enrol\", \"enrollment\", \"enter\", \"enter\", \"enter\", \"entity\", \"erroneous\", \"error\", \"error\", \"essence\", \"even\", \"ever\", \"evidence\", \"excess\", \"experience\", \"experience\", \"expire\", \"expire\", \"explain\", \"explain\", \"explanation\", \"explanation\", \"explanation\", \"extra\", \"fail\", \"fail\", \"failure\", \"fair\", \"fair\", \"fair\", \"faith\", \"false\", \"false\", \"falsify\", \"feature\", \"federal\", \"federal\", \"fedloan\", \"fee\", \"feel\", \"field\", \"file\", \"filing\", \"filing\", \"filing\", \"fill\", \"financial\", \"find\", \"find\", \"find\", \"find\", \"finish\", \"firm\", \"first\", \"first\", \"first\", \"follow\", \"follow\", \"follow\", \"follow\", \"forbearance\", \"force\", \"forgive\", \"forgive\", \"forgiveness\", \"form\", \"form\", \"fraud\", \"fraud\", \"fraudulent\", \"fraudulent\", \"fraudulent\", \"fraudulently\", \"full\", \"full\", \"full\", \"fund\", \"fund\", \"future\", \"garnishment\", \"generate_verification\", \"get\", \"give\", \"give\", \"give\", \"go\", \"good\", \"government\", \"government\", \"graduate\", \"graduate\", \"graduate\", \"graduation\", \"grandmother\", \"greatly\", \"greatly_tune\", \"grossly\", \"hand\", \"handle\", \"hang\", \"hardship\", \"have\", \"hear\", \"hear\", \"hear\", \"help\", \"high\", \"high\", \"high\", \"highly_recommend\", \"hire\", \"hire\", \"history\", \"history\", \"history\", \"hold\", \"hold\", \"house\", \"however\", \"however\", \"however\", \"however\", \"ibr\", \"identify\", \"idr\", \"ignore\", \"ignore\", \"illegal\", \"illegal\", \"illegal\", \"illegal\", \"immediately\", \"important\", \"impose\", \"impossible\", \"improperly\", \"inability\", \"inaccurate\", \"include\", \"include\", \"include\", \"include\", \"include\", \"include\", \"income\", \"incomebase\", \"incomplete\", \"incorrect\", \"incorrect\", \"incorrect\", \"increase\", \"incur\", \"indicate\", \"indicate\", \"indicate\", \"inform\", \"inform\", \"information\", \"informed\", \"informed\", \"informed\", \"informed\", \"instruct\", \"instruct\", \"instruct\", \"instruction\", \"interest\", \"invalid\", \"investigation\", \"issue\", \"item\", \"item\", \"job\", \"job\", \"judge\", \"keep\", \"key\", \"know\", \"know\", \"large\", \"late\", \"late\", \"law\", \"lawsuit\", \"legal\", \"legal\", \"legal\", \"legitimate\", \"lender\", \"let\", \"letter\", \"life\", \"limited\", \"link\", \"list\", \"list\", \"little_bit\", \"locate\", \"log\", \"low\", \"low\", \"lower\", \"mail\", \"make\", \"make\", \"make\", \"make\", \"manage\", \"manager\", \"many\", \"many\", \"mark\", \"mark\", \"marry\", \"material\", \"may\", \"may\", \"may\", \"may\", \"may\", \"may\", \"medical\", \"member\", \"military\", \"mine\", \"miss\", \"miss\", \"miss\", \"mistake\", \"money\", \"money\", \"monitoring\", \"month\", \"month\", \"month\", \"monthly\", \"monthly\", \"morning\", \"mpn\", \"much\", \"multiple\", \"multiple\", \"name\", \"nature\", \"need\", \"need\", \"negative\", \"nelnet\", \"never\", \"never\", \"never\", \"never\", \"new\", \"new\", \"new\", \"next\", \"non\", \"note\", \"note\", \"notice\", \"notice\", \"notification\", \"number\", \"obligation\", \"obtain\", \"obtain\", \"occasion\", \"odd\", \"offer\", \"official\", \"old\", \"online\", \"online\", \"open\", \"option\", \"option\", \"option\", \"option\", \"original\", \"original\", \"origination\", \"outstanding\", \"overall\", \"overpay\", \"owe\", \"owe\", \"own\", \"owner\", \"page\", \"paper\", \"paper\", \"parent\", \"pay\", \"pay\", \"payback\", \"paycheck\", \"payoff\", \"penalty\", \"people\", \"period\", \"period\", \"period\", \"period\", \"period\", \"period\", \"personal\", \"pertain\", \"phone\", \"phone\", \"place\", \"place\", \"place\", \"place\", \"plan\", \"police\", \"portion\", \"portion\", \"pose\", \"possible\", \"possible\", \"possible\", \"possible\", \"practice\", \"present\", \"principal\", \"principle\", \"prior\", \"prior\", \"prior\", \"private\", \"process\", \"process\", \"profit\", \"program\", \"program\", \"prohibit\", \"promise\", \"promise\", \"proof\", \"prove\", \"provide\", \"provide\", \"provider\", \"pslf\", \"public\", \"pull\", \"pull\", \"pull\", \"pull\", \"purport\", \"qualify\", \"question\", \"question\", \"rate\", \"reach\", \"reach\", \"reach\", \"reapply\", \"reapply\", \"reasonable\", \"recalculate\", \"recall\", \"receipt\", \"receipt\", \"receive\", \"receive\", \"recertification\", \"recertify\", \"recieve\", \"recipient\", \"recognize\", \"recount\", \"reduce\", \"reduction\", \"reevaluate\", \"refer\", \"refer\", \"reference\", \"refinance\", \"reflect\", \"reflect\", \"reflect\", \"reflect\", \"refund\", \"refuse\", \"refuse\", \"refuse\", \"refuse\", \"regard\", \"register\", \"rehabilitation\", \"relate\", \"release\", \"relevant\", \"relief\", \"relieve\", \"remain\", \"remain\", \"remain\", \"remainder\", \"remedy\", \"removal\", \"remove\", \"repay\", \"repayment\", \"report\", \"reporting\", \"representative\", \"request\", \"request\", \"request\", \"request\", \"requested\", \"requested\", \"requested\", \"require\", \"require\", \"require\", \"require\", \"require\", \"require\", \"requirement\", \"requirement\", \"requirement\", \"research\", \"reside\", \"resolution\", \"resolve\", \"respond\", \"response\", \"responsibility\", \"result\", \"result\", \"result\", \"retain\", \"retirement\", \"return\", \"return\", \"return\", \"return\", \"reverse\", \"reverse\", \"revise\", \"revised\", \"right\", \"say\", \"say\", \"scamme\", \"scammer\", \"school\", \"score\", \"second\", \"section\", \"see\", \"see\", \"see\", \"see\", \"seek\", \"seek\", \"sell\", \"send\", \"sequence\", \"seriously_unfavorable\", \"service\", \"service\", \"servicer\", \"servicer\", \"servicer\", \"set\", \"set\", \"set\", \"several\", \"several\", \"shape\", \"share\", \"shock\", \"show\", \"show\", \"show\", \"show\", \"show\", \"side\", \"sign\", \"sign\", \"sign\", \"signature\", \"significant\", \"signing\", \"signing\", \"similar\", \"sincerely\", \"situation\", \"situation\", \"situation\", \"situation_lately\", \"smart\", \"solution\", \"speak\", \"speaking\", \"split\", \"spouse\", \"standard\", \"start\", \"state\", \"state\", \"state\", \"statement\", \"stating\", \"status\", \"status\", \"status\", \"still\", \"still\", \"stress\", \"stressful\", \"struggle\", \"student\", \"studentloansgov\", \"subject\", \"submit\", \"submit\", \"submit\", \"submit\", \"subsequently\", \"subsidiary\", \"success\", \"summary\", \"supervisor\", \"supply\", \"suspect\", \"suspicious\", \"switch\", \"system\", \"tactic\", \"take\", \"take\", \"take\", \"tax\", \"tax\", \"tax\", \"telephone\", \"tell\", \"tell\", \"temporary\", \"temporary\", \"temporary\", \"term\", \"term_condition\", \"theft\", \"thing\", \"think\", \"time\", \"time\", \"timely\", \"today\", \"ton\", \"total\", \"transaction\", \"transfer\", \"transfer\", \"try\", \"tuition\", \"typically\", \"undue\", \"unethical\", \"unfair\", \"union\", \"united_state\", \"university\", \"unpaid\", \"unrealistic\", \"unwilling\", \"update\", \"update\", \"upset\", \"use\", \"use\", \"use\", \"use\", \"used\", \"valid\", \"validate\", \"variable\", \"verify\", \"view\", \"violate\", \"wage_garnishment\", \"wait\", \"want\", \"way\", \"website\", \"website\", \"website\", \"week\", \"well\", \"well_fargo\", \"wife\", \"withdraw\", \"work\", \"work\", \"worth\", \"write\", \"write\", \"writing\", \"writing\", \"xxxx19\", \"xxxxxxxxxxxxxxxx\", \"year\", \"year\"]}, \"R\": 30, \"lambda.step\": 0.01, \"plot.opts\": {\"xlab\": \"PC1\", \"ylab\": \"PC2\"}, \"topic.order\": [18, 15, 8, 5, 2, 13, 3, 10, 7, 6, 19, 11, 12, 4, 9, 16, 14, 20, 1, 17]};\n",
       "\n",
       "function LDAvis_load_lib(url, callback){\n",
       "  var s = document.createElement('script');\n",
       "  s.src = url;\n",
       "  s.async = true;\n",
       "  s.onreadystatechange = s.onload = callback;\n",
       "  s.onerror = function(){console.warn(\"failed to load library \" + url);};\n",
       "  document.getElementsByTagName(\"head\")[0].appendChild(s);\n",
       "}\n",
       "\n",
       "if(typeof(LDAvis) !== \"undefined\"){\n",
       "   // already loaded: just create the visualization\n",
       "   !function(LDAvis){\n",
       "       new LDAvis(\"#\" + \"ldavis_el1414024308242978404145013161\", ldavis_el1414024308242978404145013161_data);\n",
       "   }(LDAvis);\n",
       "}else if(typeof define === \"function\" && define.amd){\n",
       "   // require.js is available: use it to load d3/LDAvis\n",
       "   require.config({paths: {d3: \"https://cdnjs.cloudflare.com/ajax/libs/d3/3.5.5/d3.min\"}});\n",
       "   require([\"d3\"], function(d3){\n",
       "      window.d3 = d3;\n",
       "      LDAvis_load_lib(\"https://cdn.rawgit.com/bmabey/pyLDAvis/files/ldavis.v1.0.0.js\", function(){\n",
       "        new LDAvis(\"#\" + \"ldavis_el1414024308242978404145013161\", ldavis_el1414024308242978404145013161_data);\n",
       "      });\n",
       "    });\n",
       "}else{\n",
       "    // require.js not available: dynamically load d3 & LDAvis\n",
       "    LDAvis_load_lib(\"https://cdnjs.cloudflare.com/ajax/libs/d3/3.5.5/d3.min.js\", function(){\n",
       "         LDAvis_load_lib(\"https://cdn.rawgit.com/bmabey/pyLDAvis/files/ldavis.v1.0.0.js\", function(){\n",
       "                 new LDAvis(\"#\" + \"ldavis_el1414024308242978404145013161\", ldavis_el1414024308242978404145013161_data);\n",
       "            })\n",
       "         });\n",
       "}\n",
       "</script>"
      ],
      "text/plain": [
       "<IPython.core.display.HTML object>"
      ]
     },
     "execution_count": 15,
     "metadata": {},
     "output_type": "execute_result"
    }
   ],
   "source": [
    "pyLDAvis.enable_notebook(local=True)\n",
    "vis = pyLDAvis.gensim.prepare(lda_model, corpus, id2word)\n",
    "pyLDAvis.display(vis)"
   ]
  },
  {
   "cell_type": "markdown",
   "metadata": {},
   "source": [
    "Using the visualization above:\n",
    "On the left is the topics, the larger the bubble the more popular the topic. The closer the bubble is to another bubble the more similar they are. Moving the cursor over a bubble will show new words and bars on the side. These words are the keywords for that selected topic. "
   ]
  },
  {
   "cell_type": "markdown",
   "metadata": {},
   "source": [
    "Now we will be using a slightly more accurate version of the LDA model, LDA Mallet Model. The Mallet model will be slightly more precise."
   ]
  },
  {
   "cell_type": "markdown",
   "metadata": {},
   "source": [
    "import os\n",
    "os.environ.update({\"MALLET_HOME\": r\"C:/Users/danrl/student-loan-complaints/mallet-2.0.8/\"})\n",
    "\n",
    "# Download File: http://mallet.cs.umass.edu/dist/mallet-2.0.8.zip\n",
    "mallet_path = 'student-loan-complaints/mallet-2.0.8/bin/mallet' # update this path\n",
    "ldamallet = gensim.models.wrappers.LdaMallet(mallet_path, corpus=corpus, num_topics=20, id2word=id2word)"
   ]
  },
  {
   "cell_type": "markdown",
   "metadata": {},
   "source": [
    "# Show Topics\n",
    "pprint(ldamallet.show_topics(formatted=False))\n",
    "\n",
    "# Compute Coherence Score\n",
    "coherence_model_ldamallet = CoherenceModel(model=ldamallet, texts=data_lemmatized, dictionary=id2word, coherence=\"c_v\")\n",
    "coherence_ldamallet = coherence_model_ldamallet.get_coherence()\n",
    "print(\"\\nCoherence Score: \", coherence_ldamallet)"
   ]
  },
  {
   "cell_type": "markdown",
   "metadata": {},
   "source": [
    "The code above is set to build an LDA Mallet Model, but it's not working. So, as of right now we will just use the normal LDA Model. But to find the best number of topics we will create a function that builds models with several different numbers of topics and we will return lists of the models with the coherence score outputted by that model. This way we can compare them and see what number of topics outputs the highest coherence scores."
   ]
  },
  {
   "cell_type": "code",
   "execution_count": 16,
   "metadata": {},
   "outputs": [],
   "source": [
    "def compute_coherence_values(dictionary, corpus, texts, limit, start=2, step=3):\n",
    "    \"\"\"\n",
    "    Compute c_v coherence for various number of topics\n",
    "    \n",
    "    Parameters:\n",
    "    -----------\n",
    "    dictionary: Gensim dictionary\n",
    "    corpus: Gensim corpus\n",
    "    texts: List of input texts\n",
    "    limit: Max num of topics\n",
    "    \n",
    "    Returns:\n",
    "    --------\n",
    "    model_list: List of LDA topic models\n",
    "    coherence_values: Coherence values corresponding to the LDA model with respective number of topics\n",
    "    \"\"\"\n",
    "    \n",
    "    coherence_values = []\n",
    "    model_list = []\n",
    "    \n",
    "    for num_topics in range(start, limit, step):\n",
    "        \n",
    "        model = gensim.models.ldamodel.LdaModel(corpus=corpus,\n",
    "                                            id2word=id2word,\n",
    "                                           num_topics=num_topics,\n",
    "                                           random_state=100,\n",
    "                                           update_every=1,\n",
    "                                           chunksize=100,\n",
    "                                           passes=10,\n",
    "                                           alpha=\"auto\",\n",
    "                                           per_word_topics=True)\n",
    "        \n",
    "#         model = gensim.models.wrappers.LdaMallet(mallet_path, corpus=corpus, num_topics=num_topics, id2_word=id2word)\n",
    "        \n",
    "        model_list.append(model)\n",
    "        coherencemodel = CoherenceModel(model=model, texts=texts, dictionary=dictionary, coherence=\"c_v\")\n",
    "        coherence_values.append(coherencemodel.get_coherence())\n",
    "        \n",
    "    return model_list, coherence_values"
   ]
  },
  {
   "cell_type": "code",
   "execution_count": 18,
   "metadata": {},
   "outputs": [],
   "source": [
    "model_list, coherence_values = compute_coherence_values(dictionary=id2word, corpus=corpus, texts=data_lemmatized, start=2, limit=40, step=6)"
   ]
  },
  {
   "cell_type": "code",
   "execution_count": 21,
   "metadata": {},
   "outputs": [
    {
     "data": {
      "image/png": "[encoded data removed]",
      "text/plain": [
       "<Figure size 432x288 with 1 Axes>"
      ]
     },
     "metadata": {
      "needs_background": "light"
     },
     "output_type": "display_data"
    }
   ],
   "source": [
    "# Graph the num_topics compared to coherence_value\n",
    "\n",
    "limit=40; start=2; step=6;\n",
    "x = range(start, limit, step)\n",
    "plt.plot(x, coherence_values)\n",
    "plt.xlabel(\"Num Topics\")\n",
    "plt.ylabel(\"Coherence Score\")\n",
    "plt.legend((\"coherence_values\"), loc=\"best\")\n",
    "plt.show()"
   ]
  },
  {
   "cell_type": "code",
   "execution_count": 23,
   "metadata": {},
   "outputs": [
    {
     "name": "stdout",
     "output_type": "stream",
     "text": [
      "Num Topics = 2 has Coherence Value of 0.3693\n",
      "Num Topics = 8 has Coherence Value of 0.4441\n",
      "Num Topics = 14 has Coherence Value of 0.3751\n",
      "Num Topics = 20 has Coherence Value of 0.3845\n",
      "Num Topics = 26 has Coherence Value of 0.3517\n",
      "Num Topics = 32 has Coherence Value of 0.3683\n",
      "Num Topics = 38 has Coherence Value of 0.3971\n"
     ]
    }
   ],
   "source": [
    "# Print the coherence scores\n",
    "for m, cv in zip(x, coherence_values):\n",
    "    print(f\"Num Topics = {m} has Coherence Value of {round(cv, 4)}\")"
   ]
  },
  {
   "cell_type": "markdown",
   "metadata": {},
   "source": [
    "As we can see above, the model performs a lot better when we have around 8 topics, so we will choose 8 to be our number of topics. It gives the Coherence Value of 0.4441, which is still really low so we will need to find some other ways of tuning the model to get a better performance. "
   ]
  },
  {
   "cell_type": "markdown",
   "metadata": {},
   "source": [
    "While we are here, lets take a look at the topics chosen for this model."
   ]
  },
  {
   "cell_type": "code",
   "execution_count": 24,
   "metadata": {},
   "outputs": [
    {
     "name": "stdout",
     "output_type": "stream",
     "text": [
      "[(0,\n",
      "  '0.040*\"school\" + 0.023*\"private\" + 0.023*\"take\" + 0.022*\"help\" + '\n",
      "  '0.016*\"pay\" + 0.016*\"job\" + 0.016*\"go\" + 0.016*\"never\" + 0.014*\"get\" + '\n",
      "  '0.012*\"money\"'),\n",
      " (1,\n",
      "  '0.036*\"debt\" + 0.028*\"default\" + 0.026*\"file\" + 0.024*\"collection\" + '\n",
      "  '0.021*\"company\" + 0.020*\"complaint\" + 0.020*\"provide\" + 0.018*\"borrower\" + '\n",
      "  '0.017*\"agency\" + 0.016*\"claim\"'),\n",
      " (2,\n",
      "  '0.126*\"receive\" + 0.086*\"send\" + 0.057*\"letter\" + 0.056*\"email\" + '\n",
      "  '0.051*\"request\" + 0.049*\"state\" + 0.029*\"document\" + 0.019*\"mail\" + '\n",
      "  '0.018*\"address\" + 0.017*\"response\"'),\n",
      " (3,\n",
      "  '0.087*\"plan\" + 0.085*\"repayment\" + 0.069*\"income\" + 0.055*\"forbearance\" + '\n",
      "  '0.045*\"application\" + 0.037*\"submit\" + 0.034*\"base\" + 0.032*\"process\" + '\n",
      "  '0.030*\"form\" + 0.023*\"paperwork\"'),\n",
      " (4,\n",
      "  '0.067*\"year\" + 0.042*\"make\" + 0.037*\"time\" + 0.030*\"program\" + 0.028*\"work\" '\n",
      "  '+ 0.022*\"option\" + 0.020*\"forgiveness\" + 0.019*\"service\" + 0.014*\"month\" + '\n",
      "  '0.014*\"qualify\"'),\n",
      " (5,\n",
      "  '0.067*\"call\" + 0.053*\"tell\" + 0.032*\"say\" + 0.026*\"ask\" + 0.023*\"time\" + '\n",
      "  '0.021*\"could\" + 0.019*\"take\" + 0.019*\"get\" + 0.018*\"go\" + 0.017*\"company\"'),\n",
      " (6,\n",
      "  '0.062*\"account\" + 0.039*\"credit\" + 0.029*\"due\" + 0.027*\"report\" + '\n",
      "  '0.025*\"information\" + 0.022*\"late\" + 0.020*\"issue\" + 0.015*\"date\" + '\n",
      "  '0.015*\"service\" + 0.014*\"day\"'),\n",
      " (7,\n",
      "  '0.110*\"pay\" + 0.057*\"amount\" + 0.039*\"month\" + 0.027*\"balance\" + '\n",
      "  '0.027*\"make\" + 0.027*\"monthly\" + 0.026*\"rate\" + 0.024*\"apply\" + '\n",
      "  '0.018*\"charge\" + 0.015*\"principal\"')]\n"
     ]
    }
   ],
   "source": [
    "# Select the best model and print the topics\n",
    "optimal_model = model_list[1]\n",
    "model_topics = optimal_model.show_topics(formatted=False)\n",
    "pprint(optimal_model.print_topics(num_words=10))"
   ]
  },
  {
   "cell_type": "markdown",
   "metadata": {},
   "source": [
    "I'm going to keep this notebook as it is as a base model, duplicate it, and work on the duplicated version to fine tune a few things."
   ]
  }
 ],
 "metadata": {
  "kernelspec": {
   "display_name": "Python 3",
   "language": "python",
   "name": "python3"
  },
  "language_info": {
   "codemirror_mode": {
    "name": "ipython",
    "version": 3
   },
   "file_extension": ".py",
   "mimetype": "text/x-python",
   "name": "python",
   "nbconvert_exporter": "python",
   "pygments_lexer": "ipython3",
   "version": "3.7.3"
  }
 },
 "nbformat": 4,
 "nbformat_minor": 4
}
