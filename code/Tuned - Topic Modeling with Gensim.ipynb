{
 "cells": [
  {
   "cell_type": "markdown",
   "metadata": {},
   "source": [
    "This is the second notebook I'll be using for my LDA model with the customer complaints concerning the student loan data. I'm going to make a few adustments and hopefully get a better score than I did on my last model. I'm doing a different notebook to compare the model and process to the last one so nothing gets lost. The Coherence Score I got from the last model was 0.4441 (which was with 8 topics), which isn't all that good, so here I will see if I can get it above 0.6."
   ]
  },
  {
   "cell_type": "code",
   "execution_count": 1,
   "metadata": {},
   "outputs": [
    {
     "name": "stderr",
     "output_type": "stream",
     "text": [
      "[nltk_data] Downloading package stopwords to\n",
      "[nltk_data]     C:\\Users\\danrl\\AppData\\Roaming\\nltk_data...\n",
      "[nltk_data]   Package stopwords is already up-to-date!\n"
     ]
    },
    {
     "data": {
      "text/plain": [
       "True"
      ]
     },
     "execution_count": 1,
     "metadata": {},
     "output_type": "execute_result"
    }
   ],
   "source": [
    "# Make sure to have nltk and stopwords downloaded\n",
    "import nltk; nltk.download(\"stopwords\")"
   ]
  },
  {
   "cell_type": "code",
   "execution_count": 2,
   "metadata": {},
   "outputs": [],
   "source": [
    "# Import needed packages\n",
    "\n",
    "import re\n",
    "import numpy\n",
    "import pandas as pd\n",
    "from pprint import pprint\n",
    "\n",
    "import gensim\n",
    "import gensim.corpora as corpora\n",
    "from gensim.utils import simple_preprocess\n",
    "from gensim.models import CoherenceModel\n",
    "\n",
    "import spacy\n",
    "\n",
    "import pyLDAvis\n",
    "import pyLDAvis.gensim\n",
    "import matplotlib.pyplot as plt\n",
    "%matplotlib inline\n",
    "\n",
    "import logging\n",
    "logging.basicConfig(format=\"%(asctime)s: %(levelname)s : %(message)s\", level=logging.ERROR)\n",
    "\n",
    "import warnings \n",
    "warnings.filterwarnings(\"ignore\",category=DeprecationWarning)"
   ]
  },
  {
   "cell_type": "code",
   "execution_count": 3,
   "metadata": {},
   "outputs": [],
   "source": [
    "# NLTK stop words\n",
    "from nltk.corpus import stopwords\n",
    "stop_words = stopwords.words(\"english\")\n",
    "stop_words.extend(['from', 'subject', 're', 'edu', 'use'])"
   ]
  },
  {
   "cell_type": "code",
   "execution_count": 4,
   "metadata": {},
   "outputs": [
    {
     "data": {
      "text/html": [
       "<div>\n",
       "<style scoped>\n",
       "    .dataframe tbody tr th:only-of-type {\n",
       "        vertical-align: middle;\n",
       "    }\n",
       "\n",
       "    .dataframe tbody tr th {\n",
       "        vertical-align: top;\n",
       "    }\n",
       "\n",
       "    .dataframe thead th {\n",
       "        text-align: right;\n",
       "    }\n",
       "</style>\n",
       "<table border=\"1\" class=\"dataframe\">\n",
       "  <thead>\n",
       "    <tr style=\"text-align: right;\">\n",
       "      <th></th>\n",
       "      <th>Date received</th>\n",
       "      <th>Sub-product</th>\n",
       "      <th>Issue</th>\n",
       "      <th>Sub-issue</th>\n",
       "      <th>Consumer complaint narrative</th>\n",
       "      <th>Company</th>\n",
       "      <th>State</th>\n",
       "      <th>Tags</th>\n",
       "      <th>Company response to consumer</th>\n",
       "      <th>Timely response?</th>\n",
       "      <th>Consumer disputed?</th>\n",
       "      <th>month</th>\n",
       "      <th>year</th>\n",
       "    </tr>\n",
       "  </thead>\n",
       "  <tbody>\n",
       "    <tr>\n",
       "      <th>0</th>\n",
       "      <td>2020-05-19</td>\n",
       "      <td>Private student loan</td>\n",
       "      <td>Dealing with your lender or servicer</td>\n",
       "      <td>Received bad information about your loan</td>\n",
       "      <td>When I was applying for my loan my XXXX accoun...</td>\n",
       "      <td>Figure Technologies, Inc</td>\n",
       "      <td>NJ</td>\n",
       "      <td>None</td>\n",
       "      <td>Closed with explanation</td>\n",
       "      <td>Yes</td>\n",
       "      <td>NaN</td>\n",
       "      <td>5</td>\n",
       "      <td>2020</td>\n",
       "    </tr>\n",
       "    <tr>\n",
       "      <th>1</th>\n",
       "      <td>2020-02-06</td>\n",
       "      <td>Federal student loan servicing</td>\n",
       "      <td>Incorrect information on your report</td>\n",
       "      <td>Account status incorrect</td>\n",
       "      <td>I'm on a deferred payment plan t never ; late</td>\n",
       "      <td>Nelnet, Inc.</td>\n",
       "      <td>TX</td>\n",
       "      <td>None</td>\n",
       "      <td>Closed with explanation</td>\n",
       "      <td>Yes</td>\n",
       "      <td>NaN</td>\n",
       "      <td>2</td>\n",
       "      <td>2020</td>\n",
       "    </tr>\n",
       "    <tr>\n",
       "      <th>2</th>\n",
       "      <td>2020-02-08</td>\n",
       "      <td>Federal student loan servicing</td>\n",
       "      <td>Dealing with your lender or servicer</td>\n",
       "      <td>Problem with customer service</td>\n",
       "      <td>I have attempted multiple times to contact FED...</td>\n",
       "      <td>AES/PHEAA</td>\n",
       "      <td>KY</td>\n",
       "      <td>None</td>\n",
       "      <td>Closed with non-monetary relief</td>\n",
       "      <td>Yes</td>\n",
       "      <td>NaN</td>\n",
       "      <td>2</td>\n",
       "      <td>2020</td>\n",
       "    </tr>\n",
       "    <tr>\n",
       "      <th>3</th>\n",
       "      <td>2020-01-21</td>\n",
       "      <td>Federal student loan servicing</td>\n",
       "      <td>Dealing with your lender or servicer</td>\n",
       "      <td>Trouble with how payments are being handled</td>\n",
       "      <td>I was divorced in 2004 and I agreed to take th...</td>\n",
       "      <td>AES/PHEAA</td>\n",
       "      <td>OK</td>\n",
       "      <td>None</td>\n",
       "      <td>Closed with explanation</td>\n",
       "      <td>Yes</td>\n",
       "      <td>NaN</td>\n",
       "      <td>1</td>\n",
       "      <td>2020</td>\n",
       "    </tr>\n",
       "    <tr>\n",
       "      <th>4</th>\n",
       "      <td>2019-12-04</td>\n",
       "      <td>Federal student loan servicing</td>\n",
       "      <td>Problem with a credit reporting company's inve...</td>\n",
       "      <td>Their investigation did not fix an error on yo...</td>\n",
       "      <td>This particular account situation that is late...</td>\n",
       "      <td>AES/PHEAA</td>\n",
       "      <td>FL</td>\n",
       "      <td>None</td>\n",
       "      <td>Closed with explanation</td>\n",
       "      <td>Yes</td>\n",
       "      <td>NaN</td>\n",
       "      <td>12</td>\n",
       "      <td>2019</td>\n",
       "    </tr>\n",
       "  </tbody>\n",
       "</table>\n",
       "</div>"
      ],
      "text/plain": [
       "  Date received                     Sub-product  \\\n",
       "0    2020-05-19            Private student loan   \n",
       "1    2020-02-06  Federal student loan servicing   \n",
       "2    2020-02-08  Federal student loan servicing   \n",
       "3    2020-01-21  Federal student loan servicing   \n",
       "4    2019-12-04  Federal student loan servicing   \n",
       "\n",
       "                                               Issue  \\\n",
       "0               Dealing with your lender or servicer   \n",
       "1               Incorrect information on your report   \n",
       "2               Dealing with your lender or servicer   \n",
       "3               Dealing with your lender or servicer   \n",
       "4  Problem with a credit reporting company's inve...   \n",
       "\n",
       "                                           Sub-issue  \\\n",
       "0           Received bad information about your loan   \n",
       "1                           Account status incorrect   \n",
       "2                      Problem with customer service   \n",
       "3        Trouble with how payments are being handled   \n",
       "4  Their investigation did not fix an error on yo...   \n",
       "\n",
       "                        Consumer complaint narrative  \\\n",
       "0  When I was applying for my loan my XXXX accoun...   \n",
       "1      I'm on a deferred payment plan t never ; late   \n",
       "2  I have attempted multiple times to contact FED...   \n",
       "3  I was divorced in 2004 and I agreed to take th...   \n",
       "4  This particular account situation that is late...   \n",
       "\n",
       "                    Company State  Tags     Company response to consumer  \\\n",
       "0  Figure Technologies, Inc    NJ  None          Closed with explanation   \n",
       "1              Nelnet, Inc.    TX  None          Closed with explanation   \n",
       "2                 AES/PHEAA    KY  None  Closed with non-monetary relief   \n",
       "3                 AES/PHEAA    OK  None          Closed with explanation   \n",
       "4                 AES/PHEAA    FL  None          Closed with explanation   \n",
       "\n",
       "  Timely response? Consumer disputed?  month  year  \n",
       "0              Yes                NaN      5  2020  \n",
       "1              Yes                NaN      2  2020  \n",
       "2              Yes                NaN      2  2020  \n",
       "3              Yes                NaN      1  2020  \n",
       "4              Yes                NaN     12  2019  "
      ]
     },
     "execution_count": 4,
     "metadata": {},
     "output_type": "execute_result"
    }
   ],
   "source": [
    "# Get data\n",
    "df = pd.read_csv('../../student-loan-complaints-data/text_analysis_data.csv')\n",
    "df.head()"
   ]
  },
  {
   "cell_type": "markdown",
   "metadata": {},
   "source": [
    "Now that we've imported the necessary packages we will prepare the data to build and feed into the model."
   ]
  },
  {
   "cell_type": "code",
   "execution_count": 8,
   "metadata": {},
   "outputs": [],
   "source": [
    "# A function to preprocess all rows in a dataframe\n",
    "def preprocess_data(data):\n",
    "    # Change all text to lowercase\n",
    "    data = data.apply(lambda x: \" \".join(x.lower() for x in x.split()))\n",
    "    \n",
    "    # Remove puctuation\n",
    "    data = data.str.replace(\"[^\\w\\s]\",\"\")\n",
    "    \n",
    "    # Remove stopwords\n",
    "    from nltk.corpus import stopwords\n",
    "    stop = stopwords.words(\"english\")\n",
    "    data = data.apply(lambda x: \" \".join(x for x in x.split() if x not in stop))\n",
    "    \n",
    "    # Remove any words like \"xx\" words and numbers\n",
    "    data = data.apply(lambda x: \" \".join(x for x in x.split() if \"xx\" not in x))\n",
    "    data = data.apply(lambda x: \" \".join(x for x in x.split() if not x.isnumeric()))\n",
    "    # This round we decided not to remove common words\n",
    "#     freq = pd.Series(\" \".join(data).split()).value_counts()[:10]\n",
    "#     freq = list(freq.index)\n",
    "#     data = data.apply(lambda x: \" \".join(x for x in x.split() if x not in freq))\n",
    "    \n",
    "    # Lemmatization\n",
    "    from textblob import Word\n",
    "    data = data.apply(lambda x: \" \".join([Word(word).lemmatize() for word in x.split()]))\n",
    "    \n",
    "    # Return transformed data\n",
    "    return data\n",
    "\n",
    "# Return the data as a list\n",
    "data = preprocess_data(df[\"Consumer complaint narrative\"])"
   ]
  },
  {
   "cell_type": "code",
   "execution_count": 9,
   "metadata": {},
   "outputs": [
    {
     "name": "stdout",
     "output_type": "stream",
     "text": [
      "[['applying', 'loan', 'account', 'correctly', 'communicate', 'issue', 'offer', 'rate', 'deduction', 'autopay', 'showing', 'account', 'told', 'go', 'application', 'anyway', 'account', 'opened', 'could', 'add', 'autopay', 'receive', 'discount', 'way', 'since', 'account', 'opened', 'called', 'call', 'center', 'least', 'time', 'trying', 'receive', 'autopay', 'discount', 'first', 'time', 'told', 'going', 'applied', 'still', 'seen', 'additionally', 'last', 'time', 'called', 'week', 'ago', 'asked', 'speak', 'manager', 'told', 'would', 'take', 'day', 'get', 'back', 'still', 'yet', 'hear', 'back', 'business', 'day', 'later', 'told', 'would', 'receiving', 'autopay', 'discount', 'receiving', 'opened', 'account', 'company', 'lying', 'rate', 'loan', 'going', 'receive', 'dont', 'autopay', 'initiate', 'autopays', 'go', 'far', 'additional', 'issue', 'told', 'rate', 'going', 'based', 'month', 'libor', 'rate', 'published', 'wsj', 'month', 'none', 'rate', 'received', 'thus', 'far', 'match', 'rate', 'dont', 'really', 'know', 'tried', 'contacting', 'many', 'time', 'people', 'phone', 'seem', 'helpful', 'time', 'talking', 'nothing', 'seems', 'get', 'done', 'hang'], ['im', 'deferred', 'payment', 'plan', 'never', 'late'], ['attempted', 'multiple', 'time', 'contact', 'fedloan', 'via', 'online', 'message', 'regarding', 'payback', 'qualifying', 'payment', 'public', 'health', 'forgiveness', 'program', 'never', 'respond', 'never', 'show', 'proof', 'message', 'call', 'talk', 'agent', 'paper', 'trail', 'call', 'last', 'long', 'time', 'isnt', 'possible', 'call', 'question', 'get', 'discus', 'loan', 'agent', 'detail', 'change', 'per', 'agent', 'simply', 'want', 'total', 'amount', 'payment', 'accurate', 'automated', 'debit', 'since', 'onset', 'time', 'give', 'credit', 'payment', 'paid', 'lowest', 'amount', 'thus', 'fedloan', 'took', 'upon', 'use', 'extra', 'amount', 'add', 'principal', 'requested', 'instead', 'delay', 'counting', 'amount', 'month', 'give', 'written', 'information', 'regarding', 'date', 'consolidated', 'instead', 'year', 'forgiveness', 'date', 'changed', 'arbitrarily', 'talked', 'several', 'people', 'seems', 'common', 'scam', 'fedloans', 'delay', 'year', 'time', 'frame', 'month', 'even', 'year', 'payment']]\n"
     ]
    }
   ],
   "source": [
    "# Tokenize the data\n",
    "data = [sub.split() for sub in data] \n",
    "print(data[:3])"
   ]
  },
  {
   "cell_type": "markdown",
   "metadata": {},
   "source": [
    "Now that we've cleaned and tokenized the data we need to create bigrams and trigrams. Bigrams are two words frequently seen paired together, trigrams are the same but with three words. We will use Gensim's Phrases model to build the bigrams and trigrams."
   ]
  },
  {
   "cell_type": "code",
   "execution_count": 11,
   "metadata": {},
   "outputs": [
    {
     "name": "stdout",
     "output_type": "stream",
     "text": [
      "['applying', 'loan', 'account', 'correctly', 'communicate', 'issue', 'offer', 'rate', 'deduction', 'autopay', 'showing', 'account', 'told', 'go', 'application', 'anyway', 'account', 'opened', 'could', 'add', 'autopay', 'receive', 'discount', 'way', 'since', 'account', 'opened', 'called', 'call', 'center', 'least', 'time', 'trying', 'receive', 'autopay_discount', 'first', 'time', 'told', 'going', 'applied', 'still', 'seen', 'additionally', 'last', 'time', 'called', 'week_ago', 'asked_speak_manager', 'told', 'would', 'take', 'day', 'get', 'back', 'still', 'yet_hear', 'back', 'business_day', 'later', 'told', 'would', 'receiving', 'autopay_discount', 'receiving', 'opened', 'account', 'company', 'lying', 'rate', 'loan', 'going', 'receive', 'dont', 'autopay', 'initiate', 'autopays', 'go', 'far', 'additional', 'issue', 'told', 'rate', 'going', 'based', 'month', 'libor_rate', 'published', 'wsj', 'month', 'none', 'rate', 'received', 'thus_far', 'match', 'rate', 'dont', 'really', 'know', 'tried_contacting', 'many', 'time', 'people', 'phone', 'seem', 'helpful', 'time', 'talking', 'nothing', 'seems', 'get', 'done', 'hang']\n"
     ]
    }
   ],
   "source": [
    "# Build the bigram and trigram models\n",
    "bigram = gensim.models.Phrases(data, min_count=5, threshold=20)\n",
    "trigram = gensim.models.Phrases(bigram[data], threshold=20)\n",
    "\n",
    "bigram_mod = gensim.models.phrases.Phraser(bigram)\n",
    "trigram_mod = gensim.models.phrases.Phraser(trigram)\n",
    "\n",
    "# See trigram example\n",
    "print(trigram_mod[bigram_mod[data[0]]])"
   ]
  },
  {
   "cell_type": "code",
   "execution_count": 12,
   "metadata": {},
   "outputs": [],
   "source": [
    "# As we can see above, out attempt at lemmatizing the data didn't work. We will just try it again.\n",
    "# Here we are defining functions for bigrams, trigrams, and lemmatizing the data\n",
    "\n",
    "def make_bigrams(data):\n",
    "    return [bigram_mod[doc] for doc in data]\n",
    "\n",
    "def make_trigrams(data):\n",
    "    return [trigram_mod[bigram_mod[doc]] for doc in data]\n",
    "\n",
    "def lemmatization(data, allowed_postags=[\"NOUN\", \"ADJ\", \"VERB\", \"ADV\"]):\n",
    "    complaints_out = []\n",
    "    for complaint in data:\n",
    "        doc = nlp(\" \".join(complaint))\n",
    "        complaints_out.append([token.lemma_ for token in doc if token.pos_ in allowed_postags])\n",
    "    return complaints_out"
   ]
  },
  {
   "cell_type": "code",
   "execution_count": 13,
   "metadata": {},
   "outputs": [
    {
     "name": "stdout",
     "output_type": "stream",
     "text": [
      "[['apply', 'loan', 'account', 'correctly', 'communicate', 'issue', 'offer', 'rate', 'deduction', 'autopay', 'show', 'account', 'tell', 'go', 'application', 'account', 'open', 'could', 'add', 'autopay', 'receive', 'discount', 'way', 'account', 'open', 'call', 'center', 'least', 'time', 'try', 'receive', 'first', 'time', 'tell', 'go', 'apply', 'still', 'see', 'additionally', 'last', 'time', 'call', 'ask', 'speak_manag', 'tell', 'would', 'take', 'day', 'back', 'still', 'yet', 'hear', 'back', 'later', 'tell', 'would', 'receive', 'receive', 'open', 'account', 'company', 'lie', 'rate', 'loan', 'go', 'receive', 'autopay', 'autopay', 'go', 'far', 'additional', 'issue', 'tell', 'rate', 'go', 'base', 'month', 'publish', 'month', 'none', 'rate', 'receive', 'thus_far', 'match', 'rate', 'really', 'know', 'tried_contacte', 'many', 'time', 'people', 'phone', 'seem', 'helpful', 'time', 'talk', 'seem', 'get', 'do']]\n"
     ]
    }
   ],
   "source": [
    "# Now we call the functions we build above\n",
    "data_words_bigrams = make_bigrams(data)\n",
    "nlp = spacy.load(\"en\", disable=[\"parser\", \"ner\"])\n",
    "data_lemmatized = lemmatization(data_words_bigrams)\n",
    "\n",
    "print(data_lemmatized[:1])"
   ]
  },
  {
   "cell_type": "markdown",
   "metadata": {},
   "source": [
    "At this point we've created some bi_grams and tri_grams. Now we need to create a dictionary and corpus that's needed for topic modeling."
   ]
  },
  {
   "cell_type": "code",
   "execution_count": 14,
   "metadata": {},
   "outputs": [
    {
     "name": "stdout",
     "output_type": "stream",
     "text": [
      "Corpus format: (word_id, work_frequency)\n",
      "[[(0, 5), (1, 1), (2, 1), (3, 1), (4, 1), (5, 2), (6, 1), (7, 4), (8, 2), (9, 1), (10, 2), (11, 1), (12, 1), (13, 1), (14, 1), (15, 1), (16, 1), (17, 1), (18, 1), (19, 1), (20, 1), (21, 1), (22, 1), (23, 5), (24, 1), (25, 1), (26, 2), (27, 1), (28, 1), (29, 1), (30, 1), (31, 1), (32, 2), (33, 1), (34, 1), (35, 2), (36, 1), (37, 1), (38, 3), (39, 1), (40, 1), (41, 1), (42, 5), (43, 1), (44, 6), (45, 1), (46, 2), (47, 1), (48, 1), (49, 2), (50, 1), (51, 1), (52, 5), (53, 1), (54, 5), (55, 1), (56, 1), (57, 1), (58, 2), (59, 1)]]\n",
      "\n",
      "Readable version of term-frequency:\n",
      "[[('account', 5), ('add', 1), ('additional', 1), ('additionally', 1), ('application', 1), ('apply', 2), ('ask', 1), ('autopay', 4), ('back', 2), ('base', 1), ('call', 2), ('center', 1), ('communicate', 1), ('company', 1), ('correctly', 1), ('could', 1), ('day', 1), ('deduction', 1), ('discount', 1), ('do', 1), ('far', 1), ('first', 1), ('get', 1), ('go', 5), ('hear', 1), ('helpful', 1), ('issue', 2), ('know', 1), ('last', 1), ('later', 1), ('least', 1), ('lie', 1), ('loan', 2), ('many', 1), ('match', 1), ('month', 2), ('none', 1), ('offer', 1), ('open', 3), ('people', 1), ('phone', 1), ('publish', 1), ('rate', 5), ('really', 1), ('receive', 6), ('see', 1), ('seem', 2), ('show', 1), ('speak_manag', 1), ('still', 2), ('take', 1), ('talk', 1), ('tell', 5), ('thus_far', 1), ('time', 5), ('tried_contacte', 1), ('try', 1), ('way', 1), ('would', 2), ('yet', 1)]]\n"
     ]
    }
   ],
   "source": [
    "# Create dictionary\n",
    "id2word = corpora.Dictionary(data_lemmatized)\n",
    "\n",
    "# Create Corpus\n",
    "complaints = data_lemmatized\n",
    "\n",
    "# Term Document Frequency\n",
    "corpus = [id2word.doc2bow(complaint) for complaint in complaints]\n",
    "\n",
    "print(\"Corpus format: (word_id, work_frequency)\")\n",
    "print(corpus[:1])\n",
    "print()\n",
    "print(\"Readable version of term-frequency:\")\n",
    "print([[(id2word[id], freq) for id, freq in cp] for cp in corpus[:1]])"
   ]
  },
  {
   "cell_type": "markdown",
   "metadata": {},
   "source": [
    "Now that we've prepared the data and have everything we need to train the LDA model, we will build it. "
   ]
  },
  {
   "cell_type": "code",
   "execution_count": 22,
   "metadata": {},
   "outputs": [],
   "source": [
    "# Building the LDA model\n",
    "lda_model = gensim.models.ldamodel.LdaModel(corpus=corpus,\n",
    "                                            id2word=id2word,\n",
    "                                           num_topics=8,\n",
    "                                           random_state=100,\n",
    "                                           update_every=1,\n",
    "                                           chunksize=100,\n",
    "                                           passes=10,\n",
    "                                           alpha=\"auto\",\n",
    "                                           per_word_topics=True)"
   ]
  },
  {
   "cell_type": "code",
   "execution_count": 23,
   "metadata": {},
   "outputs": [
    {
     "name": "stdout",
     "output_type": "stream",
     "text": [
      "[(0,\n",
      "  '0.100*\"interest\" + 0.084*\"loan\" + 0.083*\"amount\" + 0.082*\"pay\" + '\n",
      "  '0.069*\"navient\" + 0.048*\"balance\" + 0.034*\"charge\" + 0.031*\"apply\" + '\n",
      "  '0.028*\"principal\" + 0.022*\"total\"'),\n",
      " (1,\n",
      "  '0.056*\"pay\" + 0.035*\"year\" + 0.027*\"go\" + 0.022*\"time\" + 0.021*\"get\" + '\n",
      "  '0.020*\"work\" + 0.018*\"help\" + 0.016*\"try\" + 0.015*\"month\" + 0.015*\"even\"'),\n",
      " (2,\n",
      "  '0.246*\"loan\" + 0.091*\"student\" + 0.027*\"school\" + 0.027*\"company\" + '\n",
      "  '0.027*\"debt\" + 0.018*\"private\" + 0.015*\"federal\" + 0.014*\"service\" + '\n",
      "  '0.013*\"default\" + 0.011*\"program\"'),\n",
      " (3,\n",
      "  '0.037*\"deferment\" + 0.021*\"borrower\" + 0.011*\"practice\" + 0.011*\"allow\" + '\n",
      "  '0.011*\"use\" + 0.010*\"financial\" + 0.010*\"like\" + 0.010*\"force\" + '\n",
      "  '0.010*\"term\" + 0.009*\"repayment\"'),\n",
      " (4,\n",
      "  '0.069*\"call\" + 0.057*\"tell\" + 0.048*\"would\" + 0.038*\"navient\" + 0.033*\"say\" '\n",
      "  '+ 0.027*\"ask\" + 0.019*\"time\" + 0.019*\"could\" + 0.017*\"phone\" + 0.016*\"day\"'),\n",
      " (5,\n",
      "  '0.050*\"account\" + 0.047*\"receive\" + 0.036*\"information\" + 0.034*\"send\" + '\n",
      "  '0.028*\"request\" + 0.026*\"letter\" + 0.022*\"email\" + 0.020*\"state\" + '\n",
      "  '0.017*\"report\" + 0.017*\"provide\"'),\n",
      " (6,\n",
      "  '0.122*\"application\" + 0.105*\"submit\" + 0.078*\"form\" + 0.062*\"process\" + '\n",
      "  '0.036*\"income\" + 0.033*\"request\" + 0.031*\"ibr\" + 0.031*\"complete\" + '\n",
      "  '0.026*\"deny\" + 0.021*\"approve\"'),\n",
      " (7,\n",
      "  '0.209*\"payment\" + 0.065*\"make\" + 0.036*\"month\" + 0.028*\"loan\" + '\n",
      "  '0.025*\"forbearance\" + 0.025*\"monthly\" + 0.025*\"due\" + 0.022*\"plan\" + '\n",
      "  '0.018*\"time\" + 0.017*\"would\"')]\n"
     ]
    }
   ],
   "source": [
    "pprint(lda_model.print_topics())\n",
    "doc_lda = lda_model[corpus]"
   ]
  },
  {
   "cell_type": "code",
   "execution_count": 24,
   "metadata": {},
   "outputs": [
    {
     "name": "stdout",
     "output_type": "stream",
     "text": [
      "Perplexity: -6.654269893658784\n",
      "\n",
      "Coherence score: 0.42528402999884996\n"
     ]
    }
   ],
   "source": [
    "# Compute perplexity\n",
    "print(\"Perplexity:\", lda_model.log_perplexity(corpus))\n",
    "\n",
    "# Compute coherence score\n",
    "coherence_model_lda = CoherenceModel(model=lda_model, texts=data_lemmatized, dictionary=id2word, coherence=\"c_v\")\n",
    "coherence_lda = coherence_model_lda.get_coherence()\n",
    "print(\"\\nCoherence score:\", coherence_lda)"
   ]
  },
  {
   "cell_type": "markdown",
   "metadata": {},
   "source": [
    "We now have a baseline. We will measure the performance of this model mostly using the coherence score. Which our baseline coherence score is 0.38, which is pretty bad (the higher the better). But atleast we have a baseline and we can start working on improving the mdoel from here. \n",
    "\n",
    "The model has been built and can be viewed above. The words displayed above (a couple spaces above are the top words and its weight used to determine that specific topic. There are 20 topics total (0 - 19).\n",
    "\n",
    "Now we will visualize the topics and their keywords using pyLDAvis"
   ]
  },
  {
   "cell_type": "code",
   "execution_count": 25,
   "metadata": {},
   "outputs": [
    {
     "data": {
      "text/html": [
       "\n",
       "<link rel=\"stylesheet\" type=\"text/css\" href=\"https://cdn.rawgit.com/bmabey/pyLDAvis/files/ldavis.v1.0.0.css\">\n",
       "\n",
       "\n",
       "<div id=\"ldavis_el1768022076439704408604855381\"></div>\n",
       "<script type=\"text/javascript\">\n",
       "\n",
       "var ldavis_el1768022076439704408604855381_data = {\"mdsDat\": {\"x\": [0.17999743301457163, 0.1166552016205142, 0.07753935029272323, -0.08636627016676171, 0.09894581312072147, 0.16377650913223601, -0.20507620451261474, -0.3454718325013901], \"y\": [0.13528741470114022, 0.28091412410612565, -0.02416644348440246, 0.13018091512183108, -0.19025216951747653, -0.2652339869941595, -0.03414581795644813, -0.03258403597660992], \"topics\": [1, 2, 3, 4, 5, 6, 7, 8], \"cluster\": [1, 1, 1, 1, 1, 1, 1, 1], \"Freq\": [21.61660385131836, 19.587600708007812, 15.878826141357422, 14.315215110778809, 13.133318901062012, 7.320584297180176, 5.977668762207031, 2.1701819896698]}, \"tinfo\": {\"Term\": [\"payment\", \"loan\", \"pay\", \"student\", \"call\", \"navient\", \"interest\", \"make\", \"tell\", \"amount\", \"account\", \"receive\", \"would\", \"request\", \"say\", \"application\", \"year\", \"month\", \"process\", \"information\", \"balance\", \"send\", \"submit\", \"ask\", \"income\", \"letter\", \"monthly\", \"debt\", \"school\", \"apply\", \"work\", \"help\", \"even\", \"be\", \"afford\", \"job\", \"life\", \"old\", \"can\", \"lower\", \"enough\", \"really\", \"struggle\", \"live\", \"hard\", \"home\", \"please_help\", \"forebearance\", \"bad\", \"let\", \"mother\", \"child\", \"push\", \"qualified\", \"raise\", \"little\", \"care\", \"wife\", \"mortgage\", \"son\", \"people\", \"have\", \"almost\", \"keep\", \"try\", \"able\", \"money\", \"much\", \"get\", \"feel\", \"year\", \"go\", \"think\", \"start\", \"many\", \"well\", \"pay\", \"option\", \"want\", \"way\", \"know\", \"low\", \"income\", \"time\", \"take\", \"never\", \"month\", \"could\", \"make\", \"still\", \"need\", \"back\", \"find\", \"would\", \"call\", \"phone\", \"speak\", \"bank\", \"week\", \"explain\", \"answer\", \"person\", \"refund\", \"agent\", \"message\", \"conversation\", \"withdraw\", \"line\", \"solution\", \"site\", \"info\", \"pull\", \"say\", \"arrangement\", \"run\", \"authorize\", \"car\", \"minute\", \"thought\", \"fault\", \"stated\", \"debit\", \"center\", \"ultimately\", \"tell\", \"ask\", \"check\", \"today\", \"representative\", \"hear\", \"wrong\", \"day\", \"paperwork\", \"would\", \"wait\", \"problem\", \"navient\", \"give\", \"could\", \"different\", \"happen\", \"back\", \"later\", \"number\", \"time\", \"need\", \"take\", \"process\", \"account\", \"see\", \"receive\", \"still\", \"company\", \"state\", \"payment\", \"qualify\", \"pslf\", \"supervisor\", \"schedule\", \"count\", \"switch\", \"automatic\", \"determine\", \"garnishment\", \"overpayment\", \"monthly\", \"standard\", \"timely\", \"recalculate\", \"qualifying\", \"semester\", \"calculation\", \"extend\", \"adjust\", \"resubmit\", \"public_service\", \"pheaa\", \"consecutive\", \"reduction\", \"estimate\", \"adjustment\", \"recertify\", \"jump\", \"penalize\", \"plan\", \"late_fee\", \"forbearance\", \"make\", \"income_base\", \"change\", \"repayment\", \"due\", \"eligible\", \"miss\", \"month\", \"forgiveness\", \"reduce\", \"direct\", \"period\", \"date\", \"program\", \"apply\", \"servicer\", \"time\", \"current\", \"would\", \"loan\", \"amount\", \"new\", \"year\", \"however\", \"begin\", \"first\", \"continue\", \"letter\", \"report\", \"document\", \"remove\", \"address\", \"response\", \"update\", \"nelnet\", \"copy\", \"dispute\", \"proof\", \"respond\", \"attach\", \"verify\", \"communication\", \"negative\", \"credit_report\", \"correspondence\", \"reporting\", \"reply\", \"accurate\", \"delinquency\", \"stating\", \"fax\", \"inaccurate\", \"important\", \"reference\", \"notify\", \"requested\", \"received\", \"access\", \"email\", \"mail\", \"information\", \"send\", \"provide\", \"receive\", \"request\", \"account\", \"regard\", \"show\", \"status\", \"complaint\", \"late\", \"file\", \"state\", \"notice\", \"documentation\", \"correct\", \"credit\", \"error\", \"statement\", \"record\", \"date\", \"contact\", \"issue\", \"also\", \"number\", \"student\", \"private\", \"federal\", \"consolidate\", \"education\", \"consolidation\", \"attend\", \"forgive\", \"debt\", \"discharge\", \"contract\", \"university\", \"collect\", \"lawsuit\", \"class\", \"bankruptcy\", \"fraudulent\", \"fraud\", \"settle\", \"settlement\", \"tuition\", \"aid\", \"attorney\", \"institution\", \"illegal\", \"cosign\", \"involve\", \"purchase\", \"own\", \"sue\", \"lender\", \"release\", \"school\", \"loan\", \"sign\", \"default\", \"repay\", \"close\", \"company\", \"service\", \"collection\", \"scam\", \"government\", \"program\", \"college\", \"complete\", \"contact\", \"also\", \"never\", \"credit\", \"believe\", \"take\", \"forgiveness\", \"interest\", \"balance\", \"principal\", \"fee\", \"rate\", \"accrue\", \"extra\", \"principle\", \"payoff\", \"decrease\", \"capitalized\", \"allocate\", \"unpaid\", \"hit\", \"excess\", \"charge\", \"grow\", \"penalty\", \"encourage\", \"subsidize\", \"disbursement\", \"compound\", \"split\", \"operator\", \"pas\", \"misallocate\", \"balloon\", \"comply\", \"steer\", \"achieve\", \"add\", \"accumulate\", \"total\", \"amount\", \"increase\", \"apply\", \"applied\", \"outstanding\", \"navient\", \"pay\", \"owe\", \"refinance\", \"original\", \"additional\", \"loan\", \"full\", \"high\", \"minimum\", \"capitalize\", \"statement\", \"sell\", \"show\", \"go\", \"deferment\", \"borrower\", \"like\", \"force\", \"parent\", \"benefit\", \"grant\", \"decision\", \"court\", \"ability\", \"seek\", \"prevent\", \"present\", \"opportunity\", \"obligation\", \"policy\", \"unemployed\", \"meet\", \"general\", \"rule\", \"act\", \"enrollment\", \"profit\", \"earn\", \"age\", \"maintain\", \"alternative\", \"share\", \"disclosure\", \"limit\", \"practice\", \"individual\", \"experience\", \"consumer\", \"financial\", \"term\", \"allow\", \"may\", \"fact\", \"base\", \"fail\", \"use\", \"result\", \"order\", \"future\", \"deny\", \"offer\", \"repayment\", \"require\", \"case\", \"employer\", \"consider\", \"period\", \"employment\", \"provide\", \"attempt\", \"application\", \"submit\", \"form\", \"ibr\", \"fedloan\", \"fedloan_service\", \"recertification\", \"idr\", \"deadline\", \"certification\", \"violation\", \"audit\", \"paye\", \"average\", \"sale\", \"participate\", \"specify\", \"spouse\", \"reapplie\", \"incomplete\", \"submission\", \"illegally\", \"allege\", \"allegedly\", \"vsac\", \"challenge\", \"relevant\", \"remedy\", \"download\", \"enormous\", \"fill\", \"processing\", \"process\", \"complete\", \"deny\", \"income\", \"approve\", \"capitalization\", \"review\", \"delay\", \"request\", \"capitalize\", \"require\", \"tax\", \"plan\", \"documentation\", \"new\", \"need\", \"wait\"], \"Freq\": [74069.0, 96210.0, 40468.0, 26678.0, 30059.0, 28021.0, 16323.0, 29832.0, 25312.0, 17509.0, 21265.0, 19543.0, 30910.0, 11104.0, 14419.0, 5930.0, 20885.0, 20765.0, 6680.0, 13360.0, 7846.0, 13020.0, 5070.0, 11960.0, 5603.0, 8265.0, 8801.0, 7872.0, 8734.0, 8607.0, 9484.1396484375, 8536.33984375, 7082.27685546875, 3766.8154296875, 3490.16455078125, 2971.064453125, 1798.715087890625, 1684.4197998046875, 1545.518310546875, 1413.123291015625, 1381.2020263671875, 1318.55810546875, 1268.8155517578125, 1241.4710693359375, 1203.0140380859375, 1173.2357177734375, 1087.3992919921875, 1077.044677734375, 1069.407958984375, 1001.02001953125, 983.2297973632812, 872.6812133789062, 872.5699462890625, 813.7955322265625, 805.6497192382812, 801.1005249023438, 798.5579833984375, 754.6022338867188, 754.7443237304688, 737.3782348632812, 2815.608642578125, 3070.650634765625, 1957.3177490234375, 4111.29248046875, 7864.3896484375, 5343.40625, 6612.50537109375, 2947.521728515625, 10233.6904296875, 2659.658203125, 16815.6328125, 12956.8193359375, 2351.40625, 4868.16455078125, 3197.04736328125, 2974.900634765625, 27023.572265625, 5402.3759765625, 5629.2451171875, 3676.0068359375, 4044.21435546875, 3034.548095703125, 3835.434814453125, 10716.2255859375, 6998.57275390625, 5879.9228515625, 7288.6328125, 5757.88671875, 6637.4814453125, 4388.826171875, 4037.90478515625, 4054.5244140625, 3393.974609375, 3982.193359375, 30058.88671875, 7476.80322265625, 6136.91259765625, 3374.461669921875, 2902.27294921875, 4561.78076171875, 2302.22412109375, 2026.2991943359375, 1734.1219482421875, 1644.003662109375, 1351.0089111328125, 1184.21533203125, 1013.1876831054688, 931.6585083007812, 778.431640625, 710.8868408203125, 683.588623046875, 671.14111328125, 14400.18359375, 622.90380859375, 572.8199462890625, 570.2926025390625, 561.0503540039062, 556.3880615234375, 549.2157592773438, 547.4658813476562, 479.43218994140625, 479.2699279785156, 478.5416259765625, 476.8516540527344, 24810.1640625, 11780.373046875, 4636.16748046875, 2815.458251953125, 5186.451171875, 1638.2667236328125, 1628.8310546875, 6821.5361328125, 2536.600341796875, 20912.423828125, 1891.295166015625, 2435.211181640625, 16651.830078125, 5816.716796875, 8207.9697265625, 2680.2490234375, 2518.65234375, 4961.232421875, 2338.980712890625, 3408.69970703125, 8276.09765625, 4179.181640625, 5173.61962890625, 3377.088623046875, 5327.98095703125, 2859.6318359375, 4468.1416015625, 3299.047607421875, 3271.943603515625, 2857.440673828125, 74068.6640625, 5023.75048828125, 2067.90185546875, 2035.5452880859375, 1416.6099853515625, 1077.25048828125, 1061.6715087890625, 923.4715576171875, 830.054443359375, 660.3524780273438, 596.4622802734375, 8787.9384765625, 570.1912231445312, 537.2420043945312, 506.9536437988281, 483.1625671386719, 483.21240234375, 474.8079833984375, 468.6078186035156, 465.3310852050781, 462.2721862792969, 457.16644287109375, 456.1044921875, 429.4906311035156, 422.61065673828125, 363.35247802734375, 336.1330871582031, 325.9917907714844, 294.3939514160156, 282.8116149902344, 7856.37451171875, 480.0014343261719, 8854.39453125, 23165.328125, 1476.5401611328125, 4880.58251953125, 5395.50537109375, 8767.3193359375, 1606.8055419921875, 1722.6470947265625, 12748.6552734375, 3191.749755859375, 1478.0364990234375, 1584.3616943359375, 1471.436767578125, 3011.453369140625, 3007.114013671875, 3496.280029296875, 1849.6376953125, 6436.45361328125, 1959.292236328125, 6015.58056640625, 10111.6572265625, 4006.86962890625, 2060.694091796875, 4040.3662109375, 2075.63330078125, 1757.0501708984375, 1792.114501953125, 1604.6175537109375, 8264.4853515625, 5540.00439453125, 4214.4267578125, 3137.98388671875, 2738.790771484375, 2540.741943359375, 2073.213623046875, 1987.1336669921875, 1726.49560546875, 1534.684326171875, 1490.82568359375, 1315.5489501953125, 1270.5609130859375, 1196.6483154296875, 1055.8992919921875, 911.693603515625, 907.1615600585938, 902.4010009765625, 772.271484375, 719.3675537109375, 637.5867919921875, 627.2423706054688, 572.67626953125, 550.5907592773438, 534.1958618164062, 501.91802978515625, 499.7484436035156, 1416.1500244140625, 482.9137268066406, 452.6248474121094, 1209.69677734375, 7135.14794921875, 2582.484375, 11442.5712890625, 11023.1865234375, 5414.408203125, 15074.23046875, 8853.828125, 15937.205078125, 3502.678955078125, 4255.34130859375, 2692.475341796875, 2672.75, 4573.541015625, 2932.951416015625, 6424.68603515625, 3034.287353515625, 1936.2989501953125, 2678.458740234375, 4489.15625, 2068.012451171875, 2769.765869140625, 2131.138916015625, 3524.41162109375, 4133.22802734375, 2870.279541015625, 2628.230712890625, 2248.54541015625, 26677.978515625, 5389.61962890625, 4505.03271484375, 2989.12060546875, 2339.271240234375, 2151.106201171875, 1968.801025390625, 1359.2723388671875, 7867.26025390625, 1303.6922607421875, 1186.990478515625, 1129.0623779296875, 1126.70556640625, 1118.976806640625, 1058.778076171875, 884.35400390625, 845.4531860351562, 795.1705932617188, 573.4628295898438, 559.6717529296875, 546.548095703125, 535.0010986328125, 490.31414794921875, 489.03375244140625, 455.76910400390625, 454.3365783691406, 439.30938720703125, 421.4306640625, 394.6933898925781, 554.6887817382812, 2915.887939453125, 593.0267944335938, 8069.5126953125, 72098.359375, 2832.031005859375, 3916.69482421875, 1562.504638671875, 2125.668701171875, 8049.01806640625, 4130.640625, 1993.4107666015625, 767.1400146484375, 1142.2493896484375, 3136.756591796875, 1379.6893310546875, 1579.8790283203125, 2283.765869140625, 2276.178466796875, 2154.781982421875, 1789.0438232421875, 1303.4495849609375, 1692.8409423828125, 1406.0201416015625, 16322.775390625, 7845.48974609375, 4587.50244140625, 2759.9130859375, 2495.103271484375, 1870.9605712890625, 1711.456787109375, 1560.653076171875, 799.570556640625, 676.9791870117188, 525.793212890625, 519.4181518554688, 496.17578125, 415.57574462890625, 357.9531555175781, 5505.6806640625, 341.68951416015625, 312.2419128417969, 277.879638671875, 265.1028747558594, 256.9034423828125, 254.3633270263672, 249.42514038085938, 211.43496704101562, 209.25100708007812, 182.47323608398438, 179.23167419433594, 176.72808837890625, 148.3734893798828, 139.24337768554688, 2309.146484375, 440.9552001953125, 3650.82080078125, 13499.7802734375, 2514.072509765625, 5073.19921875, 728.3936767578125, 502.7853698730469, 11228.029296875, 13444.326171875, 1966.0257568359375, 1027.362060546875, 1713.2977294921875, 1281.4952392578125, 13683.2255859375, 1757.9512939453125, 1355.1693115234375, 768.5582275390625, 715.6553955078125, 1150.6119384765625, 731.6298828125, 948.4572143554688, 859.2545166015625, 4896.89453125, 2738.8818359375, 1347.5838623046875, 1347.461669921875, 1023.987548828125, 1021.1323852539062, 765.95751953125, 723.0001220703125, 702.60302734375, 629.3294067382812, 598.131103515625, 569.5272827148438, 545.1300048828125, 498.9258728027344, 491.7540588378906, 488.4754943847656, 477.4120788574219, 461.2178955078125, 444.52337646484375, 439.1693420410156, 432.8135681152344, 428.1515197753906, 418.19976806640625, 417.4678649902344, 391.94921875, 388.6594543457031, 382.7371520996094, 382.5381164550781, 370.7283020019531, 365.4838562011719, 1492.2418212890625, 662.1748046875, 656.9379272460938, 939.6082763671875, 1382.3568115234375, 1329.2491455078125, 1434.1678466796875, 1123.23486328125, 1127.9884033203125, 1084.671142578125, 841.594970703125, 1407.4844970703125, 1005.1259765625, 1086.953125, 670.9550170898438, 939.2120971679688, 1022.091796875, 1186.280029296875, 842.381591796875, 790.348388671875, 726.8064575195312, 705.6273803710938, 744.46435546875, 690.7069702148438, 753.5140380859375, 710.84228515625, 5929.2119140625, 5069.9970703125, 3763.843994140625, 1495.5128173828125, 776.816162109375, 750.5282592773438, 710.1670532226562, 644.5186767578125, 303.3612060546875, 270.43475341796875, 256.0303955078125, 239.89431762695312, 219.09359741210938, 202.8341522216797, 202.2132568359375, 196.2721710205078, 194.6276092529297, 182.12240600585938, 173.7947540283203, 171.5797882080078, 163.4680938720703, 156.032958984375, 143.950927734375, 137.7729034423828, 135.322021484375, 129.95919799804688, 125.0696792602539, 116.9714584350586, 112.62317657470703, 111.95885467529297, 702.1010131835938, 541.6312255859375, 2991.782470703125, 1490.7855224609375, 1240.1419677734375, 1767.2110595703125, 1003.68359375, 327.0212097167969, 902.67724609375, 348.2835693359375, 1578.645263671875, 459.6795959472656, 475.1733703613281, 307.337890625, 400.41571044921875, 306.6859130859375, 326.89434814453125, 317.1628723144531, 275.4715270996094], \"Total\": [74069.0, 96210.0, 40468.0, 26678.0, 30059.0, 28021.0, 16323.0, 29832.0, 25312.0, 17509.0, 21265.0, 19543.0, 30910.0, 11104.0, 14419.0, 5930.0, 20885.0, 20765.0, 6680.0, 13360.0, 7846.0, 13020.0, 5070.0, 11960.0, 5603.0, 8265.0, 8801.0, 7872.0, 8734.0, 8607.0, 9485.0087890625, 8537.208984375, 7083.5302734375, 3767.683349609375, 3491.0322265625, 2971.93212890625, 1799.582763671875, 1685.287841796875, 1546.3858642578125, 1413.990966796875, 1382.06982421875, 1319.42578125, 1269.683349609375, 1242.338623046875, 1203.8818359375, 1174.1033935546875, 1088.2669677734375, 1077.9129638671875, 1070.275634765625, 1001.8878784179688, 984.0972900390625, 873.548583984375, 873.4386596679688, 814.6641845703125, 806.5176391601562, 801.9682006835938, 799.4261474609375, 755.4702758789062, 755.612548828125, 738.2457885742188, 2900.15625, 3180.39501953125, 2022.3056640625, 4413.912109375, 8797.7822265625, 5941.94970703125, 7467.58935546875, 3175.1884765625, 12015.220703125, 2859.4716796875, 20885.27734375, 15963.5283203125, 2529.82373046875, 5705.3115234375, 3585.357421875, 3314.381591796875, 40468.64453125, 6757.69921875, 7130.048828125, 4416.03271484375, 5347.39306640625, 3871.44091796875, 5603.39599609375, 25557.515625, 13911.9189453125, 12695.3251953125, 20765.587890625, 13966.6044921875, 29832.373046875, 10016.46875, 8852.0849609375, 9016.5048828125, 6050.97021484375, 30910.8203125, 30059.76171875, 7477.68017578125, 6137.78955078125, 3375.339111328125, 2903.150390625, 4563.27978515625, 2303.1015625, 2027.1763916015625, 1734.9990234375, 1644.880859375, 1351.886474609375, 1185.092529296875, 1014.0653076171875, 932.5359497070312, 779.309326171875, 711.7644653320312, 684.466064453125, 672.0186157226562, 14419.5703125, 623.7810668945312, 573.6979370117188, 571.1708374023438, 561.9281005859375, 557.2649536132812, 550.09326171875, 548.3430786132812, 480.3099670410156, 480.1475524902344, 479.41888427734375, 477.7301940917969, 25312.3359375, 11960.130859375, 4776.6494140625, 2928.39306640625, 5499.53466796875, 1737.6512451171875, 1760.9248046875, 8589.048828125, 2965.607666015625, 30910.8203125, 2167.526123046875, 2884.1162109375, 28021.162109375, 8715.8759765625, 13966.6044921875, 3524.625, 3284.871826171875, 9016.5048828125, 3100.110595703125, 5657.99853515625, 25557.515625, 8852.0849609375, 13911.9189453125, 6680.91015625, 21265.9375, 4980.46728515625, 19543.125, 10016.46875, 11827.814453125, 9765.6357421875, 74069.5390625, 5024.626953125, 2068.778076171875, 2036.422607421875, 1417.48681640625, 1078.126708984375, 1062.5479736328125, 924.3479614257812, 830.9324951171875, 661.22998046875, 597.33984375, 8801.1455078125, 571.068603515625, 538.1187744140625, 507.83062744140625, 484.038818359375, 484.0901184082031, 475.68475341796875, 469.4845275878906, 466.2080078125, 463.1499328613281, 458.04241943359375, 456.9816589355469, 430.36712646484375, 423.4870910644531, 364.22930908203125, 337.0098571777344, 326.8684997558594, 295.2709655761719, 283.68890380859375, 8257.548828125, 485.5364074707031, 9804.7978515625, 29832.373046875, 1611.980224609375, 5875.9921875, 6594.56201171875, 11933.7177734375, 1843.796630859375, 2051.38671875, 20765.587890625, 4598.51318359375, 1888.29833984375, 2362.375244140625, 2216.64794921875, 6536.6171875, 6551.6513671875, 8607.56640625, 3393.4228515625, 25557.515625, 3942.78369140625, 30910.8203125, 96210.4140625, 17509.208984375, 4541.3095703125, 20885.27734375, 4747.921875, 3681.431396484375, 4892.7353515625, 5078.6103515625, 8265.3603515625, 5540.8779296875, 4215.30078125, 3138.858154296875, 2739.664794921875, 2541.6162109375, 2074.088134765625, 1988.0074462890625, 1727.3697509765625, 1535.55810546875, 1491.6995849609375, 1316.42333984375, 1271.43505859375, 1197.522705078125, 1056.7734375, 912.5679321289062, 908.0353393554688, 903.2750854492188, 773.1452026367188, 720.2418212890625, 638.4607543945312, 628.11669921875, 573.5505981445312, 551.4647216796875, 535.0697021484375, 502.7928466796875, 500.6227111816406, 1418.6881103515625, 483.7881774902344, 453.4991760253906, 1212.3984375, 7846.3330078125, 2757.366943359375, 13360.705078125, 13020.41015625, 6200.56103515625, 19543.125, 11104.4375, 21265.9375, 4092.254638671875, 5204.55126953125, 3132.981201171875, 3135.526611328125, 6010.36865234375, 3687.41455078125, 9765.6357421875, 3973.766357421875, 2243.7412109375, 3489.529052734375, 7767.0380859375, 2479.296630859375, 3921.131103515625, 2616.7060546875, 6536.6171875, 8817.453125, 6087.4052734375, 9973.462890625, 5657.99853515625, 26678.841796875, 5390.484375, 4505.8974609375, 2989.985595703125, 2340.13623046875, 2151.97119140625, 1969.6656494140625, 1360.1375732421875, 7872.4501953125, 1304.556884765625, 1187.85546875, 1129.9273681640625, 1127.57080078125, 1119.842041015625, 1059.6424560546875, 885.2188110351562, 846.31787109375, 796.0354614257812, 574.3276977539062, 560.5365600585938, 547.4127197265625, 535.8658447265625, 491.1788024902344, 489.89959716796875, 456.634033203125, 455.2015686035156, 440.1754150390625, 422.2957458496094, 395.5584411621094, 555.9640502929688, 2944.35693359375, 596.3880615234375, 8734.98046875, 96210.4140625, 3248.126220703125, 4608.9970703125, 1756.2000732421875, 2524.255615234375, 11827.814453125, 5752.7890625, 2640.555419921875, 833.9545288085938, 1402.334228515625, 6551.6513671875, 2382.205078125, 3337.573486328125, 8817.453125, 9973.462890625, 12695.3251953125, 7767.0380859375, 2708.482421875, 13911.9189453125, 4598.51318359375, 16323.6533203125, 7846.3662109375, 4588.37890625, 2760.790283203125, 2495.98046875, 1871.8372802734375, 1712.333740234375, 1561.5296630859375, 800.447265625, 677.8561401367188, 526.6702270507812, 520.2946166992188, 497.0522766113281, 416.45355224609375, 358.83001708984375, 5519.19873046875, 342.567138671875, 313.119140625, 278.7600402832031, 265.9793701171875, 257.7799377441406, 255.24058532714844, 250.30233764648438, 212.31211853027344, 210.13121032714844, 183.3505401611328, 180.10855102539062, 177.60894775390625, 149.25143432617188, 140.12355041503906, 2407.016357421875, 449.50189208984375, 4094.205810546875, 17509.208984375, 3799.467041015625, 8607.56640625, 900.2066040039062, 588.681884765625, 28021.162109375, 40468.64453125, 3508.580078125, 1553.653564453125, 3203.089111328125, 2367.635986328125, 96210.4140625, 4867.3828125, 3437.329833984375, 1294.108642578125, 1176.093994140625, 3921.131103515625, 1387.984130859375, 5204.55126953125, 15963.5283203125, 4897.76318359375, 2739.750244140625, 1348.4530029296875, 1348.3304443359375, 1024.85595703125, 1022.0006103515625, 766.8260498046875, 723.8685302734375, 703.471435546875, 630.1978759765625, 598.9993286132812, 570.3959350585938, 545.9990234375, 499.79449462890625, 492.6224670410156, 489.3438720703125, 478.28070068359375, 462.0859069824219, 445.3926086425781, 440.0382995605469, 433.6820068359375, 429.01983642578125, 419.0681457519531, 418.3365173339844, 392.8180847167969, 389.52801513671875, 383.6060485839844, 383.4078369140625, 371.59710693359375, 366.352783203125, 1535.1142578125, 750.3731079101562, 801.149169921875, 1331.778076171875, 2393.77197265625, 2669.76953125, 3053.103759765625, 2141.913818359375, 2417.41845703125, 2318.86474609375, 1478.5479736328125, 3978.34814453125, 2126.058349609375, 2676.5732421875, 1030.5247802734375, 2875.25, 3850.270751953125, 6594.56201171875, 2498.809814453125, 2095.175048828125, 1600.60205078125, 1400.537841796875, 2216.64794921875, 1422.8231201171875, 6200.56103515625, 3137.669677734375, 5930.091796875, 5070.876953125, 3764.724365234375, 1496.39306640625, 777.6959228515625, 751.408203125, 711.046630859375, 645.3983764648438, 304.24139404296875, 271.3146667480469, 256.9114990234375, 240.7759552001953, 219.97311401367188, 203.71653747558594, 203.09523010253906, 197.1536407470703, 195.50933837890625, 183.00291442871094, 174.67532348632812, 172.45974731445312, 164.34793090820312, 156.91404724121094, 144.8317413330078, 138.65377807617188, 136.20286560058594, 130.84185791015625, 125.95095825195312, 117.85240936279297, 113.50354766845703, 112.84187316894531, 1018.0301513671875, 784.4921875, 6680.91015625, 3337.573486328125, 2875.25, 5603.39599609375, 2513.39111328125, 516.6881103515625, 2646.7802734375, 620.555419921875, 11104.4375, 1176.093994140625, 2498.809814453125, 1401.0091552734375, 8257.548828125, 2243.7412109375, 4541.3095703125, 8852.0849609375, 2167.526123046875], \"Category\": [\"Default\", \"Default\", \"Default\", \"Default\", \"Default\", \"Default\", \"Default\", \"Default\", \"Default\", \"Default\", \"Default\", \"Default\", \"Default\", \"Default\", \"Default\", \"Default\", \"Default\", \"Default\", \"Default\", \"Default\", \"Default\", \"Default\", \"Default\", \"Default\", \"Default\", \"Default\", \"Default\", \"Default\", \"Default\", \"Default\", \"Topic1\", \"Topic1\", \"Topic1\", \"Topic1\", \"Topic1\", \"Topic1\", \"Topic1\", \"Topic1\", \"Topic1\", \"Topic1\", \"Topic1\", \"Topic1\", \"Topic1\", \"Topic1\", \"Topic1\", \"Topic1\", \"Topic1\", \"Topic1\", \"Topic1\", \"Topic1\", \"Topic1\", \"Topic1\", \"Topic1\", \"Topic1\", \"Topic1\", \"Topic1\", \"Topic1\", \"Topic1\", \"Topic1\", \"Topic1\", \"Topic1\", \"Topic1\", \"Topic1\", \"Topic1\", \"Topic1\", \"Topic1\", \"Topic1\", \"Topic1\", \"Topic1\", \"Topic1\", \"Topic1\", \"Topic1\", \"Topic1\", \"Topic1\", \"Topic1\", \"Topic1\", \"Topic1\", \"Topic1\", \"Topic1\", \"Topic1\", \"Topic1\", \"Topic1\", \"Topic1\", \"Topic1\", \"Topic1\", \"Topic1\", \"Topic1\", \"Topic1\", \"Topic1\", \"Topic1\", \"Topic1\", \"Topic1\", \"Topic1\", \"Topic1\", \"Topic2\", \"Topic2\", \"Topic2\", \"Topic2\", \"Topic2\", \"Topic2\", \"Topic2\", \"Topic2\", \"Topic2\", \"Topic2\", \"Topic2\", \"Topic2\", \"Topic2\", \"Topic2\", \"Topic2\", \"Topic2\", \"Topic2\", \"Topic2\", \"Topic2\", \"Topic2\", \"Topic2\", \"Topic2\", \"Topic2\", \"Topic2\", \"Topic2\", \"Topic2\", \"Topic2\", \"Topic2\", \"Topic2\", \"Topic2\", \"Topic2\", \"Topic2\", \"Topic2\", \"Topic2\", \"Topic2\", \"Topic2\", \"Topic2\", \"Topic2\", \"Topic2\", \"Topic2\", \"Topic2\", \"Topic2\", \"Topic2\", \"Topic2\", \"Topic2\", \"Topic2\", \"Topic2\", \"Topic2\", \"Topic2\", \"Topic2\", \"Topic2\", \"Topic2\", \"Topic2\", \"Topic2\", \"Topic2\", \"Topic2\", \"Topic2\", \"Topic2\", \"Topic2\", \"Topic2\", \"Topic3\", \"Topic3\", \"Topic3\", \"Topic3\", \"Topic3\", \"Topic3\", \"Topic3\", \"Topic3\", \"Topic3\", \"Topic3\", \"Topic3\", \"Topic3\", \"Topic3\", \"Topic3\", \"Topic3\", \"Topic3\", \"Topic3\", \"Topic3\", \"Topic3\", \"Topic3\", \"Topic3\", \"Topic3\", \"Topic3\", \"Topic3\", \"Topic3\", \"Topic3\", \"Topic3\", \"Topic3\", \"Topic3\", \"Topic3\", \"Topic3\", \"Topic3\", \"Topic3\", \"Topic3\", \"Topic3\", \"Topic3\", \"Topic3\", \"Topic3\", \"Topic3\", \"Topic3\", \"Topic3\", \"Topic3\", \"Topic3\", \"Topic3\", \"Topic3\", \"Topic3\", \"Topic3\", \"Topic3\", \"Topic3\", \"Topic3\", \"Topic3\", \"Topic3\", \"Topic3\", \"Topic3\", \"Topic3\", \"Topic3\", \"Topic3\", \"Topic3\", \"Topic3\", \"Topic3\", \"Topic4\", \"Topic4\", \"Topic4\", \"Topic4\", \"Topic4\", \"Topic4\", \"Topic4\", \"Topic4\", \"Topic4\", \"Topic4\", \"Topic4\", \"Topic4\", \"Topic4\", \"Topic4\", \"Topic4\", \"Topic4\", \"Topic4\", \"Topic4\", \"Topic4\", \"Topic4\", \"Topic4\", \"Topic4\", \"Topic4\", \"Topic4\", \"Topic4\", \"Topic4\", \"Topic4\", \"Topic4\", \"Topic4\", \"Topic4\", \"Topic4\", \"Topic4\", \"Topic4\", \"Topic4\", \"Topic4\", \"Topic4\", \"Topic4\", \"Topic4\", \"Topic4\", \"Topic4\", \"Topic4\", \"Topic4\", \"Topic4\", \"Topic4\", \"Topic4\", \"Topic4\", \"Topic4\", \"Topic4\", \"Topic4\", \"Topic4\", \"Topic4\", \"Topic4\", \"Topic4\", \"Topic4\", \"Topic4\", \"Topic4\", \"Topic4\", \"Topic4\", \"Topic5\", \"Topic5\", \"Topic5\", \"Topic5\", \"Topic5\", \"Topic5\", \"Topic5\", \"Topic5\", \"Topic5\", \"Topic5\", \"Topic5\", \"Topic5\", \"Topic5\", \"Topic5\", \"Topic5\", \"Topic5\", \"Topic5\", \"Topic5\", \"Topic5\", \"Topic5\", \"Topic5\", \"Topic5\", \"Topic5\", \"Topic5\", \"Topic5\", \"Topic5\", \"Topic5\", \"Topic5\", \"Topic5\", \"Topic5\", \"Topic5\", \"Topic5\", \"Topic5\", \"Topic5\", \"Topic5\", \"Topic5\", \"Topic5\", \"Topic5\", \"Topic5\", \"Topic5\", \"Topic5\", \"Topic5\", \"Topic5\", \"Topic5\", \"Topic5\", \"Topic5\", \"Topic5\", \"Topic5\", \"Topic5\", \"Topic5\", \"Topic5\", \"Topic5\", \"Topic5\", \"Topic6\", \"Topic6\", \"Topic6\", \"Topic6\", \"Topic6\", \"Topic6\", \"Topic6\", \"Topic6\", \"Topic6\", \"Topic6\", \"Topic6\", \"Topic6\", \"Topic6\", \"Topic6\", \"Topic6\", \"Topic6\", \"Topic6\", \"Topic6\", \"Topic6\", \"Topic6\", \"Topic6\", \"Topic6\", \"Topic6\", \"Topic6\", \"Topic6\", \"Topic6\", \"Topic6\", \"Topic6\", \"Topic6\", \"Topic6\", \"Topic6\", \"Topic6\", \"Topic6\", \"Topic6\", \"Topic6\", \"Topic6\", \"Topic6\", \"Topic6\", \"Topic6\", \"Topic6\", \"Topic6\", \"Topic6\", \"Topic6\", \"Topic6\", \"Topic6\", \"Topic6\", \"Topic6\", \"Topic6\", \"Topic6\", \"Topic6\", \"Topic6\", \"Topic6\", \"Topic6\", \"Topic7\", \"Topic7\", \"Topic7\", \"Topic7\", \"Topic7\", \"Topic7\", \"Topic7\", \"Topic7\", \"Topic7\", \"Topic7\", \"Topic7\", \"Topic7\", \"Topic7\", \"Topic7\", \"Topic7\", \"Topic7\", \"Topic7\", \"Topic7\", \"Topic7\", \"Topic7\", \"Topic7\", \"Topic7\", \"Topic7\", \"Topic7\", \"Topic7\", \"Topic7\", \"Topic7\", \"Topic7\", \"Topic7\", \"Topic7\", \"Topic7\", \"Topic7\", \"Topic7\", \"Topic7\", \"Topic7\", \"Topic7\", \"Topic7\", \"Topic7\", \"Topic7\", \"Topic7\", \"Topic7\", \"Topic7\", \"Topic7\", \"Topic7\", \"Topic7\", \"Topic7\", \"Topic7\", \"Topic7\", \"Topic7\", \"Topic7\", \"Topic7\", \"Topic7\", \"Topic7\", \"Topic7\", \"Topic7\", \"Topic7\", \"Topic8\", \"Topic8\", \"Topic8\", \"Topic8\", \"Topic8\", \"Topic8\", \"Topic8\", \"Topic8\", \"Topic8\", \"Topic8\", \"Topic8\", \"Topic8\", \"Topic8\", \"Topic8\", \"Topic8\", \"Topic8\", \"Topic8\", \"Topic8\", \"Topic8\", \"Topic8\", \"Topic8\", \"Topic8\", \"Topic8\", \"Topic8\", \"Topic8\", \"Topic8\", \"Topic8\", \"Topic8\", \"Topic8\", \"Topic8\", \"Topic8\", \"Topic8\", \"Topic8\", \"Topic8\", \"Topic8\", \"Topic8\", \"Topic8\", \"Topic8\", \"Topic8\", \"Topic8\", \"Topic8\", \"Topic8\", \"Topic8\", \"Topic8\", \"Topic8\", \"Topic8\", \"Topic8\", \"Topic8\", \"Topic8\"], \"logprob\": [30.0, 29.0, 28.0, 27.0, 26.0, 25.0, 24.0, 23.0, 22.0, 21.0, 20.0, 19.0, 18.0, 17.0, 16.0, 15.0, 14.0, 13.0, 12.0, 11.0, 10.0, 9.0, 8.0, 7.0, 6.0, 5.0, 4.0, 3.0, 2.0, 1.0, -3.9305999279022217, -4.035900115966797, -4.222599983215332, -4.854000091552734, -4.930200099945068, -5.091300010681152, -5.593100070953369, -5.65880012512207, -5.744800090789795, -5.834400177001953, -5.8572001457214355, -5.90369987487793, -5.9421000480651855, -5.963900089263916, -5.9953999519348145, -6.020400047302246, -6.096399784088135, -6.105999946594238, -6.113100051879883, -6.179200172424316, -6.1971001625061035, -6.316400051116943, -6.316500186920166, -6.386199951171875, -6.396299839019775, -6.4019999504089355, -6.405099868774414, -6.4618000984191895, -6.461599826812744, -6.484799861907959, -5.144999980926514, -5.058300018310547, -5.508600234985352, -4.766499996185303, -4.117800235748291, -4.504300117492676, -4.291200160980225, -5.0991997718811035, -3.8545000553131104, -5.202000141143799, -3.3578999042510986, -3.6185998916625977, -5.325200080871582, -4.597499847412109, -5.01800012588501, -5.090000152587891, -2.883500099182129, -4.4934000968933105, -4.452199935913086, -4.878399848937988, -4.782899856567383, -5.070099830627441, -4.835899829864502, -3.8083999156951904, -4.234499931335449, -4.408599853515625, -4.193900108337402, -4.429599761962891, -4.287499904632568, -4.701099872589111, -4.7845001220703125, -4.780399799346924, -4.958199977874756, -4.798399925231934, -2.678499937057495, -4.069799900054932, -4.267300128936768, -4.8653998374938965, -5.01609992980957, -4.563899993896484, -5.247700214385986, -5.375400066375732, -5.531099796295166, -5.584499835968018, -5.780799865722656, -5.912499904632568, -6.06850004196167, -6.152400016784668, -6.332099914550781, -6.422900199890137, -6.461999893188477, -6.480400085449219, -3.414400100708008, -6.554999828338623, -6.638800144195557, -6.643199920654297, -6.659599781036377, -6.667900085449219, -6.6809000968933105, -6.684100151062012, -6.816800117492676, -6.8171000480651855, -6.818600177764893, -6.822199821472168, -2.8703999519348145, -3.6152000427246094, -4.547699928283691, -5.046500205993652, -4.4355998039245605, -5.5879998207092285, -5.593800067901611, -4.161499977111816, -5.1508002281188965, -3.041300058364868, -5.444399833679199, -5.1915998458862305, -3.2690999507904053, -4.320899963378906, -3.9765000343322754, -5.095699787139893, -5.157899856567383, -4.480000019073486, -5.231900215148926, -4.855299949645996, -3.9683001041412354, -4.651500225067139, -4.4380998611450195, -4.86460018157959, -4.408699989318848, -5.030900001525879, -4.584700107574463, -4.888000011444092, -4.896200180053711, -5.031700134277344, -1.5666999816894531, -4.257500171661377, -5.145199775695801, -5.160999774932861, -5.523399829864502, -5.797299861907959, -5.8119001388549805, -5.951300144195557, -6.058000087738037, -6.2866997718811035, -6.388500213623047, -3.6982998847961426, -6.433499813079834, -6.493000030517578, -6.551000118255615, -6.599100112915039, -6.598999977111816, -6.616600036621094, -6.629700183868408, -6.63670015335083, -6.6433000564575195, -6.654399871826172, -6.656700134277344, -6.716899871826172, -6.732999801635742, -6.884099960327148, -6.961999893188477, -6.992599964141846, -7.094600200653076, -7.134699821472168, -3.8104000091552734, -6.6057000160217285, -3.6907999515533447, -2.729099988937378, -5.48199987411499, -4.286399841308594, -4.186100006103516, -3.700700044631958, -5.397500038146973, -5.327899932861328, -3.3262999057769775, -4.711100101470947, -5.480999946594238, -5.411499977111816, -5.485499858856201, -4.7692999839782715, -4.770699977874756, -4.619999885559082, -5.256700038909912, -4.009699821472168, -5.199100017547607, -4.077400207519531, -3.558000087738037, -4.483699798583984, -5.14870023727417, -4.475399971008301, -5.14139986038208, -5.30810022354126, -5.288300037384033, -5.398799896240234, -3.656100034713745, -4.056099891662598, -4.329500198364258, -4.624499797821045, -4.760499954223633, -4.835599899291992, -5.039000034332275, -5.081399917602539, -5.2220001220703125, -5.339700222015381, -5.36870002746582, -5.493800163269043, -5.528600215911865, -5.588500022888184, -5.713699817657471, -5.860499858856201, -5.865499973297119, -5.870699882507324, -6.026500225067139, -6.097400188446045, -6.218100070953369, -6.234499931335449, -6.325500011444092, -6.364799976348877, -6.394999980926514, -6.457399845123291, -6.461699962615967, -5.420100212097168, -6.495999813079834, -6.560699939727783, -5.577700138092041, -3.802999973297119, -4.819300174713135, -3.330699920654297, -3.368000030517578, -4.078999996185303, -3.0550999641418457, -3.5871999263763428, -2.9993999004364014, -4.514500141143799, -4.319900035858154, -4.777599811553955, -4.784900188446045, -4.247799873352051, -4.691999912261963, -3.907900094985962, -4.658100128173828, -5.1072998046875, -4.782800197601318, -4.26639986038208, -5.041500091552734, -4.749300003051758, -5.01140022277832, -4.508299827575684, -4.348999977111816, -4.713600158691406, -4.801700115203857, -4.957799911499023, -2.3980000019073486, -3.9974000453948975, -4.176700115203857, -4.586900234222412, -4.831999778747559, -4.915900230407715, -5.004499912261963, -5.374899864196777, -3.6191999912261963, -5.4166998863220215, -5.510499954223633, -5.560500144958496, -5.562600135803223, -5.569499969482422, -5.624800205230713, -5.804800033569336, -5.849800109863281, -5.911099910736084, -6.2378997802734375, -6.26230001449585, -6.285999774932861, -6.307400226593018, -6.394599914550781, -6.397200107574463, -6.467599868774414, -6.470799922943115, -6.50439977645874, -6.546000003814697, -6.611499786376953, -6.271200180053711, -4.611700057983398, -6.204400062561035, -3.5938000679016113, -1.4038000106811523, -4.640900135040283, -4.3165998458862305, -5.235599994659424, -4.927800178527832, -3.596299886703491, -4.263400077819824, -4.992000102996826, -5.947000026702881, -5.548900127410889, -4.538700103759766, -5.360000133514404, -5.2245001792907715, -4.856100082397461, -4.859399795532227, -4.9141998291015625, -5.100200176239014, -5.416900157928467, -5.1554999351501465, -5.341100215911865, -2.3048999309539795, -3.0374999046325684, -3.5741000175476074, -4.082200050354004, -4.18310022354126, -4.4710001945495605, -4.560100078582764, -4.652299880981445, -5.321100234985352, -5.487500190734863, -5.740300178527832, -5.752500057220459, -5.7982001304626465, -5.975500106811523, -6.124800205230713, -3.3915998935699463, -6.171299934387207, -6.26140022277832, -6.377999782562256, -6.425099849700928, -6.456500053405762, -6.466400146484375, -6.486000061035156, -6.651299953460693, -6.661600112915039, -6.798600196838379, -6.816500186920166, -6.830599784851074, -7.00540018081665, -7.068900108337402, -4.260499954223633, -5.916200160980225, -3.802500009536743, -2.4946999549865723, -4.17549991607666, -3.473400115966797, -5.414299964904785, -5.784999847412109, -2.678999900817871, -2.4988999366760254, -4.42140007019043, -5.070400238037109, -4.559000015258789, -4.849400043487549, -2.4811999797821045, -4.533299922943115, -4.793499946594238, -5.3607001304626465, -5.432000160217285, -4.957099914550781, -5.409900188446045, -5.150300025939941, -5.249100208282471, -3.3062000274658203, -3.887200117111206, -4.596399784088135, -4.596499919891357, -4.871099948883057, -4.873799800872803, -5.161399841308594, -5.219099998474121, -5.247700214385986, -5.357900142669678, -5.408699989318848, -5.457699775695801, -5.501500129699707, -5.590099811553955, -5.604499816894531, -5.611199855804443, -5.634099960327148, -5.668600082397461, -5.70550012588501, -5.717599868774414, -5.7322001457214355, -5.743000030517578, -5.766600131988525, -5.7683000564575195, -5.831399917602539, -5.839799880981445, -5.855199813842773, -5.8557000160217285, -5.88700008392334, -5.901299953460693, -4.494500160217285, -5.307000160217285, -5.314899921417236, -4.957099914550781, -4.571000099182129, -4.610099792480469, -4.534200191497803, -4.778500080108643, -4.7743000984191895, -4.813499927520752, -5.067200183868408, -4.552999973297119, -4.889599800109863, -4.811399936676025, -5.293799877166748, -4.957499980926514, -4.872900009155273, -4.723899841308594, -5.066299915313721, -5.130000114440918, -5.213900089263916, -5.2434000968933105, -5.189799785614014, -5.264800071716309, -5.177800178527832, -5.236100196838379, -2.101599931716919, -2.25819993019104, -2.5560998916625977, -3.479099988937378, -4.134099960327148, -4.168499946594238, -4.223800182342529, -4.320799827575684, -5.074399948120117, -5.189300060272217, -5.24399995803833, -5.309100151062012, -5.399799823760986, -5.476900100708008, -5.480000019073486, -5.509799957275391, -5.518199920654297, -5.58459997177124, -5.631400108337402, -5.644199848175049, -5.692699909210205, -5.739200115203857, -5.819799900054932, -5.863699913024902, -5.8815999031066895, -5.922100067138672, -5.960400104522705, -6.027400016784668, -6.065199851989746, -6.071199893951416, -4.235199928283691, -4.494699954986572, -2.7857000827789307, -3.4821999073028564, -3.666300058364868, -3.3120999336242676, -3.8778998851776123, -4.999300003051758, -3.9839000701904297, -4.936299800872803, -3.424999952316284, -4.65880012512207, -4.6255998611450195, -5.061299800872803, -4.796800136566162, -5.063499927520752, -4.99970006942749, -5.029900074005127, -5.17080020904541], \"loglift\": [30.0, 29.0, 28.0, 27.0, 26.0, 25.0, 24.0, 23.0, 22.0, 21.0, 20.0, 19.0, 18.0, 17.0, 16.0, 15.0, 14.0, 13.0, 12.0, 11.0, 10.0, 9.0, 8.0, 7.0, 6.0, 5.0, 4.0, 3.0, 2.0, 1.0, 1.531599998474121, 1.531599998474121, 1.531499981880188, 1.531499981880188, 1.531499981880188, 1.5313999652862549, 1.5312000513076782, 1.5312000513076782, 1.5311000347137451, 1.5311000347137451, 1.5311000347137451, 1.5311000347137451, 1.531000018119812, 1.531000018119812, 1.531000018119812, 1.531000018119812, 1.530900001525879, 1.530900001525879, 1.530900001525879, 1.5307999849319458, 1.5307999849319458, 1.5306999683380127, 1.5306999683380127, 1.5305999517440796, 1.5305999517440796, 1.5305999517440796, 1.5305999517440796, 1.5305999517440796, 1.5305999517440796, 1.530500054359436, 1.5020999908447266, 1.4966000318527222, 1.4989999532699585, 1.4607000350952148, 1.419600009918213, 1.4255000352859497, 1.410099983215332, 1.4572999477386475, 1.3711999654769897, 1.4593000411987305, 1.315000057220459, 1.3229999542236328, 1.4586000442504883, 1.3730000257492065, 1.417099952697754, 1.4235999584197998, 1.1279000043869019, 1.3078999519348145, 1.2954000234603882, 1.3482999801635742, 1.2524000406265259, 1.288100004196167, 1.1526000499725342, 0.6625000238418579, 0.8446999788284302, 0.7620000243186951, 0.4846999943256378, 0.6456000208854675, 0.02879999950528145, 0.7064999938011169, 0.7468000054359436, 0.7325000166893005, 0.953499972820282, -0.5175999999046326, 1.6302000284194946, 1.6302000284194946, 1.6301000118255615, 1.6299999952316284, 1.6299999952316284, 1.6298999786376953, 1.6298999786376953, 1.6297999620437622, 1.6297999620437622, 1.629699945449829, 1.6296000480651855, 1.6295000314712524, 1.6294000148773193, 1.6292999982833862, 1.62909996509552, 1.628999948501587, 1.628999948501587, 1.628999948501587, 1.6289000511169434, 1.6289000511169434, 1.6287000179290771, 1.6287000179290771, 1.6287000179290771, 1.6287000179290771, 1.6287000179290771, 1.6287000179290771, 1.6283999681472778, 1.6283999681472778, 1.6283999681472778, 1.6283999681472778, 1.610200047492981, 1.6151000261306763, 1.6003999710083008, 1.59089994430542, 1.5716999769210815, 1.5714000463485718, 1.552299976348877, 1.399899959564209, 1.4739999771118164, 1.2395000457763672, 1.493899941444397, 1.4610999822616577, 1.1097999811172485, 1.2259000539779663, 1.0987000465393066, 1.3564000129699707, 1.3646999597549438, 1.0328999757766724, 1.3486000299453735, 1.1234999895095825, 0.5026999711990356, 0.8797000050544739, 0.6410999894142151, 0.9480000138282776, 0.24609999358654022, 1.0753999948501587, 0.15459999442100525, 0.5196999907493591, 0.3452000021934509, 0.40130001306533813, 1.8401999473571777, 1.840000033378601, 1.8398000001907349, 1.8398000001907349, 1.8395999670028687, 1.839400053024292, 1.839400053024292, 1.8392000198364258, 1.8391000032424927, 1.8388999700546265, 1.8387000560760498, 1.8387000560760498, 1.8386000394821167, 1.8386000394821167, 1.8385000228881836, 1.8384000062942505, 1.8384000062942505, 1.8382999897003174, 1.8382999897003174, 1.8382999897003174, 1.8382999897003174, 1.8382999897003174, 1.8382999897003174, 1.8380999565124512, 1.8380999565124512, 1.8378000259399414, 1.8375999927520752, 1.837499976158142, 1.8372000455856323, 1.8371000289916992, 1.7904000282287598, 1.8286999464035034, 1.7381999492645264, 1.5872000455856323, 1.7524000406265259, 1.6546000242233276, 1.6395000219345093, 1.5318000316619873, 1.7026000022888184, 1.6655000448226929, 1.3523000478744507, 1.475000023841858, 1.5951999425888062, 1.4407000541687012, 1.430400013923645, 1.0651999711990356, 1.061400055885315, 0.9391999840736389, 1.233299970626831, 0.4611999988555908, 1.1409000158309937, 0.20340000092983246, -0.41269999742507935, 0.36550000309944153, 1.0499999523162842, 0.19750000536441803, 1.0126999616622925, 1.1004999876022339, 0.8357999920845032, 0.6880000233650208, 1.9436999559402466, 1.9436999559402466, 1.943600058555603, 1.943600058555603, 1.94350004196167, 1.94350004196167, 1.9434000253677368, 1.9434000253677368, 1.9433000087738037, 1.9433000087738037, 1.9433000087738037, 1.9431999921798706, 1.9431999921798706, 1.9430999755859375, 1.9429999589920044, 1.9428999423980713, 1.9428999423980713, 1.9428999423980713, 1.9427000284194946, 1.9426000118255615, 1.9424999952316284, 1.9424999952316284, 1.9422999620437622, 1.9422999620437622, 1.942199945449829, 1.9421000480651855, 1.9421000480651855, 1.9421000480651855, 1.9420000314712524, 1.9419000148773193, 1.94159996509552, 1.8487999439239502, 1.8782999515533447, 1.7889000177383423, 1.7773000001907349, 1.8083000183105469, 1.6842000484466553, 1.7173999547958374, 1.655400037765503, 1.7883000373840332, 1.7424999475479126, 1.7922999858856201, 1.7841999530792236, 1.6706000566482544, 1.714900016784668, 1.5250999927520752, 1.6741000413894653, 1.7964999675750732, 1.6792999505996704, 1.3955999612808228, 1.7625000476837158, 1.5961999893188477, 1.7386000156402588, 1.3260999917984009, 1.1862000226974487, 1.1920000314712524, 0.6101999878883362, 1.0211000442504883, 2.0299999713897705, 2.029900074005127, 2.0297999382019043, 2.0297000408172607, 2.029599905014038, 2.029599905014038, 2.029599905014038, 2.029400110244751, 2.029400110244751, 2.029400110244751, 2.0292999744415283, 2.0292999744415283, 2.0292999744415283, 2.0292000770568848, 2.0292000770568848, 2.0290000438690186, 2.0290000438690186, 2.028899908065796, 2.0285000801086426, 2.0285000801086426, 2.02839994430542, 2.02839994430542, 2.0283000469207764, 2.0281999111175537, 2.02810001373291, 2.02810001373291, 2.0280001163482666, 2.0280001163482666, 2.0278000831604004, 2.0276999473571777, 2.0202999114990234, 2.024399995803833, 1.9507999420166016, 1.7415000200271606, 1.892899990081787, 1.867300033569336, 1.9132000207901, 1.858199954032898, 1.6450999975204468, 1.698799967765808, 1.748900055885315, 1.9464999437332153, 1.8249000310897827, 1.2934999465942383, 1.4838000535964966, 1.282099962234497, 0.679099977016449, 0.5526000261306763, 0.2565000057220459, 0.5618000030517578, 1.2985999584197998, -0.0763000026345253, 0.8450000286102295, 2.6143999099731445, 2.6143999099731445, 2.614300012588501, 2.6142001152038574, 2.6140999794006348, 2.614000082015991, 2.614000082015991, 2.6138999462127686, 2.6133999824523926, 2.6131999492645264, 2.612799882888794, 2.612799882888794, 2.6126999855041504, 2.6124000549316406, 2.611999988555908, 2.611999988555908, 2.6119000911712646, 2.6117000579833984, 2.611299991607666, 2.6112000942230225, 2.6110999584198, 2.6110000610351562, 2.6110000610351562, 2.610300064086914, 2.610300064086914, 2.6096999645233154, 2.609600067138672, 2.609499931335449, 2.608599901199341, 2.6082000732421875, 2.572999954223633, 2.5952999591827393, 2.4999001026153564, 2.3543999195098877, 2.2014999389648438, 2.0857999324798584, 2.4026999473571777, 2.4567999839782715, 1.6999000310897827, 1.5125000476837158, 2.0353000164031982, 2.200900077819824, 1.988800048828125, 2.0006000995635986, 0.6640999913215637, 1.5960999727249146, 1.6836999654769897, 2.093400001525879, 2.1177000999450684, 1.3883999586105347, 1.9740999937057495, 0.9120000004768372, -0.3075000047683716, 2.816999912261963, 2.816800117492676, 2.816499948501587, 2.816499948501587, 2.8162999153137207, 2.8162999153137207, 2.815999984741211, 2.8159000873565674, 2.8159000873565674, 2.8157999515533447, 2.815700054168701, 2.8155999183654785, 2.815500020980835, 2.8153998851776123, 2.8153998851776123, 2.8153998851776123, 2.8152999877929688, 2.8152999877929688, 2.815200090408325, 2.815200090408325, 2.8150999546051025, 2.8150999546051025, 2.8150999546051025, 2.8150999546051025, 2.8148999214172363, 2.8148999214172363, 2.8148999214172363, 2.8148999214172363, 2.8148000240325928, 2.8148000240325928, 2.788800001144409, 2.6921000480651855, 2.6187000274658203, 2.4683001041412354, 2.2681000232696533, 2.119800090789795, 2.0615999698638916, 2.1717000007629395, 2.0548999309539795, 2.057300090789795, 2.2535998821258545, 1.7781000137329102, 2.068000078201294, 1.9160000085830688, 2.388000011444092, 1.6983000040054321, 1.4908000230789185, 1.101699948310852, 1.7297999858856201, 1.8422000408172607, 2.0276999473571777, 2.1315999031066895, 1.726099967956543, 2.0945000648498535, 0.7095000147819519, 1.3323999643325806, 3.830199956893921, 3.830199956893921, 3.8301000595092773, 3.8297998905181885, 3.829200029373169, 3.829200029373169, 3.8290998935699463, 3.8289999961853027, 3.827500104904175, 3.8271000385284424, 3.826900005340576, 3.82669997215271, 3.8264000415802, 3.8259999752044678, 3.8259999752044678, 3.825900077819824, 3.8257999420166016, 3.825500011444092, 3.8252999782562256, 3.825200080871582, 3.825000047683716, 3.824700117111206, 3.8243000507354736, 3.8239998817443848, 3.823899984359741, 3.8236000537872314, 3.8232998847961426, 3.8229000568389893, 3.8225998878479004, 3.822499990463257, 3.4588000774383545, 3.45989990234375, 3.0269999504089355, 3.024399995803833, 2.9893999099731445, 2.6763999462127686, 2.912400007247925, 3.3729000091552734, 2.7546000480651855, 3.2527999877929688, 1.8796000480651855, 2.890899896621704, 2.1705000400543213, 2.3134000301361084, 0.8040000200271606, 1.8402999639511108, 1.1990000009536743, 0.5013999938964844, 1.7675000429153442]}, \"token.table\": {\"Topic\": [7, 1, 2, 3, 2, 4, 2, 4, 6, 1, 6, 4, 6, 7, 1, 4, 6, 3, 4, 6, 4, 3, 3, 1, 7, 2, 5, 8, 8, 6, 1, 3, 5, 6, 7, 1, 6, 1, 2, 3, 4, 5, 6, 7, 1, 2, 3, 6, 2, 8, 3, 6, 3, 6, 8, 2, 3, 4, 5, 7, 8, 2, 1, 2, 4, 2, 3, 4, 5, 7, 5, 5, 8, 2, 3, 8, 1, 2, 1, 6, 6, 2, 5, 1, 3, 7, 8, 1, 1, 2, 3, 5, 7, 1, 2, 3, 4, 5, 6, 7, 7, 7, 3, 2, 1, 6, 8, 6, 8, 6, 2, 1, 2, 4, 5, 7, 2, 8, 8, 2, 3, 4, 2, 6, 2, 4, 1, 5, 1, 4, 5, 5, 2, 4, 5, 1, 5, 4, 1, 2, 4, 5, 4, 5, 7, 3, 4, 5, 8, 6, 6, 3, 1, 3, 7, 5, 5, 4, 7, 2, 4, 5, 1, 2, 3, 4, 5, 5, 2, 4, 3, 4, 4, 5, 1, 2, 3, 7, 1, 4, 5, 4, 1, 3, 4, 5, 6, 7, 3, 4, 2, 4, 8, 2, 1, 5, 7, 6, 1, 5, 7, 3, 7, 8, 4, 1, 7, 8, 3, 1, 2, 3, 5, 3, 4, 5, 6, 5, 7, 4, 4, 4, 8, 8, 1, 2, 3, 4, 5, 6, 7, 5, 3, 7, 2, 4, 3, 7, 3, 7, 6, 8, 1, 7, 3, 4, 3, 1, 2, 6, 1, 2, 7, 1, 2, 3, 6, 1, 2, 3, 4, 5, 7, 3, 4, 7, 2, 4, 5, 8, 8, 6, 1, 5, 7, 4, 5, 8, 1, 2, 8, 1, 7, 1, 2, 4, 5, 1, 2, 3, 4, 6, 1, 3, 7, 1, 5, 3, 5, 8, 5, 5, 1, 3, 4, 5, 6, 3, 7, 3, 7, 1, 2, 1, 2, 5, 1, 2, 6, 1, 5, 7, 6, 1, 2, 1, 1, 3, 1, 2, 5, 1, 1, 6, 6, 1, 1, 2, 3, 4, 5, 6, 7, 8, 8, 5, 8, 4, 4, 1, 8, 1, 3, 8, 8, 3, 6, 4, 7, 2, 2, 4, 5, 6, 5, 2, 3, 4, 1, 3, 1, 2, 1, 2, 5, 2, 3, 4, 2, 3, 1, 2, 3, 5, 4, 5, 1, 4, 1, 7, 7, 2, 1, 1, 1, 3, 5, 6, 1, 3, 6, 1, 2, 4, 7, 1, 2, 3, 1, 3, 5, 2, 3, 4, 5, 7, 7, 2, 3, 6, 2, 6, 2, 3, 4, 1, 2, 6, 1, 2, 3, 3, 6, 1, 1, 1, 6, 1, 2, 6, 1, 2, 4, 8, 4, 4, 1, 2, 4, 5, 2, 3, 4, 8, 2, 3, 4, 6, 2, 4, 2, 4, 7, 1, 7, 1, 6, 7, 1, 3, 1, 2, 3, 4, 5, 7, 4, 5, 6, 5, 6, 3, 1, 5, 6, 5, 2, 4, 7, 8, 6, 1, 6, 8, 3, 6, 3, 6, 1, 2, 3, 7, 2, 3, 2, 3, 8, 1, 7, 6, 7, 7, 7, 6, 6, 5, 1, 2, 3, 2, 3, 8, 2, 3, 4, 8, 7, 1, 3, 5, 7, 4, 4, 5, 7, 3, 3, 2, 5, 1, 1, 3, 3, 1, 6, 1, 8, 3, 2, 4, 4, 8, 3, 2, 4, 1, 3, 6, 3, 4, 1, 5, 6, 7, 2, 2, 4, 5, 1, 5, 8, 8, 4, 5, 6, 3, 6, 7, 4, 4, 4, 2, 3, 3, 4, 8, 4, 3, 4, 7, 8, 4, 4, 3, 3, 4, 7, 3, 4, 8, 7, 2, 8, 1, 2, 1, 2, 5, 3, 1, 5, 1, 2, 3, 4, 6, 7, 2, 6, 3, 2, 4, 3, 4, 5, 3, 4, 5, 8, 5, 5, 7, 4, 6, 2, 5, 2, 2, 1, 2, 8, 6, 8, 3, 1, 2, 3, 2, 4, 5, 2, 4, 6, 4, 3, 4, 6, 1, 2, 3, 4, 5, 6, 1, 5, 8, 8, 6, 1, 5, 3, 3, 1, 2, 3, 5, 1, 5, 8, 1, 2, 3, 5, 6, 7, 1, 2, 2, 1, 2, 3, 4, 3, 2, 3, 6, 3, 5, 6, 1, 2, 5, 2, 7, 5, 6, 4, 1, 2, 3, 4, 5, 7, 4, 8, 8, 2, 8, 1, 2, 1, 2, 3, 6, 2, 1, 4, 7, 1, 2, 1, 1, 2, 3, 1, 2, 1, 3, 6], \"Freq\": [0.9980992078781128, 0.8991997838020325, 0.0530129037797451, 0.047627463936805725, 0.0016496226890012622, 0.9980217218399048, 0.2505415081977844, 0.7494143843650818, 0.9995526671409607, 0.017797477543354034, 0.9810859560966492, 0.9992783069610596, 0.9919817447662354, 0.9984273910522461, 0.0394679494202137, 0.0008309041731990874, 0.9592788815498352, 0.24243591725826263, 0.2162494659423828, 0.5410460233688354, 0.9997573494911194, 0.9974088668823242, 0.9970034956932068, 0.9997043013572693, 0.9979174137115479, 0.9994645118713379, 0.9983842372894287, 0.9942572116851807, 0.9952847957611084, 0.9975117444992065, 0.1657329797744751, 0.25056469440460205, 0.025875307619571686, 0.08810706436634064, 0.46968597173690796, 0.9677073359489441, 0.03164704516530037, 0.1588214635848999, 0.25798460841178894, 0.08342137932777405, 0.26349925994873047, 0.2282055914402008, 0.008021285757422447, 0.9984201192855835, 5.711280391551554e-05, 5.711280391551554e-05, 0.22885100543498993, 0.7710228562355042, 0.9995217323303223, 0.9998158812522888, 0.189956396818161, 0.8087032437324524, 0.4061542749404907, 0.5893651843070984, 0.004298543557524681, 0.3186929523944855, 0.037001803517341614, 0.12015639245510101, 0.09509065002202988, 0.02944229356944561, 0.3994603157043457, 0.9987478256225586, 0.014966391026973724, 0.9849390387535095, 0.9996578097343445, 0.09593106806278229, 0.14341853559017181, 0.42866209149360657, 0.10549230128526688, 0.22660128772258759, 0.9996620416641235, 0.9976000785827637, 0.9967772960662842, 0.9979501366615295, 0.9985417127609253, 0.9964826703071594, 0.4497308135032654, 0.5502132177352905, 0.9988081455230713, 0.9998258948326111, 0.9938451051712036, 0.999603271484375, 0.9986231327056885, 0.009487400762736797, 0.4506515562534332, 0.4679013788700104, 0.07158675044775009, 0.9998186230659485, 0.12984080612659454, 0.07469920814037323, 0.477260023355484, 0.30667418241500854, 0.011408605612814426, 0.02621394209563732, 0.018091311678290367, 0.16097575426101685, 0.05316630378365517, 0.4810812175273895, 0.08528761565685272, 0.17537495493888855, 0.9990209341049194, 0.9997261762619019, 0.9985604882240295, 0.9999746680259705, 0.9997504949569702, 0.3657912611961365, 0.6328769326210022, 0.6087948679924011, 0.3911252021789551, 0.9987274408340454, 0.9983483552932739, 0.9994669556617737, 0.1570274531841278, 0.3469877243041992, 0.11836719512939453, 0.3770568072795868, 0.9991262555122375, 0.9951544404029846, 0.9935658574104309, 0.10653519630432129, 0.8306682109832764, 0.0627979040145874, 0.002355414442718029, 0.9976086020469666, 0.970554769039154, 0.029309246689081192, 0.9993720054626465, 0.9993937015533447, 0.04080410674214363, 0.11686613410711288, 0.8422284722328186, 0.9994937777519226, 0.09088996797800064, 0.15413424372673035, 0.7547654509544373, 0.4206187129020691, 0.5792952179908752, 0.999268114566803, 0.04151231795549393, 0.2766360640525818, 0.0013527435949072242, 0.6805145740509033, 0.8524883985519409, 0.047838855534791946, 0.09950481355190277, 0.011685135774314404, 0.0683130994439125, 0.473397821187973, 0.4467317461967468, 0.99657142162323, 0.9951395392417908, 0.9968233704566956, 0.2777504324913025, 0.21777348220348358, 0.5040920376777649, 0.9996703863143921, 0.9995486736297607, 0.2935924530029297, 0.7058233022689819, 0.2721874415874481, 0.4687294661998749, 0.2590317130088806, 0.2516436278820038, 0.043909650295972824, 0.3160313367843628, 0.1545698493719101, 0.23372535407543182, 0.999279797077179, 0.999078094959259, 0.9992070198059082, 0.2321230173110962, 0.7674388289451599, 0.9985883831977844, 0.997360348701477, 0.41226914525032043, 0.5876875519752502, 0.9989549517631531, 0.9993298649787903, 0.19157882034778595, 0.5779551863670349, 0.23033232986927032, 0.9988598227500916, 0.08445809781551361, 0.49685707688331604, 0.25920772552490234, 0.013188651762902737, 0.1455824226140976, 0.000507255841512233, 0.46063581109046936, 0.5391167998313904, 0.7942672371864319, 0.20572708547115326, 0.9959197044372559, 0.9976099729537964, 0.0005081010167486966, 0.9993076920509338, 0.9988001585006714, 0.9987369775772095, 0.15014111995697021, 0.8498595356941223, 0.9998441934585571, 0.3609669506549835, 0.07735006511211395, 0.5607879757881165, 0.9982221722602844, 0.2417181134223938, 0.326580286026001, 0.4312668442726135, 0.998877763748169, 0.12682200968265533, 0.7603645920753479, 0.0865340307354927, 0.02610206790268421, 0.6705116033554077, 0.005926238838583231, 0.32340332865715027, 0.9969744086265564, 0.9995731115341187, 0.9983931183815002, 0.9996365308761597, 0.9996914267539978, 0.8628445863723755, 0.1368250548839569, 0.9955635666847229, 0.033686064183712006, 0.019943492487072945, 0.7346411347389221, 0.16809514164924622, 0.03293190151453018, 0.010642115026712418, 0.9968051910400391, 0.9995144605636597, 0.8715711832046509, 0.1279967576265335, 0.09048812836408615, 0.9093419909477234, 0.5454197525978088, 0.45420408248901367, 0.5137673020362854, 0.48565417528152466, 0.9972735047340393, 0.9925393462181091, 0.999225914478302, 0.9976228475570679, 0.16577282547950745, 0.834107518196106, 0.9966248869895935, 0.999783992767334, 0.00014117253886070102, 0.9976868629455566, 0.14479200541973114, 0.033701587468385696, 0.8200719952583313, 0.00021914062381256372, 0.9997195601463318, 0.9989679455757141, 0.9992210865020752, 0.11375771462917328, 0.1811850219964981, 0.019442226737737656, 0.18987196683883667, 0.02895651012659073, 0.4666134715080261, 0.010821428149938583, 0.420006662607193, 0.5694776177406311, 0.9975506663322449, 0.9991573095321655, 0.9998008012771606, 0.9991051554679871, 0.9994567632675171, 0.9997137188911438, 0.9302417635917664, 0.03532120957970619, 0.03427206352353096, 0.7954082489013672, 0.18549582362174988, 0.018712298944592476, 0.14734338223934174, 0.16207771003246307, 0.6895670294761658, 0.42234599590301514, 0.57733154296875, 0.5609017610549927, 0.26541197299957275, 0.01388207171112299, 0.15980908274650574, 0.09749148041009903, 0.5266992449760437, 0.36625728011131287, 0.0008175385883077979, 0.008584155701100826, 0.09689133614301682, 0.9030272960662842, 0.9990132451057434, 0.9991530179977417, 0.9991636276245117, 0.6941373944282532, 0.3057509958744049, 0.999807596206665, 0.9986992478370667, 0.9984428286552429, 0.2313358187675476, 0.09163035452365875, 0.30036675930023193, 0.015408691018819809, 0.36117973923683167, 0.3483662009239197, 0.6511245369911194, 0.9981398582458496, 0.9991185069084167, 0.8517529964447021, 0.14822866022586823, 0.3160898685455322, 0.6674028038978577, 0.016521574929356575, 0.8116626739501953, 0.13449408113956451, 0.05381016060709953, 0.18469205498695374, 0.8143565058708191, 0.9989227652549744, 0.9983444213867188, 0.23288579285144806, 0.7668488025665283, 0.9992675185203552, 0.9656033515930176, 0.03427247330546379, 0.02014213241636753, 0.9426517486572266, 0.0368313267827034, 0.9998583793640137, 0.6054117679595947, 0.3942013382911682, 0.9989109039306641, 0.9990602135658264, 0.00252742157317698, 0.00021061845473013818, 0.4372439384460449, 0.26221999526023865, 0.19524331390857697, 0.0410705991089344, 0.06150059029459953, 0.9997373223304749, 0.999382734298706, 0.9986115097999573, 0.9941748380661011, 0.9984230995178223, 0.9980008006095886, 0.6844063997268677, 0.3153444826602936, 0.0049628401175141335, 0.9162643551826477, 0.07878508418798447, 0.9973341822624207, 0.33820533752441406, 0.6616717576980591, 0.1159423217177391, 0.8822277784347534, 0.9993190765380859, 0.14348044991493225, 0.8564667701721191, 0.9981637001037598, 0.9999600052833557, 0.9973296523094177, 0.33018994331359863, 0.19811396300792694, 0.47146522998809814, 0.9996863603591919, 0.9956955909729004, 0.9313732981681824, 0.06842003017663956, 0.7562563419342041, 0.2137490212917328, 0.029921121895313263, 0.0018301706295460463, 0.23709028959274292, 0.7610182166099548, 0.01029788888990879, 0.9885973334312439, 0.2261209636926651, 0.7544891834259033, 0.019031578674912453, 0.9992480874061584, 0.009509716182947159, 0.9903690814971924, 0.9991137981414795, 0.9998354315757751, 0.9996761679649353, 0.9996640682220459, 0.9963074326515198, 0.9994252920150757, 0.9987927079200745, 0.9989225268363953, 0.0032948616426438093, 0.10510296374559402, 0.7493783235549927, 0.14221952855587006, 0.7839458584785461, 0.20121707022190094, 0.014723200350999832, 0.999299168586731, 0.06310367584228516, 0.9364005923271179, 0.9986444711685181, 0.22247643768787384, 0.0009720983216539025, 0.7765054702758789, 0.8916823863983154, 0.06721784174442291, 0.04100009799003601, 0.10271187871694565, 0.1615377813577652, 0.18348076939582825, 0.028012331575155258, 0.5242974758148193, 0.9976499676704407, 0.9993442893028259, 0.4056846499443054, 0.5942314267158508, 0.9977300763130188, 0.992634117603302, 0.0014624253381043673, 0.8399196267127991, 0.15842941403388977, 0.8855602145195007, 0.06360821425914764, 0.05088656768202782, 0.3510134220123291, 0.035057999193668365, 0.613948404788971, 0.9985063672065735, 0.0013634589267894626, 0.9991893172264099, 0.9988849759101868, 0.9284487962722778, 0.07149182260036469, 0.005031911190599203, 0.5942651629447937, 0.40069717168807983, 0.4561637341976166, 0.4720921814441681, 0.03581077232956886, 0.03581077232956886, 0.9993776679039001, 0.9994932413101196, 0.4631626009941101, 0.20763549208641052, 0.15942876040935516, 0.1697475165128708, 0.46616509556770325, 0.45383384823799133, 0.007927228696644306, 0.07200565934181213, 0.0020132034551352262, 0.19175761938095093, 0.7635073661804199, 0.042528923600912094, 0.0014097531093284488, 0.9981052279472351, 0.6025098562240601, 0.39749038219451904, 0.9987364411354065, 0.734234094619751, 0.2654358744621277, 0.9992358088493347, 0.9938198328018188, 0.9984103441238403, 0.7993844747543335, 0.20051203668117523, 0.001868060207925737, 0.12852254509925842, 0.28394514322280884, 0.0026152844075113535, 0.17709210515022278, 0.4061162769794464, 0.2107340693473816, 0.25412967801094055, 0.5347962379455566, 0.14439037442207336, 0.8544512987136841, 0.9977569580078125, 0.36795511841773987, 0.07153891026973724, 0.5603406429290771, 0.9985882043838501, 0.8554739356040955, 0.14432117342948914, 0.9991648197174072, 0.9941484928131104, 0.9946166276931763, 0.6677762866020203, 0.3322078287601471, 0.9955762028694153, 0.9999927282333374, 0.9994412064552307, 0.9975716471672058, 0.9964258074760437, 0.9709821939468384, 0.028963956981897354, 0.6636146306991577, 0.33564192056655884, 0.9994196891784668, 0.9978518486022949, 0.9999090433120728, 0.9513719081878662, 0.04844052344560623, 0.9988358020782471, 0.9972537159919739, 0.027359526604413986, 0.9719146490097046, 0.9981702566146851, 0.9993058443069458, 0.9999174475669861, 0.9996607899665833, 0.9999101161956787, 0.1289823204278946, 0.844279408454895, 0.02635122649371624, 0.5054700374603271, 0.04655054211616516, 0.44784316420555115, 0.1312951296567917, 0.11599860340356827, 0.06246078759431839, 0.6908928155899048, 0.99745112657547, 0.05067424848675728, 0.45896825194358826, 0.478810578584671, 0.01144749578088522, 0.9995310306549072, 0.8731467723846436, 0.005160823464393616, 0.121601901948452, 0.9996238946914673, 0.997724175453186, 0.9984842538833618, 0.9969316720962524, 0.9994977712631226, 0.9991847276687622, 0.9998752474784851, 0.9978538751602173, 0.9993581771850586, 0.9996072053909302, 0.999677300453186, 0.9961338639259338, 0.9983643889427185, 0.22862260043621063, 0.7713198661804199, 0.9988992810249329, 0.9985280632972717, 0.9973429441452026, 0.1853475272655487, 0.8143826723098755, 0.05507604405283928, 0.7827153205871582, 0.16205066442489624, 0.9988498091697693, 0.9987561106681824, 0.18279492855072021, 0.016091102734208107, 0.6610225439071655, 0.13967077434062958, 0.9994242191314697, 0.014417479746043682, 0.8560073375701904, 0.1295129507780075, 0.005030281841754913, 0.9943190217018127, 0.9924497604370117, 0.9927671551704407, 0.9997265934944153, 0.8899897336959839, 0.10989636182785034, 0.8182499408721924, 0.0018196811433881521, 0.1798451542854309, 0.9982758164405823, 0.999841570854187, 0.9985187649726868, 0.9429888725280762, 0.05673207342624664, 0.060426294803619385, 0.7973389029502869, 0.14219540357589722, 0.9983708262443542, 0.356969952583313, 0.11565505713224411, 0.33696040511131287, 0.19009049236774445, 0.9996784329414368, 0.9997575283050537, 0.9975171685218811, 0.30996325612068176, 0.2168331891298294, 0.47270575165748596, 0.1960873007774353, 0.4624486565589905, 0.34116923809051514, 0.9976404309272766, 0.9987834692001343, 0.9946073293685913, 0.0013176536886021495, 0.9986428022384644, 0.028778547421097755, 0.05036245658993721, 0.9197143912315369, 0.9996565580368042, 0.07613068073987961, 0.9238715767860413, 0.17086750268936157, 0.5742433071136475, 0.005421177949756384, 0.11986827105283737, 0.129505917429924, 0.9983316659927368, 0.4726278781890869, 0.52738356590271, 0.9977481365203857, 0.1532977819442749, 0.8465939164161682, 0.08256864547729492, 0.19938154518604279, 0.7180864810943604, 0.5451722741127014, 0.14469166100025177, 0.2814267575740814, 0.028584707528352737, 0.9976882338523865, 0.9990427494049072, 0.9989362955093384, 0.817553699016571, 0.1821482628583908, 0.1277659684419632, 0.8718873262405396, 0.9989259839057922, 0.9983198642730713, 0.9983124732971191, 0.9998713731765747, 0.9973948001861572, 0.9947969317436218, 0.9945196509361267, 0.9981287717819214, 0.8532400131225586, 0.06187216937541962, 0.08483322709798813, 0.2925564646720886, 0.6579192876815796, 0.04945914447307587, 0.9972726702690125, 0.7064288258552551, 0.2935377359390259, 0.9990400075912476, 0.14044131338596344, 0.8592454791069031, 0.9916152358055115, 0.4381783604621887, 0.3293575942516327, 0.10253114253282547, 0.09753936529159546, 0.004292930010706186, 0.027953963726758957, 0.9994617700576782, 0.9999684691429138, 0.9917982816696167, 0.9998270869255066, 0.9963178634643555, 0.0017986774910241365, 0.9982659816741943, 0.9997924566268921, 0.9994843006134033, 0.5030937790870667, 0.37191131711006165, 0.003306517144665122, 0.12169421464204788, 0.7744417786598206, 0.005710169672966003, 0.21912775933742523, 0.019792720675468445, 0.9801545143127441, 0.3037715256214142, 0.027343183755874634, 0.17080126702785492, 0.49779579043388367, 0.9293137788772583, 0.07036063075065613, 0.9980126023292542, 0.41928958892822266, 0.3238186538219452, 0.25182417035102844, 0.005008311476558447, 0.9979209303855896, 0.9612780809402466, 0.03312397003173828, 0.0051222629845142365, 0.09086011350154877, 0.017341580241918564, 0.8917480111122131, 0.8938616514205933, 0.10604945570230484, 0.9992460608482361, 0.9984715580940247, 0.9973222613334656, 0.9991792440414429, 0.9978829622268677, 0.999475359916687, 0.25538238883018494, 0.27926161885261536, 0.003267687978222966, 0.008043539710342884, 0.10004152357578278, 0.353664368391037, 0.9995635151863098, 0.9964520931243896, 0.9911685585975647, 0.8724231719970703, 0.12687274813652039, 0.789475679397583, 0.21037724614143372, 0.8324213624000549, 0.07382191717624664, 0.033061347901821136, 0.06068795546889305, 0.9996037483215332, 0.8976033329963684, 0.09473863989114761, 0.00754288537427783, 0.9993774890899658, 0.9989494681358337, 0.9998936653137207, 0.1288222074508667, 0.6765268445014954, 0.1946244090795517, 0.07439272850751877, 0.9250820875167847, 0.8051604628562927, 0.19343769550323486, 0.0013885379303246737], \"Term\": [\"ability\", \"able\", \"able\", \"able\", \"access\", \"access\", \"account\", \"account\", \"accrue\", \"accumulate\", \"accumulate\", \"accurate\", \"achieve\", \"act\", \"add\", \"add\", \"add\", \"additional\", \"additional\", \"additional\", \"address\", \"adjust\", \"adjustment\", \"afford\", \"age\", \"agent\", \"aid\", \"allege\", \"allegedly\", \"allocate\", \"allow\", \"allow\", \"allow\", \"allow\", \"allow\", \"almost\", \"almost\", \"also\", \"also\", \"also\", \"also\", \"also\", \"also\", \"alternative\", \"amount\", \"amount\", \"amount\", \"amount\", \"answer\", \"application\", \"applied\", \"applied\", \"apply\", \"apply\", \"apply\", \"approve\", \"approve\", \"approve\", \"approve\", \"approve\", \"approve\", \"arrangement\", \"ask\", \"ask\", \"attach\", \"attempt\", \"attempt\", \"attempt\", \"attempt\", \"attempt\", \"attend\", \"attorney\", \"audit\", \"authorize\", \"automatic\", \"average\", \"back\", \"back\", \"bad\", \"balance\", \"balloon\", \"bank\", \"bankruptcy\", \"base\", \"base\", \"base\", \"base\", \"be\", \"begin\", \"begin\", \"begin\", \"begin\", \"begin\", \"believe\", \"believe\", \"believe\", \"believe\", \"believe\", \"believe\", \"believe\", \"benefit\", \"borrower\", \"calculation\", \"call\", \"can\", \"capitalization\", \"capitalization\", \"capitalize\", \"capitalize\", \"capitalized\", \"car\", \"care\", \"case\", \"case\", \"case\", \"case\", \"center\", \"certification\", \"challenge\", \"change\", \"change\", \"change\", \"charge\", \"charge\", \"check\", \"check\", \"child\", \"class\", \"close\", \"close\", \"close\", \"collect\", \"collection\", \"collection\", \"collection\", \"college\", \"college\", \"communication\", \"company\", \"company\", \"company\", \"company\", \"complaint\", \"complaint\", \"complaint\", \"complete\", \"complete\", \"complete\", \"complete\", \"comply\", \"compound\", \"consecutive\", \"consider\", \"consider\", \"consider\", \"consolidate\", \"consolidation\", \"consumer\", \"consumer\", \"contact\", \"contact\", \"contact\", \"continue\", \"continue\", \"continue\", \"continue\", \"continue\", \"contract\", \"conversation\", \"copy\", \"correct\", \"correct\", \"correspondence\", \"cosign\", \"could\", \"could\", \"count\", \"court\", \"credit\", \"credit\", \"credit\", \"credit_report\", \"current\", \"current\", \"current\", \"current\", \"current\", \"current\", \"date\", \"date\", \"day\", \"day\", \"deadline\", \"debit\", \"debt\", \"debt\", \"decision\", \"decrease\", \"default\", \"default\", \"deferment\", \"delay\", \"delay\", \"delay\", \"delinquency\", \"deny\", \"deny\", \"deny\", \"determine\", \"different\", \"different\", \"different\", \"different\", \"direct\", \"direct\", \"direct\", \"disbursement\", \"discharge\", \"disclosure\", \"dispute\", \"document\", \"documentation\", \"documentation\", \"download\", \"due\", \"due\", \"due\", \"due\", \"due\", \"due\", \"earn\", \"education\", \"eligible\", \"eligible\", \"email\", \"email\", \"employer\", \"employer\", \"employment\", \"employment\", \"encourage\", \"enormous\", \"enough\", \"enrollment\", \"error\", \"error\", \"estimate\", \"even\", \"even\", \"excess\", \"experience\", \"experience\", \"experience\", \"explain\", \"explain\", \"extend\", \"extra\", \"fact\", \"fact\", \"fact\", \"fact\", \"fact\", \"fact\", \"fail\", \"fail\", \"fail\", \"fault\", \"fax\", \"federal\", \"fedloan\", \"fedloan_service\", \"fee\", \"feel\", \"feel\", \"feel\", \"file\", \"file\", \"file\", \"fill\", \"fill\", \"fill\", \"financial\", \"financial\", \"find\", \"find\", \"find\", \"find\", \"first\", \"first\", \"first\", \"first\", \"first\", \"forbearance\", \"forbearance\", \"force\", \"forebearance\", \"forgive\", \"forgiveness\", \"forgiveness\", \"form\", \"fraud\", \"fraudulent\", \"full\", \"full\", \"full\", \"full\", \"full\", \"future\", \"future\", \"garnishment\", \"general\", \"get\", \"get\", \"give\", \"give\", \"give\", \"go\", \"go\", \"go\", \"government\", \"government\", \"grant\", \"grow\", \"happen\", \"happen\", \"hard\", \"have\", \"have\", \"hear\", \"hear\", \"hear\", \"help\", \"high\", \"high\", \"hit\", \"home\", \"however\", \"however\", \"however\", \"however\", \"however\", \"however\", \"however\", \"ibr\", \"idr\", \"illegal\", \"illegally\", \"important\", \"inaccurate\", \"income\", \"income\", \"income_base\", \"income_base\", \"income_base\", \"incomplete\", \"increase\", \"increase\", \"individual\", \"individual\", \"info\", \"information\", \"information\", \"institution\", \"interest\", \"involve\", \"issue\", \"issue\", \"issue\", \"job\", \"jump\", \"keep\", \"keep\", \"know\", \"know\", \"know\", \"late\", \"late\", \"late\", \"late_fee\", \"late_fee\", \"later\", \"later\", \"later\", \"lawsuit\", \"lender\", \"lender\", \"let\", \"letter\", \"life\", \"like\", \"limit\", \"line\", \"little\", \"live\", \"loan\", \"loan\", \"loan\", \"loan\", \"low\", \"low\", \"low\", \"lower\", \"mail\", \"mail\", \"maintain\", \"make\", \"make\", \"make\", \"many\", \"many\", \"many\", \"may\", \"may\", \"may\", \"may\", \"may\", \"meet\", \"message\", \"minimum\", \"minimum\", \"minute\", \"misallocate\", \"miss\", \"miss\", \"miss\", \"money\", \"money\", \"money\", \"month\", \"month\", \"month\", \"monthly\", \"monthly\", \"mortgage\", \"mother\", \"much\", \"much\", \"navient\", \"navient\", \"navient\", \"need\", \"need\", \"need\", \"need\", \"negative\", \"nelnet\", \"never\", \"never\", \"never\", \"never\", \"new\", \"new\", \"new\", \"new\", \"notice\", \"notice\", \"notice\", \"notice\", \"notify\", \"notify\", \"number\", \"number\", \"obligation\", \"offer\", \"offer\", \"old\", \"operator\", \"opportunity\", \"option\", \"option\", \"order\", \"order\", \"order\", \"order\", \"order\", \"order\", \"original\", \"original\", \"original\", \"outstanding\", \"outstanding\", \"overpayment\", \"owe\", \"owe\", \"owe\", \"own\", \"paperwork\", \"paperwork\", \"parent\", \"participate\", \"pas\", \"pay\", \"pay\", \"paye\", \"payment\", \"payoff\", \"penalize\", \"penalty\", \"people\", \"people\", \"period\", \"period\", \"person\", \"pheaa\", \"phone\", \"plan\", \"plan\", \"please_help\", \"policy\", \"practice\", \"practice\", \"present\", \"prevent\", \"principal\", \"principle\", \"private\", \"problem\", \"problem\", \"problem\", \"process\", \"process\", \"process\", \"processing\", \"processing\", \"processing\", \"processing\", \"profit\", \"program\", \"program\", \"program\", \"program\", \"proof\", \"provide\", \"provide\", \"provide\", \"pslf\", \"public_service\", \"pull\", \"purchase\", \"push\", \"qualified\", \"qualify\", \"qualifying\", \"raise\", \"rate\", \"really\", \"reapplie\", \"recalculate\", \"receive\", \"receive\", \"received\", \"recertification\", \"recertify\", \"record\", \"record\", \"reduce\", \"reduce\", \"reduce\", \"reduction\", \"reference\", \"refinance\", \"refinance\", \"refinance\", \"refinance\", \"refund\", \"regard\", \"regard\", \"regard\", \"release\", \"release\", \"relevant\", \"remedy\", \"remove\", \"repay\", \"repay\", \"repayment\", \"repayment\", \"repayment\", \"reply\", \"report\", \"reporting\", \"representative\", \"representative\", \"request\", \"request\", \"request\", \"requested\", \"require\", \"require\", \"require\", \"require\", \"respond\", \"response\", \"resubmit\", \"result\", \"result\", \"result\", \"review\", \"review\", \"review\", \"rule\", \"run\", \"sale\", \"say\", \"say\", \"scam\", \"scam\", \"scam\", \"schedule\", \"school\", \"school\", \"see\", \"see\", \"see\", \"see\", \"see\", \"seek\", \"sell\", \"sell\", \"semester\", \"send\", \"send\", \"service\", \"service\", \"service\", \"servicer\", \"servicer\", \"servicer\", \"servicer\", \"settle\", \"settlement\", \"share\", \"show\", \"show\", \"sign\", \"sign\", \"site\", \"solution\", \"son\", \"speak\", \"specify\", \"split\", \"spouse\", \"standard\", \"start\", \"start\", \"start\", \"state\", \"state\", \"state\", \"stated\", \"statement\", \"statement\", \"stating\", \"status\", \"status\", \"steer\", \"still\", \"still\", \"still\", \"still\", \"still\", \"still\", \"struggle\", \"student\", \"submission\", \"submit\", \"subsidize\", \"sue\", \"sue\", \"supervisor\", \"switch\", \"take\", \"take\", \"take\", \"take\", \"tax\", \"tax\", \"tax\", \"tell\", \"tell\", \"term\", \"term\", \"term\", \"term\", \"think\", \"think\", \"thought\", \"time\", \"time\", \"time\", \"time\", \"timely\", \"today\", \"today\", \"today\", \"total\", \"total\", \"total\", \"try\", \"try\", \"tuition\", \"ultimately\", \"unemployed\", \"university\", \"unpaid\", \"update\", \"use\", \"use\", \"use\", \"use\", \"use\", \"use\", \"verify\", \"violation\", \"vsac\", \"wait\", \"wait\", \"want\", \"want\", \"way\", \"way\", \"way\", \"way\", \"week\", \"well\", \"well\", \"well\", \"wife\", \"withdraw\", \"work\", \"would\", \"would\", \"would\", \"wrong\", \"wrong\", \"year\", \"year\", \"year\"]}, \"R\": 30, \"lambda.step\": 0.01, \"plot.opts\": {\"xlab\": \"PC1\", \"ylab\": \"PC2\"}, \"topic.order\": [2, 5, 8, 6, 3, 1, 4, 7]};\n",
       "\n",
       "function LDAvis_load_lib(url, callback){\n",
       "  var s = document.createElement('script');\n",
       "  s.src = url;\n",
       "  s.async = true;\n",
       "  s.onreadystatechange = s.onload = callback;\n",
       "  s.onerror = function(){console.warn(\"failed to load library \" + url);};\n",
       "  document.getElementsByTagName(\"head\")[0].appendChild(s);\n",
       "}\n",
       "\n",
       "if(typeof(LDAvis) !== \"undefined\"){\n",
       "   // already loaded: just create the visualization\n",
       "   !function(LDAvis){\n",
       "       new LDAvis(\"#\" + \"ldavis_el1768022076439704408604855381\", ldavis_el1768022076439704408604855381_data);\n",
       "   }(LDAvis);\n",
       "}else if(typeof define === \"function\" && define.amd){\n",
       "   // require.js is available: use it to load d3/LDAvis\n",
       "   require.config({paths: {d3: \"https://cdnjs.cloudflare.com/ajax/libs/d3/3.5.5/d3.min\"}});\n",
       "   require([\"d3\"], function(d3){\n",
       "      window.d3 = d3;\n",
       "      LDAvis_load_lib(\"https://cdn.rawgit.com/bmabey/pyLDAvis/files/ldavis.v1.0.0.js\", function(){\n",
       "        new LDAvis(\"#\" + \"ldavis_el1768022076439704408604855381\", ldavis_el1768022076439704408604855381_data);\n",
       "      });\n",
       "    });\n",
       "}else{\n",
       "    // require.js not available: dynamically load d3 & LDAvis\n",
       "    LDAvis_load_lib(\"https://cdnjs.cloudflare.com/ajax/libs/d3/3.5.5/d3.min.js\", function(){\n",
       "         LDAvis_load_lib(\"https://cdn.rawgit.com/bmabey/pyLDAvis/files/ldavis.v1.0.0.js\", function(){\n",
       "                 new LDAvis(\"#\" + \"ldavis_el1768022076439704408604855381\", ldavis_el1768022076439704408604855381_data);\n",
       "            })\n",
       "         });\n",
       "}\n",
       "</script>"
      ],
      "text/plain": [
       "<IPython.core.display.HTML object>"
      ]
     },
     "execution_count": 25,
     "metadata": {},
     "output_type": "execute_result"
    }
   ],
   "source": [
    "pyLDAvis.enable_notebook(local=True)\n",
    "vis = pyLDAvis.gensim.prepare(lda_model, corpus, id2word)\n",
    "pyLDAvis.display(vis)"
   ]
  },
  {
   "cell_type": "markdown",
   "metadata": {},
   "source": [
    "Using the visualization above:\n",
    "On the left is the topics, the larger the bubble the more popular the topic. The closer the bubble is to another bubble the more similar they are. Moving the cursor over a bubble will show new words and bars on the side. These words are the keywords for that selected topic. "
   ]
  },
  {
   "cell_type": "markdown",
   "metadata": {},
   "source": [
    "Now that we've created the model, we need to find the dominant topic for each sentence."
   ]
  },
  {
   "cell_type": "code",
   "execution_count": 40,
   "metadata": {},
   "outputs": [
    {
     "name": "stdout",
     "output_type": "stream",
     "text": [
      "(1, 0.19357862)\n"
     ]
    },
    {
     "ename": "TypeError",
     "evalue": "'<' not supported between instances of 'int' and 'tuple'",
     "output_type": "error",
     "traceback": [
      "\u001b[1;31m---------------------------------------------------------------------------\u001b[0m",
      "\u001b[1;31mTypeError\u001b[0m                                 Traceback (most recent call last)",
      "\u001b[1;32m<ipython-input-40-1f3fb81c76e7>\u001b[0m in \u001b[0;36m<module>\u001b[1;34m\u001b[0m\n\u001b[0;32m     23\u001b[0m \u001b[1;33m\u001b[0m\u001b[0m\n\u001b[0;32m     24\u001b[0m \u001b[1;33m\u001b[0m\u001b[0m\n\u001b[1;32m---> 25\u001b[1;33m \u001b[0mdf_topic_sents_keywords\u001b[0m \u001b[1;33m=\u001b[0m \u001b[0mformat_topics_sentences\u001b[0m\u001b[1;33m(\u001b[0m\u001b[0mldamodel\u001b[0m\u001b[1;33m=\u001b[0m\u001b[0mlda_model\u001b[0m\u001b[1;33m,\u001b[0m \u001b[0mcorpus\u001b[0m\u001b[1;33m=\u001b[0m\u001b[0mcorpus\u001b[0m\u001b[1;33m,\u001b[0m \u001b[0mtexts\u001b[0m\u001b[1;33m=\u001b[0m\u001b[0mdata\u001b[0m\u001b[1;33m)\u001b[0m\u001b[1;33m\u001b[0m\u001b[1;33m\u001b[0m\u001b[0m\n\u001b[0m\u001b[0;32m     26\u001b[0m \u001b[1;33m\u001b[0m\u001b[0m\n\u001b[0;32m     27\u001b[0m \u001b[1;31m# Format\u001b[0m\u001b[1;33m\u001b[0m\u001b[1;33m\u001b[0m\u001b[1;33m\u001b[0m\u001b[0m\n",
      "\u001b[1;32m<ipython-input-40-1f3fb81c76e7>\u001b[0m in \u001b[0;36mformat_topics_sentences\u001b[1;34m(ldamodel, corpus, texts)\u001b[0m\n\u001b[0;32m      6\u001b[0m     \u001b[1;32mfor\u001b[0m \u001b[0mi\u001b[0m\u001b[1;33m,\u001b[0m \u001b[0mrow\u001b[0m \u001b[1;32min\u001b[0m \u001b[0menumerate\u001b[0m\u001b[1;33m(\u001b[0m\u001b[0mldamodel\u001b[0m\u001b[1;33m[\u001b[0m\u001b[0mcorpus\u001b[0m\u001b[1;33m]\u001b[0m\u001b[1;33m)\u001b[0m\u001b[1;33m:\u001b[0m\u001b[1;33m\u001b[0m\u001b[1;33m\u001b[0m\u001b[0m\n\u001b[0;32m      7\u001b[0m         \u001b[0mprint\u001b[0m\u001b[1;33m(\u001b[0m\u001b[0mrow\u001b[0m\u001b[1;33m[\u001b[0m\u001b[1;36m0\u001b[0m\u001b[1;33m]\u001b[0m\u001b[1;33m[\u001b[0m\u001b[1;36m1\u001b[0m\u001b[1;33m]\u001b[0m\u001b[1;33m)\u001b[0m\u001b[1;33m\u001b[0m\u001b[1;33m\u001b[0m\u001b[0m\n\u001b[1;32m----> 8\u001b[1;33m         \u001b[0mrow\u001b[0m \u001b[1;33m=\u001b[0m \u001b[0msorted\u001b[0m\u001b[1;33m(\u001b[0m\u001b[0mrow\u001b[0m\u001b[1;33m,\u001b[0m \u001b[0mkey\u001b[0m\u001b[1;33m=\u001b[0m\u001b[1;32mlambda\u001b[0m \u001b[0mx\u001b[0m\u001b[1;33m:\u001b[0m \u001b[1;33m(\u001b[0m\u001b[0mx\u001b[0m\u001b[1;33m[\u001b[0m\u001b[1;36m1\u001b[0m\u001b[1;33m]\u001b[0m\u001b[1;33m)\u001b[0m\u001b[1;33m,\u001b[0m \u001b[0mreverse\u001b[0m\u001b[1;33m=\u001b[0m\u001b[1;32mTrue\u001b[0m\u001b[1;33m)\u001b[0m\u001b[1;33m\u001b[0m\u001b[1;33m\u001b[0m\u001b[0m\n\u001b[0m\u001b[0;32m      9\u001b[0m         \u001b[1;31m# Get the Dominant topic, Perc Contribution and Keywords for each document\u001b[0m\u001b[1;33m\u001b[0m\u001b[1;33m\u001b[0m\u001b[1;33m\u001b[0m\u001b[0m\n\u001b[0;32m     10\u001b[0m         \u001b[1;32mfor\u001b[0m \u001b[0mj\u001b[0m\u001b[1;33m,\u001b[0m \u001b[1;33m(\u001b[0m\u001b[0mtopic_num\u001b[0m\u001b[1;33m,\u001b[0m \u001b[0mprop_topic\u001b[0m\u001b[1;33m)\u001b[0m \u001b[1;32min\u001b[0m \u001b[0menumerate\u001b[0m\u001b[1;33m(\u001b[0m\u001b[0mrow\u001b[0m\u001b[1;33m)\u001b[0m\u001b[1;33m:\u001b[0m\u001b[1;33m\u001b[0m\u001b[1;33m\u001b[0m\u001b[0m\n",
      "\u001b[1;31mTypeError\u001b[0m: '<' not supported between instances of 'int' and 'tuple'"
     ]
    }
   ],
   "source": [
    "def format_topics_sentences(ldamodel=lda_model, corpus=corpus, texts=data):\n",
    "    # Init output\n",
    "    sent_topics_df = pd.DataFrame()\n",
    "\n",
    "    # Get main topic in each document\n",
    "    for i, row in enumerate(ldamodel[corpus]):\n",
    "        print(row[0][1])\n",
    "        row = sorted(row, key=lambda x: (x[1]), reverse=True)\n",
    "        # Get the Dominant topic, Perc Contribution and Keywords for each document\n",
    "        for j, (topic_num, prop_topic) in enumerate(row):\n",
    "            if j == 0:  # => dominant topic\n",
    "                wp = ldamodel.show_topic(topic_num)\n",
    "                topic_keywords = \", \".join([word for word, prop in wp])\n",
    "                sent_topics_df = sent_topics_df.append(pd.Series([int(topic_num), round(prop_topic,4), topic_keywords]), ignore_index=True)\n",
    "            else:\n",
    "                break\n",
    "    sent_topics_df.columns = ['Dominant_Topic', 'Perc_Contribution', 'Topic_Keywords']\n",
    "\n",
    "    # Add original text to the end of the output\n",
    "    contents = pd.Series(texts)\n",
    "    sent_topics_df = pd.concat([sent_topics_df, contents], axis=1)\n",
    "    return(sent_topics_df)\n",
    "\n",
    "\n",
    "df_topic_sents_keywords = format_topics_sentences(ldamodel=lda_model, corpus=corpus, texts=data)\n",
    "\n",
    "# Format\n",
    "df_dominant_topic = df_topic_sents_keywords.reset_index()\n",
    "df_dominant_topic.columns = ['Document_No', 'Dominant_Topic', 'Topic_Perc_Contrib', 'Keywords', 'Text']\n",
    "\n",
    "# Show\n",
    "df_dominant_topic.head(10)"
   ]
  },
  {
   "cell_type": "code",
   "execution_count": null,
   "metadata": {},
   "outputs": [],
   "source": []
  }
 ],
 "metadata": {
  "kernelspec": {
   "display_name": "Python 3",
   "language": "python",
   "name": "python3"
  },
  "language_info": {
   "codemirror_mode": {
    "name": "ipython",
    "version": 3
   },
   "file_extension": ".py",
   "mimetype": "text/x-python",
   "name": "python",
   "nbconvert_exporter": "python",
   "pygments_lexer": "ipython3",
   "version": "3.7.3"
  }
 },
 "nbformat": 4,
 "nbformat_minor": 4
}
